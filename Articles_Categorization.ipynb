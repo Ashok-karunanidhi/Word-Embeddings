{
  "cells": [
    {
      "cell_type": "markdown",
      "metadata": {
        "id": "bU1SCVj6dyi1"
      },
      "source": [
        "<h1><center>Word Embedding</center></h1>"
      ]
    },
    {
      "cell_type": "markdown",
      "metadata": {
        "id": "VjfaRLPg7sAe"
      },
      "source": [
        "<center><p float=\"center\">\n",
        "  <img src=\"https://images.pexels.com/photos/242492/pexels-photo-242492.jpeg?auto=compress&cs=tinysrgb&w=1260&h=750&dpr=1\" width=\"720\"/>\n",
        "</p></center>\n",
        "\n",
        "<center><font size=6>Articles Categorization</center></font>"
      ]
    },
    {
      "cell_type": "markdown",
      "metadata": {
        "id": "MjncuDf2qugI"
      },
      "source": [
        "## Problem Statement"
      ]
    },
    {
      "cell_type": "markdown",
      "metadata": {
        "id": "x9VSf2D_F5iU"
      },
      "source": [
        "### Business Context"
      ]
    },
    {
      "cell_type": "markdown",
      "metadata": {
        "id": "RLApwDNbFDEK"
      },
      "source": [
        "In the dynamic landscape of the media and news industry, the ability to swiftly categorize and curate content has become a strategic imperative. The vast volume of information demands efficient systems to organize and present content to the audience.\n",
        "\n",
        "The media industry, being the pulse of information dissemination, grapples with the continuous influx of articles spanning diverse topics. Ensuring that the right articles reaches the right audience promptly is not just a logistical necessity but a critical component in retaining and engaging audiences in an age of information overload.\n",
        "\n",
        "Common Industry Challenges:\n",
        "Amidst the ceaseless flow of news, media organizations encounter challenges such as:\n",
        "- Information Overload: The sheer volume of articles makes manual categorization impractical.\n",
        "- Timeliness: Delays in categorizing articles can result in outdated or misplaced content.\n",
        "- User Engagement: Providing personalized and relevant content is vital for sustaining user interest."
      ]
    },
    {
      "cell_type": "markdown",
      "metadata": {
        "id": "MzSKXh2LsOvd"
      },
      "source": [
        "### Problem Definition"
      ]
    },
    {
      "cell_type": "markdown",
      "metadata": {
        "id": "PdEWl1qZFNWM"
      },
      "source": [
        "InfoWorld, a prominent player in the media landscape, faces these challenges on a monumental scale. With a vast repository of articles covering global affairs, entertainment, politics, and more, the need for an advanced and automated system to categorize articles has become increasingly evident. The manual efforts required for categorizing such a diverse range of articles are substantial, often leading to delays and potential inaccuracies. To streamline and optimize this process, the organization recognizes the imperative of adopting cutting-edge technologies, particularly machine learning, to automate and enhance the categorization of content.\n",
        "\n",
        "As a data scientist on InfoWorld's data team, the task is to analyze articles and construct a predictive model for categorizing them. The goal is to optimize the categorization process, ensuring timely and personalized delivery. Leveraging advanced machine learning techniques, the initiative aims to address technical challenges and pave the way for a seamless intersection of technology and media."
      ]
    },
    {
      "cell_type": "markdown",
      "metadata": {
        "id": "saFx1pbT_zTP"
      },
      "source": [
        "### Data Dictionary"
      ]
    },
    {
      "cell_type": "markdown",
      "metadata": {
        "id": "5rJpifbLGVDe"
      },
      "source": [
        "- Date published: The date when the article or content was officially released or made public.\n",
        "- Category: Categorization indicating the broad topic or subject of the content.\n",
        "- Section: Subdivision within the publication that helps classify the content further.\n",
        "- Headline: Brief and catchy title summarizing the main idea or topic of the content.\n",
        "- Description: A short summary or overview of the content, providing additional context.\n",
        "- Keywords: Relevant keywords or tags associated with the content for search engine optimization.\n",
        "- Article text: The main body of the article or content containing detailed information and context."
      ]
    },
    {
      "cell_type": "markdown",
      "metadata": {
        "id": "tqfNqaJCQeEE"
      },
      "source": [
        "## Importing the necessary libraries"
      ]
    },
    {
      "cell_type": "code",
      "execution_count": null,
      "metadata": {
        "colab": {
          "base_uri": "https://localhost:8080/"
        },
        "id": "V8W8_H30XNWh",
        "outputId": "f398fc99-26f2-4814-b404-6999681d7972"
      },
      "outputs": [],
      "source": [
        "# to read and manipulate the data\n",
        "import pandas as pd\n",
        "import numpy as np\n",
        "pd.set_option('max_colwidth', None)    # setting column to the maximum column width as per the data\n",
        "\n",
        "# to visualise data\n",
        "import matplotlib.pyplot as plt\n",
        "import seaborn as sns\n",
        "\n",
        "# to use regular expressions for manipulating text data\n",
        "import re\n",
        "\n",
        "# to load the natural language toolkit\n",
        "import nltk\n",
        "nltk.download('stopwords')    # loading the stopwords\n",
        "nltk.download('wordnet')    # loading the wordnet module that is used in stemming\n",
        "\n",
        "# to remove common stop words\n",
        "from nltk.corpus import stopwords\n",
        "\n",
        "# to perform stemming\n",
        "from nltk.stem.porter import PorterStemmer\n",
        "\n",
        "# To encode the target variable\n",
        "from sklearn.preprocessing import LabelEncoder\n",
        "\n",
        "# To import Word2Vec\n",
        "from gensim.models import Word2Vec\n",
        "\n",
        "# To tune the model\n",
        "from sklearn.model_selection import GridSearchCV\n",
        "\n",
        "# Converting the Stanford GloVe model vector format to word2vec\n",
        "from gensim.scripts.glove2word2vec import glove2word2vec\n",
        "from gensim.models import KeyedVectors\n",
        "\n",
        "# To split data into train and test sets\n",
        "from sklearn.model_selection import train_test_split\n",
        "\n",
        "# To build a Random Forest model\n",
        "from sklearn.ensemble import RandomForestClassifier\n",
        "\n",
        "# To compute metrics to evaluate the model\n",
        "from sklearn.metrics import confusion_matrix, accuracy_score, f1_score, precision_score, recall_score, classification_report"
      ]
    },
    {
      "cell_type": "markdown",
      "metadata": {
        "id": "fantastic-rebel"
      },
      "source": [
        "## Loading the dataset"
      ]
    },
    {
      "cell_type": "code",
      "execution_count": 3,
      "metadata": {
        "id": "Dtml5eZYPGK9"
      },
      "outputs": [],
      "source": [
        "# loading the dataset\n",
        "df = pd.read_csv('data/Articles.csv')"
      ]
    },
    {
      "cell_type": "code",
      "execution_count": 4,
      "metadata": {
        "id": "JydHzsM391iy"
      },
      "outputs": [],
      "source": [
        "# creating a copy of the dataset\n",
        "data = df.copy()"
      ]
    },
    {
      "cell_type": "markdown",
      "metadata": {
        "id": "vvlzvKeqAH-i"
      },
      "source": [
        "## Data Overview"
      ]
    },
    {
      "cell_type": "markdown",
      "metadata": {
        "id": "cIH4md8nAL4v"
      },
      "source": [
        "### Checking the first five rows of the data"
      ]
    },
    {
      "cell_type": "code",
      "execution_count": 5,
      "metadata": {
        "colab": {
          "base_uri": "https://localhost:8080/",
          "height": 1000
        },
        "id": "MKS-Z7GiCmWX",
        "outputId": "7f9ab2de-0f76-40bb-d4a6-3b1f36eb59b5"
      },
      "outputs": [
        {
          "data": {
            "text/html": [
              "<div>\n",
              "<style scoped>\n",
              "    .dataframe tbody tr th:only-of-type {\n",
              "        vertical-align: middle;\n",
              "    }\n",
              "\n",
              "    .dataframe tbody tr th {\n",
              "        vertical-align: top;\n",
              "    }\n",
              "\n",
              "    .dataframe thead th {\n",
              "        text-align: right;\n",
              "    }\n",
              "</style>\n",
              "<table border=\"1\" class=\"dataframe\">\n",
              "  <thead>\n",
              "    <tr style=\"text-align: right;\">\n",
              "      <th></th>\n",
              "      <th>Date published</th>\n",
              "      <th>Category</th>\n",
              "      <th>Section</th>\n",
              "      <th>Headline</th>\n",
              "      <th>Description</th>\n",
              "      <th>Keywords</th>\n",
              "      <th>Article text</th>\n",
              "    </tr>\n",
              "  </thead>\n",
              "  <tbody>\n",
              "    <tr>\n",
              "      <th>0</th>\n",
              "      <td>2021-07-15 02:46:59</td>\n",
              "      <td>news</td>\n",
              "      <td>world</td>\n",
              "      <td>There's a shortage of truckers, but TuSimple thinks it has a solution: no driver needed - CNN</td>\n",
              "      <td>The e-commerce boom has exacerbated a global truck driver shortage, but could autonomous trucks help fix the problem?</td>\n",
              "      <td>world, There's a shortage of truckers, but TuSimple thinks it has a solution: no driver needed - CNN</td>\n",
              "      <td>(CNN)Right now, there's a shortage of truck drivers in the US and worldwide, exacerbated by the e-commerce boom brought on by the pandemic. One solution to the problem is autonomous trucks, and several companies are in a race to be the first to launch one. Among them is San Diego-based TuSimple.Founded in 2015, TuSimple has completed about 2 million miles of road tests with its 70 prototype trucks across the US, China and Europe. Although these are simply commercially available trucks retrofitted with its technology, TuSimple has deals in place with two of the world's largest truck manufacturers -- Navistar in the US and Traton, Volkswagen's trucking business, in Europe -- to design and build fully autonomous models, which it hopes to launch by 2024. Photos: The Yara Birkeland is what its builders call the world's first zero-emission, autonomous cargo ship. The ship is scheduled to make its first journey between two Norwegian towns before the end of the year. Click through to see more forms of transport set to transform the future.Hide Caption 1 of 13 Photos: Pictured here as a rendering, Oceanbird is a wind-powered transatlantic car carrier that cuts carbon emissions by 90%, compared to a standard car carrier.Hide Caption 2 of 13 Photos: It's not just maritime ships that are going green. Cities around the world are adopting electric ferries. Norwegian startup Zeabuz hopes its self-driving electric ferry (pictured here as a rendering) will help revive urban waterways.Hide Caption 3 of 13 Photos: In China, a new Maglev high-speed train rolls off the production line in Qingdao, east China's Shandong Province, on July 20. It has a top speed of 600 km per hour -- currently the fastest ground vehicle available globally. Hide Caption 4 of 13 Photos: Reaching speeds of up to 1,000 kilometers (620 miles) per hour, Hyperloop could be a sustainable replacement to short-haul flights. Dutch company Hardt (shown here as a rendering) started work on its Hyperloop test facility in Europe, anticipated to open in 2022.Hide Caption 5 of 13 Photos: Hyperloop is like a bullet train, without tracks and rails. Floating pods are propelled through a low-pressure steel tube using magnetic levitation. Virgin has been running tests with passengers on its XP-2 vehicle, pictured here.Hide Caption 6 of 13 Photos: Low carbon travel isn't just about switching to sustainable fuel sources -- it's also about redesigning the transport itself. A \"Flying-V\" plane designed by Delft's University of Technology in the Netherlands and Dutch airline KLM can cut fuel consumption by 20%. Ultimately, researchers hope to switch out the kerosene with a sustainable fuel source, like liquid hydrogen.Hide Caption 7 of 13 Photos: Hydrogen aviation could provide a sustainable solution for short and medium-haul flights. In September, Airbus unveiled plans for three hydrogen-powered, zero-emission aircraft which can carry 100 to 200 passengers. It hopes to launch the first ZEROe aircraft in 2035.Hide Caption 8 of 13 Photos: In December 2019, Canadian airline Harbour Air flew the world's first all-electric, zero-emission commercial aircraft. The six-seater seaplane was retrofitted with magniX's magni500 all-electric motor. Harbour Air -- which carries half a million passengers annually -- hopes to become the world's first all-electric airline. Hide Caption 9 of 13 Photos: In the case of electric bikes, the future is now: one retailer reported the sale of e-bikes and e-scooters had increased 230% this year. E-bikes give the user a boost to their pedaling, allowing them to go further with less effort. E-bikes are now even available on ride-share apps, like Uber.Hide Caption 10 of 13 Photos: While sleeper trains or buses might be the way most of us get some shut-eye on overnight travel, this rendering of a self-driving hotel suite from Toronto-based designer Steve Lee of Aprilli Design Studio might offer a plush alternative in the future.Hide Caption 11 of 13 Photos: In the UAE, these futuristic-looking pods are undergoing testing on a 400-meter line in Sharjah, which borders Dubai. Belarus-based uSky Transport says its pods can help cities solve traffic problems.Hide Caption 12 of 13 Photos: The Coradia iLint by French rail transport company Alstom is the world's first hydrogen-powered passenger train. It began testing in Germany in 2018, and in September 2020 entered regular service in Austria.Hide Caption 13 of 13No sleepTuSimple's latest road test involved hauling fresh produce 951 miles, from Nogales, Arizona to Oklahoma City. The pickup and the dropoff were handled by a human driver, but for the bulk of the route -- from Tucson to Dallas -- the truck drove itself. Read More\"Today, because the system is not fully ready, we have a safety driver and a safety engineer on board at all times when we're testing, but we drove in full autonomy: the driver wasn't touching the wheel,\" said Cheng Lu, TuSimple's president and CEO. The journey was completed in 14 hours versus the usual 24 with a human driver, mostly because a truck doesn't need to sleep. \"In the US, a driver can only work 11 hours a day. We simply had a handoff when our first pair of drivers had to stop because they reached their 11 hours of operation,\" said Lu. That, of course, negates the advantage of an autonomous system, so the idea is that once TuSimple's trucks hit the market, there will be no need to have anyone onboard. Picking up the watermelons still required the human touch.Unlike self-driving cars, which are a still a way from being commercially available, TuSimple trucks won't be required to operate in bustling city traffic, but only on stretches of highway that have been thoroughly mapped via the company's own software. \"We collect data from the roads, and we create this very detailed, high definition map of each route. That adds another layer of safety for the vehicles,\" said Lu. As a result, TuSimple's trucks will only be able to self-drive along these pre-mapped trade corridors, which Lu calls \"virtual railroads,\" and nowhere else. This swarm of robots gets smarter the more it worksAccording to the company, in the US 80% of goods travel through just 10% of the nation's trade corridors, so even selective mapping allows for capturing a large portion of the business. TuSimple is currently mapping routes between Arizona and Texas, and plans to have mapped routes across the nation by 2024. Its plans are dependent on state legislation, however, because currently some states do not allow for testing of autonomous trucks on public roads. Happier drivers?The technology will add about $50,000 to the cost of a truck, making the final price roughly $200,000. According to Lu, that's still cheaper than paying for a human driver. \"If you take $50,000 and divide it by 1 million miles, the average lifespan of a truck, that means you're adding five cents per mile. But you're saving the cost of a human driver, which based on average US wages is about $80,000 to $120,000 per year -- or 80 cents to $1.20 per mile. Today, the direct labor cost is about 50% of the cost of operating a truck,\" he said. Read: A robotic 'Ironhand' could protect factory workers from injuriesThat doesn't mean driverless trucks will take away jobs, according to Lu. By focusing on the \"middle mile,\" rather than on the pickup and delivery of the goods, TuSimple believes it can create new freight capacity without creating new demand for drivers, while at the same time protecting existing jobs. \"A UPS driver is dropping off 200 packages a day -- that's not what autonomy is meant for. We believe that every driver will be able to retire as a driver, even if they enter the workforce today,\" said Lu. TuSimple's autonomous fleet.Instead, TuSimple aims to take over the routes between terminals and distribution centers, which involve long stretches of monotonous driving. \"Take Phoenix to El Paso: that's a six-hour drive. A person cannot make the round trip, because it's more than 11 hours. But the truck can go back and forth all day, the most mundane job that drivers don't want to do. That means you free up that human driver to do the first and the last mile (pickup and delivery).They get to work a full day, which is a more efficient use of their time, and they get to go home at night to their family,\" said Lu.No distractions Although Lu says that the reliability of both the software and the hardware still needs to be increased, TuSimple is planning its first fully autonomous tests, without a human safety driver in the cabin at all, before the end of the year. The results of such tests will indicate whether the company can meet its goal to launch its own trucks by 2024. Lu says that 7,000 have been reserved in the US alone. Photos: The robots running our warehouses Photos: The robots running our warehousesRobots are an increasingly familiar presence in warehouses. At the south-east London warehouse run by British online supermarket Ocado, 3,000 robots fulfill shopping orders. When an order is sent to the warehouse, the bots spring to life and head towards the container they require. Scroll through to see more robots that are revolutionizing warehouses.Hide Caption 1 of 8 Photos: The robots running our warehousesIn response to the coronavirus pandemic, MIT collaborated with Ava Robotics and the Greater Boston Food Bank to design a robot that can use UV light to sanitize the floor of a 4,000-square foot warehouse in just 30 minutes. Hide Caption 2 of 8 Photos: The robots running our warehousesSeven-foot \"Model-T\" robots produced by Japanese startup Telexistence have been stacking shelves in two of Tokyo's largest convenience store franchises. Featuring cameras, microphones and sensors, the Model-T uses three \"fingers\" to stock items such as bottled drinks, cans and rice bowls. The robot is controlled by shop staff remotely.Hide Caption 3 of 8 Photos: The robots running our warehousesUS company Boston Dynamics has become known for its advanced work robots. \"Handle\" is made for the warehouse and equipped with an on-board vision system. It can lift boxes weighing over 30 pounds. Hide Caption 4 of 8 Photos: The robots running our warehousesStretch is the latest robot from Boston Dynamics and can work in warehouses and distribution centers. Designed to keep human workers out of harm's way, Stretch's tentacle-like grippers mean it can manipulate boxes. Hide Caption 5 of 8 Photos: The robots running our warehousesAlthough not specifically designed for warehouses, Boston Dynamics' dog-like robot \"Spot\" can lift objects, pick itself up after a fall, open and walk through doors, and even remind people to practice social distancing. Hide Caption 6 of 8 Photos: The robots running our warehousesThis robot is used to plant seeds and check plants at the \"Nordic Harvest\" vertical farm  based in Taastrup, Denmark. The indoor farm is one of the biggest in Europe.Hide Caption 7 of 8 Photos: The robots running our warehousesRobots sort packages at a warehouse run by JD.com -- one of China's largest e-commerce firms, in Wuhan, China, ahead of the annual Singles Day online shopping bonanza, in 2019.Hide Caption 8 of 8 TuSimple has prominent competitors, such as Google spinoff Waymo and Uber-backed Aurora, but those are working on a wider range of self-driving vehicles, including passenger cars. TuSimple is working exclusively on driverless trucks, like US companies Plus and Embark. Grayson Brulte, an autonomy expert at consulting firm Brulte &amp; Co., believes TuSimple is on the right track. \"The biggest competitive advantage that TuSimple has over its competitors is that their technology was purpose-built for trucking. They're not trying to port an autonomy system built for passenger vehicles in dense urban environments to trucking or to build a virtual driver which can both drive passenger vehicles and class-8 trucks. These are different skills and different systems altogether,\" he said. Removing the human element on long trucking routes has other benefits. The company says its trucks react 15 times faster than human drivers, and can see farther down the road, even at night. \"In the US every year there are about 5,000 fatalities involving trucks, and most are due to human error,\" said Lu. \"The truck doesn't get tired, doesn't watch a movie or look at a phone. It doesn't get distracted.\"</td>\n",
              "    </tr>\n",
              "    <tr>\n",
              "      <th>1</th>\n",
              "      <td>2021-05-12 07:52:09</td>\n",
              "      <td>news</td>\n",
              "      <td>world</td>\n",
              "      <td>Bioservo's robotic 'Ironhand' could protect factory workers from injuries - CNN</td>\n",
              "      <td>Working in a factory can mean doing the same task over and over, which could lead to chronic injury.  A battery-powered glove from Swedish company Bioservo could help workers by taking some of the strain.</td>\n",
              "      <td>world, Bioservo's robotic 'Ironhand' could protect factory workers from injuries - CNN</td>\n",
              "      <td>(CNN)Working in a factory or warehouse can mean doing the same task over and over, and that repetition can lead to chronic injury. Now, a battery-powered glove could help workers by taking some of the strain.The \"Ironhand\" glove strengthens the wearer's grip, meaning they don't have to use as much force to perform repetitive manual tasks. Its developer, Bioservo, says it can increase the wearer's hand strength by 20%. The Swedish company describes the system as a \"soft exoskeleton.\" Exoskeletons are an external device that supports and protects the body, typically increasing strength and endurance. Most have a rigid structure, but the Ironhand is soft, like a regular glove.  Photos: The robots running our warehousesRobots are an increasingly familiar presence in warehouses. At the south-east London warehouse run by British online supermarket Ocado, 3,000 robots fulfill shopping orders. When an order is sent to the warehouse, the bots spring to life and head towards the container they require. Scroll through to see more robots that are revolutionizing warehouses.Hide Caption 1 of 8 Photos: The robots running our warehousesIn response to the coronavirus pandemic, MIT collaborated with Ava Robotics and the Greater Boston Food Bank to design a robot that can use UV light to sanitize the floor of a 4,000-square foot warehouse in just 30 minutes. Hide Caption 2 of 8 Photos: The robots running our warehousesSeven-foot \"Model-T\" robots produced by Japanese startup Telexistence have been stacking shelves in two of Tokyo's largest convenience store franchises. Featuring cameras, microphones and sensors, the Model-T uses three \"fingers\" to stock items such as bottled drinks, cans and rice bowls. The robot is controlled by shop staff remotely.Hide Caption 3 of 8 Photos: The robots running our warehousesUS company Boston Dynamics has become known for its advanced work robots. \"Handle\" is made for the warehouse and equipped with an on-board vision system. It can lift boxes weighing over 30 pounds. Hide Caption 4 of 8 Photos: The robots running our warehousesStretch is the latest robot from Boston Dynamics and can work in warehouses and distribution centers. Designed to keep human workers out of harm's way, Stretch's tentacle-like grippers mean it can manipulate boxes. Hide Caption 5 of 8 Photos: The robots running our warehousesAlthough not specifically designed for warehouses, Boston Dynamics' dog-like robot \"Spot\" can lift objects, pick itself up after a fall, open and walk through doors, and even remind people to practice social distancing. Hide Caption 6 of 8 Photos: The robots running our warehousesThis robot is used to plant seeds and check plants at the \"Nordic Harvest\" vertical farm  based in Taastrup, Denmark. The indoor farm is one of the biggest in Europe.Hide Caption 7 of 8 Photos: The robots running our warehousesRobots sort packages at a warehouse run by JD.com -- one of China's largest e-commerce firms, in Wuhan, China, ahead of the annual Singles Day online shopping bonanza, in 2019.Hide Caption 8 of 8Reducing fatigue\"When you have the glove on, it provides strength and reduces the effort needed when lifting objects,\" says Mikael Wester, Bioservo's marketing director. \"It's all in order to reduce fatigue and prevent strain injuries in the long run.\"The Ironhand system was developed with General Motors as a partner.Read MoreThe system consists of a backpack, which houses the power pack, and artificial tendons that connect to the glove. There are sensors on each fingertip which switch on the motor when a user grabs an object. A remote control or app can be used to adjust the strength and sensitivity of the grip.Wester says applications include assembly on the production line in the automotive industry, using tools in construction and lifting heavy objects in warehouses.Each Ironhand system costs around €6,000 ($7,275). The device also collects data that allows the company to assess the wearer's risk of developing strain injuries.  According to the European Agency for Safety and Health at Work, work-related neck and upper limb disorders are the most common occupational disease in Europe, costing national economies up to 2% of their gross national product.From NASA to General Motors The glove was originally intended for workers in a very different setting to the factory floor. NASA developed an early version of the technology, called \"Robo-Glove,\" to help astronauts grasp objects and carry out work in space. The Ironhand system being used for assembling parts in the automobile industry. Bioservo licensed the design in 2016 and then partnered with auto manufacturer General Motors (GM) to develop the glove for its workers. Why online supermarket Ocado wants to take the human touch out of groceries\"Ergonomics is really the field of trying to fit the jobs to the workers, instead of the workers having to conform and adapt to the job,\" says Stephen Krajcarski, a senior manager with GM's ergonomics team.\"By using tools such as the Ironhand we are really trying to mitigate any potential concerns or physical demands that may eventually cause a medical concern for that individual operator.\"  Krajcarski says GM has helped Bioservo to test and improve the Ironhand by piloting it in a variety of jobs at its manufacturing plants. He says some workers have found it easy to use but adds that it's not suitable for all situations.The Ironhand is just one of the exoskeletons GM is looking into. According to market research firm ABI Research, the exoskeleton market will grow from $392 million in 2020 to $6.8 billion in 2030.\"If you look at exoskeletons, this is just one of the tools that are out there,\" says Krajcarski. \"But this is an exciting technology.\"This story has been updated to correct the cost of the Ironhand system.</td>\n",
              "    </tr>\n",
              "    <tr>\n",
              "      <th>2</th>\n",
              "      <td>2021-06-16 02:51:30</td>\n",
              "      <td>news</td>\n",
              "      <td>asia</td>\n",
              "      <td>This swarm of robots gets smarter the more it works - CNN</td>\n",
              "      <td>In a Hong Kong warehouse, a swarm of autonomous robots works 24/7. They're not just working hard, they're working smart; as they operate, they get better at their job.</td>\n",
              "      <td>asia, This swarm of robots gets smarter the more it works - CNN</td>\n",
              "      <td>(CNN)In a Hong Kong warehouse, a swarm of autonomous robots works 24/7. They're not just working hard, they're working smart; as they operate, they get better at their job.The Autonomous Mobile Robots were developed by Chinese startup Geek+. As they move around the warehouse they're guided by QR codes on the floor, and using AI they are able to make their own decisions, including what direction to travel and what route to take to their destination.  Photos: The robots running our warehousesRobots are an increasingly familiar presence in warehouses. At the south-east London warehouse run by British online supermarket Ocado, 3,000 robots fulfill shopping orders. When an order is sent to the warehouse, the bots spring to life and head towards the container they require. Scroll through to see more robots that are revolutionizing warehouses.Hide Caption 1 of 8 Photos: The robots running our warehousesIn response to the coronavirus pandemic, MIT collaborated with Ava Robotics and the Greater Boston Food Bank to design a robot that can use UV light to sanitize the floor of a 4,000-square foot warehouse in just 30 minutes. Hide Caption 2 of 8 Photos: The robots running our warehousesSeven-foot \"Model-T\" robots produced by Japanese startup Telexistence have been stacking shelves in two of Tokyo's largest convenience store franchises. Featuring cameras, microphones and sensors, the Model-T uses three \"fingers\" to stock items such as bottled drinks, cans and rice bowls. The robot is controlled by shop staff remotely.Hide Caption 3 of 8 Photos: The robots running our warehousesUS company Boston Dynamics has become known for its advanced work robots. \"Handle\" is made for the warehouse and equipped with an on-board vision system. It can lift boxes weighing over 30 pounds. Hide Caption 4 of 8 Photos: The robots running our warehousesStretch is the latest robot from Boston Dynamics and can work in warehouses and distribution centers. Designed to keep human workers out of harm's way, Stretch's tentacle-like grippers mean it can manipulate boxes. Hide Caption 5 of 8 Photos: The robots running our warehousesAlthough not specifically designed for warehouses, Boston Dynamics' dog-like robot \"Spot\" can lift objects, pick itself up after a fall, open and walk through doors, and even remind people to practice social distancing. Hide Caption 6 of 8 Photos: The robots running our warehousesThis robot is used to plant seeds and check plants at the \"Nordic Harvest\" vertical farm  based in Taastrup, Denmark. The indoor farm is one of the biggest in Europe.Hide Caption 7 of 8 Photos: The robots running our warehousesRobots sort packages at a warehouse run by JD.com -- one of China's largest e-commerce firms, in Wuhan, China, ahead of the annual Singles Day online shopping bonanza, in 2019.Hide Caption 8 of 8A team tracks these movements and uses the data to improve their algorithms, making the robots more efficient.Robots have become commonplace in warehouses worldwide and Geek+ says it has more than 15,000 robots in over 30 countries, including in Nike and Decathlon warehouses. Managing director Lit Fung says having robots that become more efficient over time helps companies meet demands for fast delivery, as well as reducing labor costs and human error. Read More\"Everyone is looking for an automation solution to apply to their warehouse,\" he says.  Watch the video for the full story.</td>\n",
              "    </tr>\n",
              "    <tr>\n",
              "      <th>3</th>\n",
              "      <td>2022-03-15 09:57:36</td>\n",
              "      <td>business</td>\n",
              "      <td>investing</td>\n",
              "      <td>Russia is no longer an option for investors. These emerging markets are - CNN</td>\n",
              "      <td>For many years, the world's most popular emerging markets have been the so-called BRICS: Brazil, Russia, India, China and South Africa.</td>\n",
              "      <td>investing, Russia is no longer an option for investors. These emerging markets are - CNN</td>\n",
              "      <td>New York (CNN Business)For many years, the world's most popular emerging markets have been the so-called BRICS: Brazil, Russia, India, China and South Africa.But given that Russia is no longer a market that Westerners can access following the invasion of Ukraine, it might be time for investors to stop lumping all of the emerging markets together.\"The BRICS had their day in the sun and that has faded,\" said Eric Winograd, senior economist at AllianceBernstein.Several major US index providers have removed Russian stocks from indexes at a price of \"zero\" or \"effectively zero.\" Trading shares of several leading US-listed Russian companies, such as search engine Yandex and telecom MTS, have been halted. And the Moscow Stock Exchange has been closed since February 25, the day after the invasion.Russia could default on its debt within days\"The idea that a country as large as Russia can be removed from indexes is a big deal,\" Winograd said.Read MoreIt seems likely that Russia will not be included in top emerging markets funds anytime soon. Even for those Westerners still willing to invest in Russian assets, it's not clear what comes next.\"Some investors are asking about exposure to Russia in emerging markets funds. With indexes starting to exclude Russia, it's still a wait-and-see game,\" said Mychal Campos, head of investing at Betterment.For investors looking to get exposure to emerging markets, Winograd said, each country should be looked at individually.\"The name of the game will be differentiation. Don't invest in emerging markets based on an acronym,\" Winograd said. \"It's always strange to say that Argentina and South Korea are the same thing, for example. They're not.\" Forget the BRICS and look at TICKS or MIST?To stick with the acronyms, the shutdown of the Russian stock market has essentially turned the BRICS into the BICS — and that could be a permanent change, said Rahul Sen Sharma, managing partner with Indxx, a global index provider. \"Will investors ever embrace Russia again? If there is no liquidity, it's a moot point. But it's also hard to believe that people will rush into Russia anytime soon,\" Sen Sharma told CNN Business.Sen Sharma said some investors may start to look at other emerging markets to replace Russia, such as Taiwan and South Korea. The BRICS could become the TICKS. He added that Poland, Turkey and Mexico are intriguing, as are the Philippines and Indonesia. You could dub Mexico, Indonesia, South Korea and Turkey the MIST markets. \"People love their acronyms,\" Sen Sharma joked.Of course, any emerging market in Europe — think Poland —  is inherently risky because of how close it is geographically to Russia and Ukraine. So other Central and Eastern European nations may be a hard sell for Western investors.War in Ukraine has sparked a scramble for dollarsOther experts argue that investors are looking more at individual companies in emerging markets and less at the countries themselves.\"A typical investor sees emerging markets as a class of stocks. It's a piece of a portfolio,\" said Callie Cox, US investment analyst at eToro.\"The emerging markets landscape has been changing for awhile,\" Cox added, noting that many investors have been skeptical of Russia since its annexation of Crimea in 2014. \"There has been more anxiety.\"</td>\n",
              "    </tr>\n",
              "    <tr>\n",
              "      <th>4</th>\n",
              "      <td>2022-03-15 11:27:02</td>\n",
              "      <td>business</td>\n",
              "      <td>business</td>\n",
              "      <td>Russian energy investment ban part of new EU sanctions wave  - CNN</td>\n",
              "      <td>The European Union formally approved on Tuesday a new barrage of sanctions against Russia for its invasion of Ukraine, which include bans on investments in the Russian energy sector, luxury goods exports and imports of steel products from Russia.</td>\n",
              "      <td>business, Russian energy investment ban part of new EU sanctions wave  - CNN</td>\n",
              "      <td>The European Union formally approved on Tuesday a new barrage of sanctions against Russia for its invasion of Ukraine, which include bans on investments in the Russian energy sector, luxury goods exports and imports of steel products from Russia.The sanctions, which come into effect after publication in the EU official journal later on Tuesday, also freeze the assets of more business leaders who support the Russian state, including Chelsea football club owner Roman Abramovich. The European Commission said in a statement on Tuesday that the sanctions included \"a far-reaching ban on new investment across the Russian energy sector with limited exceptions for civil nuclear energy and the transport of certain energy products back to the EU.\"The measure will hit Russia's oil majors Rosneft, Transneft and Gazprom Neft (GZPFY), but EU members will be still able to buy oil and gas from them, an EU source told Reuters.There will also be a total ban on transactions with some Russian state-owned enterprises linked to the Kremlin's military-industrial complex, the EU executive said.Read MoreThe bloc reached a preliminary agreement on the new sanctions on Monday, and no objections were raised before an agreed deadline.The ban on Russian steel imports is estimated to affect 3.3 billion euros ($3.6 billion) worth of products, the Commission said.EU companies will also be no longer allowed to export any luxury goods worth more than 300 euros, including jewelry. Exports of cars costing more than 50,000 euros will also be banned, EU sources said.The package also prohibits EU credit rating agencies from issuing ratings for Russia and Russian companies, which the Commission says will further restrict their access to European financial markets.The latest sanctions follow three rounds of punitive measures which included freezing of assets of the Russian central bank and the exclusion from the SWIFT banking system of some Russian and Belarusian banks.The EU also agreed on Tuesday to strip Russia of its \"most-favored nation\" trade status, opening the door to punitive tariffs on Russian goods or outright import bans.UK slaps 35% tariff on Russian vodkaThe UK government also announced a fresh round of sanctions on Russia on Tuesday. It will ban the export of luxury goods to Russia and will introduce tariffs on Russian goods worth more than $1 billion. The additional 35% tariff will be applied to imports including vodka, steel, works of art and fur. The United Kingdom will also deny Russia and Belarus access to its most favoured nation trading tariff for hundreds of their exports, effectively depriving both countries of key benefits of their WTO membership.\"Our new tariffs will further isolate the Russian economy from global trade, ensuring it does not benefit from the rules-based international system it does not respect. These tariffs build on the UK's existing work to starve Russia's access to international finance, sanction Putin's cronies and exert maximum economic pressure on his regime,\" finance minister Rishi Sunak said in a statement.— CNN's Rob North contributed to this article.</td>\n",
              "    </tr>\n",
              "  </tbody>\n",
              "</table>\n",
              "</div>"
            ],
            "text/plain": [
              "        Date published  Category    Section  \\\n",
              "0  2021-07-15 02:46:59      news      world   \n",
              "1  2021-05-12 07:52:09      news      world   \n",
              "2  2021-06-16 02:51:30      news       asia   \n",
              "3  2022-03-15 09:57:36  business  investing   \n",
              "4  2022-03-15 11:27:02  business   business   \n",
              "\n",
              "                                                                                        Headline  \\\n",
              "0  There's a shortage of truckers, but TuSimple thinks it has a solution: no driver needed - CNN   \n",
              "1                Bioservo's robotic 'Ironhand' could protect factory workers from injuries - CNN   \n",
              "2                                      This swarm of robots gets smarter the more it works - CNN   \n",
              "3                  Russia is no longer an option for investors. These emerging markets are - CNN   \n",
              "4                             Russian energy investment ban part of new EU sanctions wave  - CNN   \n",
              "\n",
              "                                                                                                                                                                                                                                              Description  \\\n",
              "0                                                                                                                                   The e-commerce boom has exacerbated a global truck driver shortage, but could autonomous trucks help fix the problem?   \n",
              "1                                            Working in a factory can mean doing the same task over and over, which could lead to chronic injury.  A battery-powered glove from Swedish company Bioservo could help workers by taking some of the strain.   \n",
              "2                                                                                 In a Hong Kong warehouse, a swarm of autonomous robots works 24/7. They're not just working hard, they're working smart; as they operate, they get better at their job.   \n",
              "3                                                                                                                 For many years, the world's most popular emerging markets have been the so-called BRICS: Brazil, Russia, India, China and South Africa.   \n",
              "4  The European Union formally approved on Tuesday a new barrage of sanctions against Russia for its invasion of Ukraine, which include bans on investments in the Russian energy sector, luxury goods exports and imports of steel products from Russia.   \n",
              "\n",
              "                                                                                               Keywords  \\\n",
              "0  world, There's a shortage of truckers, but TuSimple thinks it has a solution: no driver needed - CNN   \n",
              "1                world, Bioservo's robotic 'Ironhand' could protect factory workers from injuries - CNN   \n",
              "2                                       asia, This swarm of robots gets smarter the more it works - CNN   \n",
              "3              investing, Russia is no longer an option for investors. These emerging markets are - CNN   \n",
              "4                          business, Russian energy investment ban part of new EU sanctions wave  - CNN   \n",
              "\n",
              "                                                                                                                                                                                                                                                                                                                                                                                                                                                                                                                                                                                                                                                                                                                                                                                                                                                                                                                                                                                                                                                                                                                                                                                                                                                                                                                                                                                                                                                                                                                                                                                                                                                                                                                                                                                                                                                                                                                                                                                                                                                                                                                                                                                                                                                                                                                                                                                                                                                                                                                                                                                                                                                                                                                                                                                                                                                                                                                                                                                                                                                                                                                                                                                                                                                                                                                                                                                                                                                                                                                                                                                                                                                                                                                                                                                                                                                                                                                                                                                                                                                                                                                                                                                                                                                                                                                                                                                                                                                                                                                                                                                                                                                                                                                                                                                                                                                                                                                                                                                                                                                                                                                                                                                                                                                                                                                                                                                                                                                                                                                                                                                                                                                                                                                                                                                                                                                                                                                                                                                                                                                                                                                                                                                                                                                                                                                                                                                                                                                                                                                                                                                                                                                                                                                                                                                                                                                                                                                                                                                                                                                                                                                                                                                                                                                                                                                                                                                                                                                                                                                                                                                                                                                                                                                                                                                                                                                                                                                                                                                                                                                                                                                                                                                                                                                                                                                                                                                                                                                                                                                                                                                                                                                                                                                                                                                                                                                                                                                                                                                                                                                                                                                                                                                                                                                                                                                                                                                                                                                                                                                                                                                                                                                                                                                                                                                                                                                                                                                                                                                                                                                                                                                                                                                                                                                                                                                                                                                                                                                                                                                                                                                                                                                                                                                                                                                                                                                                                                                                                                                                                                                                                                                                                                                                                                                                                                                                                                                                                                                                                                                                                                                                                                                                                                                                                                                                                                                                                                                                                                                                                                                                                                                                                                                                                                                                                                                                                                                                                                                                                                                                                                                                                                                                                                                                                                                                                                                                Article text  \n",
              "0   (CNN)Right now, there's a shortage of truck drivers in the US and worldwide, exacerbated by the e-commerce boom brought on by the pandemic. One solution to the problem is autonomous trucks, and several companies are in a race to be the first to launch one. Among them is San Diego-based TuSimple.Founded in 2015, TuSimple has completed about 2 million miles of road tests with its 70 prototype trucks across the US, China and Europe. Although these are simply commercially available trucks retrofitted with its technology, TuSimple has deals in place with two of the world's largest truck manufacturers -- Navistar in the US and Traton, Volkswagen's trucking business, in Europe -- to design and build fully autonomous models, which it hopes to launch by 2024. Photos: The Yara Birkeland is what its builders call the world's first zero-emission, autonomous cargo ship. The ship is scheduled to make its first journey between two Norwegian towns before the end of the year. Click through to see more forms of transport set to transform the future.Hide Caption 1 of 13 Photos: Pictured here as a rendering, Oceanbird is a wind-powered transatlantic car carrier that cuts carbon emissions by 90%, compared to a standard car carrier.Hide Caption 2 of 13 Photos: It's not just maritime ships that are going green. Cities around the world are adopting electric ferries. Norwegian startup Zeabuz hopes its self-driving electric ferry (pictured here as a rendering) will help revive urban waterways.Hide Caption 3 of 13 Photos: In China, a new Maglev high-speed train rolls off the production line in Qingdao, east China's Shandong Province, on July 20. It has a top speed of 600 km per hour -- currently the fastest ground vehicle available globally. Hide Caption 4 of 13 Photos: Reaching speeds of up to 1,000 kilometers (620 miles) per hour, Hyperloop could be a sustainable replacement to short-haul flights. Dutch company Hardt (shown here as a rendering) started work on its Hyperloop test facility in Europe, anticipated to open in 2022.Hide Caption 5 of 13 Photos: Hyperloop is like a bullet train, without tracks and rails. Floating pods are propelled through a low-pressure steel tube using magnetic levitation. Virgin has been running tests with passengers on its XP-2 vehicle, pictured here.Hide Caption 6 of 13 Photos: Low carbon travel isn't just about switching to sustainable fuel sources -- it's also about redesigning the transport itself. A \"Flying-V\" plane designed by Delft's University of Technology in the Netherlands and Dutch airline KLM can cut fuel consumption by 20%. Ultimately, researchers hope to switch out the kerosene with a sustainable fuel source, like liquid hydrogen.Hide Caption 7 of 13 Photos: Hydrogen aviation could provide a sustainable solution for short and medium-haul flights. In September, Airbus unveiled plans for three hydrogen-powered, zero-emission aircraft which can carry 100 to 200 passengers. It hopes to launch the first ZEROe aircraft in 2035.Hide Caption 8 of 13 Photos: In December 2019, Canadian airline Harbour Air flew the world's first all-electric, zero-emission commercial aircraft. The six-seater seaplane was retrofitted with magniX's magni500 all-electric motor. Harbour Air -- which carries half a million passengers annually -- hopes to become the world's first all-electric airline. Hide Caption 9 of 13 Photos: In the case of electric bikes, the future is now: one retailer reported the sale of e-bikes and e-scooters had increased 230% this year. E-bikes give the user a boost to their pedaling, allowing them to go further with less effort. E-bikes are now even available on ride-share apps, like Uber.Hide Caption 10 of 13 Photos: While sleeper trains or buses might be the way most of us get some shut-eye on overnight travel, this rendering of a self-driving hotel suite from Toronto-based designer Steve Lee of Aprilli Design Studio might offer a plush alternative in the future.Hide Caption 11 of 13 Photos: In the UAE, these futuristic-looking pods are undergoing testing on a 400-meter line in Sharjah, which borders Dubai. Belarus-based uSky Transport says its pods can help cities solve traffic problems.Hide Caption 12 of 13 Photos: The Coradia iLint by French rail transport company Alstom is the world's first hydrogen-powered passenger train. It began testing in Germany in 2018, and in September 2020 entered regular service in Austria.Hide Caption 13 of 13No sleepTuSimple's latest road test involved hauling fresh produce 951 miles, from Nogales, Arizona to Oklahoma City. The pickup and the dropoff were handled by a human driver, but for the bulk of the route -- from Tucson to Dallas -- the truck drove itself. Read More\"Today, because the system is not fully ready, we have a safety driver and a safety engineer on board at all times when we're testing, but we drove in full autonomy: the driver wasn't touching the wheel,\" said Cheng Lu, TuSimple's president and CEO. The journey was completed in 14 hours versus the usual 24 with a human driver, mostly because a truck doesn't need to sleep. \"In the US, a driver can only work 11 hours a day. We simply had a handoff when our first pair of drivers had to stop because they reached their 11 hours of operation,\" said Lu. That, of course, negates the advantage of an autonomous system, so the idea is that once TuSimple's trucks hit the market, there will be no need to have anyone onboard. Picking up the watermelons still required the human touch.Unlike self-driving cars, which are a still a way from being commercially available, TuSimple trucks won't be required to operate in bustling city traffic, but only on stretches of highway that have been thoroughly mapped via the company's own software. \"We collect data from the roads, and we create this very detailed, high definition map of each route. That adds another layer of safety for the vehicles,\" said Lu. As a result, TuSimple's trucks will only be able to self-drive along these pre-mapped trade corridors, which Lu calls \"virtual railroads,\" and nowhere else. This swarm of robots gets smarter the more it worksAccording to the company, in the US 80% of goods travel through just 10% of the nation's trade corridors, so even selective mapping allows for capturing a large portion of the business. TuSimple is currently mapping routes between Arizona and Texas, and plans to have mapped routes across the nation by 2024. Its plans are dependent on state legislation, however, because currently some states do not allow for testing of autonomous trucks on public roads. Happier drivers?The technology will add about $50,000 to the cost of a truck, making the final price roughly $200,000. According to Lu, that's still cheaper than paying for a human driver. \"If you take $50,000 and divide it by 1 million miles, the average lifespan of a truck, that means you're adding five cents per mile. But you're saving the cost of a human driver, which based on average US wages is about $80,000 to $120,000 per year -- or 80 cents to $1.20 per mile. Today, the direct labor cost is about 50% of the cost of operating a truck,\" he said. Read: A robotic 'Ironhand' could protect factory workers from injuriesThat doesn't mean driverless trucks will take away jobs, according to Lu. By focusing on the \"middle mile,\" rather than on the pickup and delivery of the goods, TuSimple believes it can create new freight capacity without creating new demand for drivers, while at the same time protecting existing jobs. \"A UPS driver is dropping off 200 packages a day -- that's not what autonomy is meant for. We believe that every driver will be able to retire as a driver, even if they enter the workforce today,\" said Lu. TuSimple's autonomous fleet.Instead, TuSimple aims to take over the routes between terminals and distribution centers, which involve long stretches of monotonous driving. \"Take Phoenix to El Paso: that's a six-hour drive. A person cannot make the round trip, because it's more than 11 hours. But the truck can go back and forth all day, the most mundane job that drivers don't want to do. That means you free up that human driver to do the first and the last mile (pickup and delivery).They get to work a full day, which is a more efficient use of their time, and they get to go home at night to their family,\" said Lu.No distractions Although Lu says that the reliability of both the software and the hardware still needs to be increased, TuSimple is planning its first fully autonomous tests, without a human safety driver in the cabin at all, before the end of the year. The results of such tests will indicate whether the company can meet its goal to launch its own trucks by 2024. Lu says that 7,000 have been reserved in the US alone. Photos: The robots running our warehouses Photos: The robots running our warehousesRobots are an increasingly familiar presence in warehouses. At the south-east London warehouse run by British online supermarket Ocado, 3,000 robots fulfill shopping orders. When an order is sent to the warehouse, the bots spring to life and head towards the container they require. Scroll through to see more robots that are revolutionizing warehouses.Hide Caption 1 of 8 Photos: The robots running our warehousesIn response to the coronavirus pandemic, MIT collaborated with Ava Robotics and the Greater Boston Food Bank to design a robot that can use UV light to sanitize the floor of a 4,000-square foot warehouse in just 30 minutes. Hide Caption 2 of 8 Photos: The robots running our warehousesSeven-foot \"Model-T\" robots produced by Japanese startup Telexistence have been stacking shelves in two of Tokyo's largest convenience store franchises. Featuring cameras, microphones and sensors, the Model-T uses three \"fingers\" to stock items such as bottled drinks, cans and rice bowls. The robot is controlled by shop staff remotely.Hide Caption 3 of 8 Photos: The robots running our warehousesUS company Boston Dynamics has become known for its advanced work robots. \"Handle\" is made for the warehouse and equipped with an on-board vision system. It can lift boxes weighing over 30 pounds. Hide Caption 4 of 8 Photos: The robots running our warehousesStretch is the latest robot from Boston Dynamics and can work in warehouses and distribution centers. Designed to keep human workers out of harm's way, Stretch's tentacle-like grippers mean it can manipulate boxes. Hide Caption 5 of 8 Photos: The robots running our warehousesAlthough not specifically designed for warehouses, Boston Dynamics' dog-like robot \"Spot\" can lift objects, pick itself up after a fall, open and walk through doors, and even remind people to practice social distancing. Hide Caption 6 of 8 Photos: The robots running our warehousesThis robot is used to plant seeds and check plants at the \"Nordic Harvest\" vertical farm  based in Taastrup, Denmark. The indoor farm is one of the biggest in Europe.Hide Caption 7 of 8 Photos: The robots running our warehousesRobots sort packages at a warehouse run by JD.com -- one of China's largest e-commerce firms, in Wuhan, China, ahead of the annual Singles Day online shopping bonanza, in 2019.Hide Caption 8 of 8 TuSimple has prominent competitors, such as Google spinoff Waymo and Uber-backed Aurora, but those are working on a wider range of self-driving vehicles, including passenger cars. TuSimple is working exclusively on driverless trucks, like US companies Plus and Embark. Grayson Brulte, an autonomy expert at consulting firm Brulte & Co., believes TuSimple is on the right track. \"The biggest competitive advantage that TuSimple has over its competitors is that their technology was purpose-built for trucking. They're not trying to port an autonomy system built for passenger vehicles in dense urban environments to trucking or to build a virtual driver which can both drive passenger vehicles and class-8 trucks. These are different skills and different systems altogether,\" he said. Removing the human element on long trucking routes has other benefits. The company says its trucks react 15 times faster than human drivers, and can see farther down the road, even at night. \"In the US every year there are about 5,000 fatalities involving trucks, and most are due to human error,\" said Lu. \"The truck doesn't get tired, doesn't watch a movie or look at a phone. It doesn't get distracted.\"   \n",
              "1                                                                                                                                                                                                                                                                                                                                                                                                                                                                                                                                                                                                                                                                                                                                                                                                                                                                                                                                                                                                                                                                                                                                                                                                                                                                                                                                                                                                                                                                                                                                                                                                                                                                                                                                                                                                                                                                                                                                                                                                                                                                                                                                                                                                                                                                                                                                                                                                                                                                                                                                                                                                                                                                                                                                                                                                                                                                                                                                                                                                                                                                                                                                                                                                                                                                                                                                                                                                                                                                                                                                                                                                                                                                                                                                                                                                                                                                                                                                                                                                                                                                                                                                                                                                                                                                                                                                                                                                                                                                                                                                                                                                                                                                                                                                                                                                                                                                                                                                                                                                                                                                                                                                                                                                                                                                                                                                                                                                                                                                                                                                                                                                                                                                                                                                                                                                                                                                                                                                                                                                                                                                                                                                                                                                                                                                                                                                                                                                                                                                                                                                                                                                                                                                                                                                                                                                                     (CNN)Working in a factory or warehouse can mean doing the same task over and over, and that repetition can lead to chronic injury. Now, a battery-powered glove could help workers by taking some of the strain.The \"Ironhand\" glove strengthens the wearer's grip, meaning they don't have to use as much force to perform repetitive manual tasks. Its developer, Bioservo, says it can increase the wearer's hand strength by 20%. The Swedish company describes the system as a \"soft exoskeleton.\" Exoskeletons are an external device that supports and protects the body, typically increasing strength and endurance. Most have a rigid structure, but the Ironhand is soft, like a regular glove.  Photos: The robots running our warehousesRobots are an increasingly familiar presence in warehouses. At the south-east London warehouse run by British online supermarket Ocado, 3,000 robots fulfill shopping orders. When an order is sent to the warehouse, the bots spring to life and head towards the container they require. Scroll through to see more robots that are revolutionizing warehouses.Hide Caption 1 of 8 Photos: The robots running our warehousesIn response to the coronavirus pandemic, MIT collaborated with Ava Robotics and the Greater Boston Food Bank to design a robot that can use UV light to sanitize the floor of a 4,000-square foot warehouse in just 30 minutes. Hide Caption 2 of 8 Photos: The robots running our warehousesSeven-foot \"Model-T\" robots produced by Japanese startup Telexistence have been stacking shelves in two of Tokyo's largest convenience store franchises. Featuring cameras, microphones and sensors, the Model-T uses three \"fingers\" to stock items such as bottled drinks, cans and rice bowls. The robot is controlled by shop staff remotely.Hide Caption 3 of 8 Photos: The robots running our warehousesUS company Boston Dynamics has become known for its advanced work robots. \"Handle\" is made for the warehouse and equipped with an on-board vision system. It can lift boxes weighing over 30 pounds. Hide Caption 4 of 8 Photos: The robots running our warehousesStretch is the latest robot from Boston Dynamics and can work in warehouses and distribution centers. Designed to keep human workers out of harm's way, Stretch's tentacle-like grippers mean it can manipulate boxes. Hide Caption 5 of 8 Photos: The robots running our warehousesAlthough not specifically designed for warehouses, Boston Dynamics' dog-like robot \"Spot\" can lift objects, pick itself up after a fall, open and walk through doors, and even remind people to practice social distancing. Hide Caption 6 of 8 Photos: The robots running our warehousesThis robot is used to plant seeds and check plants at the \"Nordic Harvest\" vertical farm  based in Taastrup, Denmark. The indoor farm is one of the biggest in Europe.Hide Caption 7 of 8 Photos: The robots running our warehousesRobots sort packages at a warehouse run by JD.com -- one of China's largest e-commerce firms, in Wuhan, China, ahead of the annual Singles Day online shopping bonanza, in 2019.Hide Caption 8 of 8Reducing fatigue\"When you have the glove on, it provides strength and reduces the effort needed when lifting objects,\" says Mikael Wester, Bioservo's marketing director. \"It's all in order to reduce fatigue and prevent strain injuries in the long run.\"The Ironhand system was developed with General Motors as a partner.Read MoreThe system consists of a backpack, which houses the power pack, and artificial tendons that connect to the glove. There are sensors on each fingertip which switch on the motor when a user grabs an object. A remote control or app can be used to adjust the strength and sensitivity of the grip.Wester says applications include assembly on the production line in the automotive industry, using tools in construction and lifting heavy objects in warehouses.Each Ironhand system costs around €6,000 ($7,275). The device also collects data that allows the company to assess the wearer's risk of developing strain injuries.  According to the European Agency for Safety and Health at Work, work-related neck and upper limb disorders are the most common occupational disease in Europe, costing national economies up to 2% of their gross national product.From NASA to General Motors The glove was originally intended for workers in a very different setting to the factory floor. NASA developed an early version of the technology, called \"Robo-Glove,\" to help astronauts grasp objects and carry out work in space. The Ironhand system being used for assembling parts in the automobile industry. Bioservo licensed the design in 2016 and then partnered with auto manufacturer General Motors (GM) to develop the glove for its workers. Why online supermarket Ocado wants to take the human touch out of groceries\"Ergonomics is really the field of trying to fit the jobs to the workers, instead of the workers having to conform and adapt to the job,\" says Stephen Krajcarski, a senior manager with GM's ergonomics team.\"By using tools such as the Ironhand we are really trying to mitigate any potential concerns or physical demands that may eventually cause a medical concern for that individual operator.\"  Krajcarski says GM has helped Bioservo to test and improve the Ironhand by piloting it in a variety of jobs at its manufacturing plants. He says some workers have found it easy to use but adds that it's not suitable for all situations.The Ironhand is just one of the exoskeletons GM is looking into. According to market research firm ABI Research, the exoskeleton market will grow from $392 million in 2020 to $6.8 billion in 2030.\"If you look at exoskeletons, this is just one of the tools that are out there,\" says Krajcarski. \"But this is an exciting technology.\"This story has been updated to correct the cost of the Ironhand system.  \n",
              "2                                                                                                                                                                                                                                                                                                                                                                                                                                                                                                                                                                                                                                                                                                                                                                                                                                                                                                                                                                                                                                                                                                                                                                                                                                                                                                                                                                                                                                                                                                                                                                                                                                                                                                                                                                                                                                                                                                                                                                                                                                                                                                                                                                                                                                                                                                                                                                                                                                                                                                                                                                                                                                                                                                                                                                                                                                                                                                                                                                                                                                                                                                                                                                                                                                                                                                                                                                                                                                                                                                                                                                                                                                                                                                                                                                                                                                                                                                                                                                                                                                                                                                                                                                                                                                                                                                                                                                                                                                                                                                                                                                                                                                                                                                                                                                                                                                                                                                                                                                                                                                                                                                                                                                                                                                                                                                                                                                                                                                                                                                                                                                                                                                                                                                                                                                                                                                                                                                                                                                                                                                                                                                                                                                                                                                                                                                                                                                                                                                                                                                                                                                                                                                                                                                                                                                                                                                                                                                                                                                                                                                                                                                                                                                                                                                                                                                                                                                                                                                                                                                                                                                                                                                                                                                                                                                                                                                                                                                                                                                                                                                                                                                                                                                                                                                                                                                                                                                                                                                                                                                                                                                                                                                                                                                                                                                                                                                                                                                                                                                                                                                                                                                                                                                                                                                                                                                                 (CNN)In a Hong Kong warehouse, a swarm of autonomous robots works 24/7. They're not just working hard, they're working smart; as they operate, they get better at their job.The Autonomous Mobile Robots were developed by Chinese startup Geek+. As they move around the warehouse they're guided by QR codes on the floor, and using AI they are able to make their own decisions, including what direction to travel and what route to take to their destination.  Photos: The robots running our warehousesRobots are an increasingly familiar presence in warehouses. At the south-east London warehouse run by British online supermarket Ocado, 3,000 robots fulfill shopping orders. When an order is sent to the warehouse, the bots spring to life and head towards the container they require. Scroll through to see more robots that are revolutionizing warehouses.Hide Caption 1 of 8 Photos: The robots running our warehousesIn response to the coronavirus pandemic, MIT collaborated with Ava Robotics and the Greater Boston Food Bank to design a robot that can use UV light to sanitize the floor of a 4,000-square foot warehouse in just 30 minutes. Hide Caption 2 of 8 Photos: The robots running our warehousesSeven-foot \"Model-T\" robots produced by Japanese startup Telexistence have been stacking shelves in two of Tokyo's largest convenience store franchises. Featuring cameras, microphones and sensors, the Model-T uses three \"fingers\" to stock items such as bottled drinks, cans and rice bowls. The robot is controlled by shop staff remotely.Hide Caption 3 of 8 Photos: The robots running our warehousesUS company Boston Dynamics has become known for its advanced work robots. \"Handle\" is made for the warehouse and equipped with an on-board vision system. It can lift boxes weighing over 30 pounds. Hide Caption 4 of 8 Photos: The robots running our warehousesStretch is the latest robot from Boston Dynamics and can work in warehouses and distribution centers. Designed to keep human workers out of harm's way, Stretch's tentacle-like grippers mean it can manipulate boxes. Hide Caption 5 of 8 Photos: The robots running our warehousesAlthough not specifically designed for warehouses, Boston Dynamics' dog-like robot \"Spot\" can lift objects, pick itself up after a fall, open and walk through doors, and even remind people to practice social distancing. Hide Caption 6 of 8 Photos: The robots running our warehousesThis robot is used to plant seeds and check plants at the \"Nordic Harvest\" vertical farm  based in Taastrup, Denmark. The indoor farm is one of the biggest in Europe.Hide Caption 7 of 8 Photos: The robots running our warehousesRobots sort packages at a warehouse run by JD.com -- one of China's largest e-commerce firms, in Wuhan, China, ahead of the annual Singles Day online shopping bonanza, in 2019.Hide Caption 8 of 8A team tracks these movements and uses the data to improve their algorithms, making the robots more efficient.Robots have become commonplace in warehouses worldwide and Geek+ says it has more than 15,000 robots in over 30 countries, including in Nike and Decathlon warehouses. Managing director Lit Fung says having robots that become more efficient over time helps companies meet demands for fast delivery, as well as reducing labor costs and human error. Read More\"Everyone is looking for an automation solution to apply to their warehouse,\" he says.  Watch the video for the full story.  \n",
              "3                                                                                                                                                                                                                                                                                                                                                                                                                                                                                                                                                                                                                                                                                                                                                                                                                                                                                                                                                                                                                                                                                                                                                                                                                                                                                                                                                                                                                                                                                                                                                                                                                                                                                                                                                                                                                                                                                                                                                                                                                                                                                                                                                                                                                                                                                                                                                                                                                                                                                                                                                                                                                                                                                                                                                                                                                                                                                                                                                                                                                                                                                                                                                                                                                                                                                                                                                                                                                                                                                                                                                                                                                                                                                                                                                                                                                                                                                                                                                                                                                                                                                                                                                                                                                                                                                                                                                                                                                                                                                                                                                                                                                                                                                                                                                                                                                                                                                                                                                                                                                                                                                                                                                                                                                                                                                                                                                                                                                                                                                                                                                                                                                                                                                                                                                                                                                                                                                                                                                                                                                                                                                                                                                                                                                                                                                                                                                                                                                                                                                                                                                                                                                                                                                                                                                                                                                                                                                                                                                                                                                                                                                                                                                                                                                                                                                                                                                                                                                                                                                                                                                                                                                                                                                                                                                                                                                                                                                                                                                                                                                                                                                                                                                                                                                                                                                                                                                                                                                                                                                                                                                                                                                                                                                                                                                                                                                                                                                                                                                                                                                                                                                                                                                                                                                                                                                                                                                                                                                                        New York (CNN Business)For many years, the world's most popular emerging markets have been the so-called BRICS: Brazil, Russia, India, China and South Africa.But given that Russia is no longer a market that Westerners can access following the invasion of Ukraine, it might be time for investors to stop lumping all of the emerging markets together.\"The BRICS had their day in the sun and that has faded,\" said Eric Winograd, senior economist at AllianceBernstein.Several major US index providers have removed Russian stocks from indexes at a price of \"zero\" or \"effectively zero.\" Trading shares of several leading US-listed Russian companies, such as search engine Yandex and telecom MTS, have been halted. And the Moscow Stock Exchange has been closed since February 25, the day after the invasion.Russia could default on its debt within days\"The idea that a country as large as Russia can be removed from indexes is a big deal,\" Winograd said.Read MoreIt seems likely that Russia will not be included in top emerging markets funds anytime soon. Even for those Westerners still willing to invest in Russian assets, it's not clear what comes next.\"Some investors are asking about exposure to Russia in emerging markets funds. With indexes starting to exclude Russia, it's still a wait-and-see game,\" said Mychal Campos, head of investing at Betterment.For investors looking to get exposure to emerging markets, Winograd said, each country should be looked at individually.\"The name of the game will be differentiation. Don't invest in emerging markets based on an acronym,\" Winograd said. \"It's always strange to say that Argentina and South Korea are the same thing, for example. They're not.\" Forget the BRICS and look at TICKS or MIST?To stick with the acronyms, the shutdown of the Russian stock market has essentially turned the BRICS into the BICS — and that could be a permanent change, said Rahul Sen Sharma, managing partner with Indxx, a global index provider. \"Will investors ever embrace Russia again? If there is no liquidity, it's a moot point. But it's also hard to believe that people will rush into Russia anytime soon,\" Sen Sharma told CNN Business.Sen Sharma said some investors may start to look at other emerging markets to replace Russia, such as Taiwan and South Korea. The BRICS could become the TICKS. He added that Poland, Turkey and Mexico are intriguing, as are the Philippines and Indonesia. You could dub Mexico, Indonesia, South Korea and Turkey the MIST markets. \"People love their acronyms,\" Sen Sharma joked.Of course, any emerging market in Europe — think Poland —  is inherently risky because of how close it is geographically to Russia and Ukraine. So other Central and Eastern European nations may be a hard sell for Western investors.War in Ukraine has sparked a scramble for dollarsOther experts argue that investors are looking more at individual companies in emerging markets and less at the countries themselves.\"A typical investor sees emerging markets as a class of stocks. It's a piece of a portfolio,\" said Callie Cox, US investment analyst at eToro.\"The emerging markets landscape has been changing for awhile,\" Cox added, noting that many investors have been skeptical of Russia since its annexation of Crimea in 2014. \"There has been more anxiety.\"  \n",
              "4                                                                                                                                                                                                                                                                                                                                                                                                                                                                                                                                                                                                                                                                                                                                                                                                                                                                                                                                                                                                                                                                                                                                                                                                                                                                                                                                                                                                                                                                                                                                                                                                                                                                                                                                                                                                                                                                                                                                                                                                                                                                                                                                                                                                                                                                                                                                                                                                                                                                                                                                                                                                                                                                                                                                                                                                                                                                                                                                                                                                                                                                                                                                                                                                                                                                                                                                                                                                                                                                                                                                                                                                                                                                                                                                                                                                                                                                                                                                                                                                                                                                                                                                                                                                                                                                                                                                                                                                                                                                                                                                                                                                                                                                                                                                                                                                                                                                                                                                                                                                                                                                                                                                                                                                                                                                                                                                                                                                                                                                                                                                                                                                                                                                                                                                                                                                                                                                                                                                                                                                                                                                                                                                                                                                                                                                                                                                                                                                                                                                                                                                                                                                                                                                                                                                                                                                                                                                                                                                                                                                                                                                                                                                                                                                                                                                                                                                                                                                                                                                                                                                                                                                                                                                                                                                                                                                                                                                                                                                                                                                                                                                                                                                                                                                                                                                                                                                                                                                                                                                                                                                                                                                                                                                                                                                                                                                                                                                                                                                                                                                                                                                                                                                                                                                                                                                                                                                                                                                                                                                                                                                                                                                                              The European Union formally approved on Tuesday a new barrage of sanctions against Russia for its invasion of Ukraine, which include bans on investments in the Russian energy sector, luxury goods exports and imports of steel products from Russia.The sanctions, which come into effect after publication in the EU official journal later on Tuesday, also freeze the assets of more business leaders who support the Russian state, including Chelsea football club owner Roman Abramovich. The European Commission said in a statement on Tuesday that the sanctions included \"a far-reaching ban on new investment across the Russian energy sector with limited exceptions for civil nuclear energy and the transport of certain energy products back to the EU.\"The measure will hit Russia's oil majors Rosneft, Transneft and Gazprom Neft (GZPFY), but EU members will be still able to buy oil and gas from them, an EU source told Reuters.There will also be a total ban on transactions with some Russian state-owned enterprises linked to the Kremlin's military-industrial complex, the EU executive said.Read MoreThe bloc reached a preliminary agreement on the new sanctions on Monday, and no objections were raised before an agreed deadline.The ban on Russian steel imports is estimated to affect 3.3 billion euros ($3.6 billion) worth of products, the Commission said.EU companies will also be no longer allowed to export any luxury goods worth more than 300 euros, including jewelry. Exports of cars costing more than 50,000 euros will also be banned, EU sources said.The package also prohibits EU credit rating agencies from issuing ratings for Russia and Russian companies, which the Commission says will further restrict their access to European financial markets.The latest sanctions follow three rounds of punitive measures which included freezing of assets of the Russian central bank and the exclusion from the SWIFT banking system of some Russian and Belarusian banks.The EU also agreed on Tuesday to strip Russia of its \"most-favored nation\" trade status, opening the door to punitive tariffs on Russian goods or outright import bans.UK slaps 35% tariff on Russian vodkaThe UK government also announced a fresh round of sanctions on Russia on Tuesday. It will ban the export of luxury goods to Russia and will introduce tariffs on Russian goods worth more than $1 billion. The additional 35% tariff will be applied to imports including vodka, steel, works of art and fur. The United Kingdom will also deny Russia and Belarus access to its most favoured nation trading tariff for hundreds of their exports, effectively depriving both countries of key benefits of their WTO membership.\"Our new tariffs will further isolate the Russian economy from global trade, ensuring it does not benefit from the rules-based international system it does not respect. These tariffs build on the UK's existing work to starve Russia's access to international finance, sanction Putin's cronies and exert maximum economic pressure on his regime,\" finance minister Rishi Sunak said in a statement.— CNN's Rob North contributed to this article.   "
            ]
          },
          "execution_count": 5,
          "metadata": {},
          "output_type": "execute_result"
        }
      ],
      "source": [
        "# Print first 5 rows of data\n",
        "data.head()"
      ]
    },
    {
      "cell_type": "code",
      "execution_count": 6,
      "metadata": {
        "colab": {
          "base_uri": "https://localhost:8080/",
          "height": 126
        },
        "id": "tTh2uQdWwY9-",
        "outputId": "708d700c-03f2-4063-8c59-b3ddbd39f7c7"
      },
      "outputs": [
        {
          "data": {
            "text/plain": [
              "'New York (CNN Business)For many years, the world\\'s most popular emerging markets have been the so-called BRICS: Brazil, Russia, India, China and South Africa.But given that Russia is no longer a market that Westerners can access following the invasion of Ukraine, it might be time for investors to stop lumping all of the emerging markets together.\"The BRICS had their day in the sun and that has faded,\" said Eric Winograd, senior economist at AllianceBernstein.Several major US index providers have removed Russian stocks from indexes at a price of \"zero\" or \"effectively zero.\" Trading shares of several leading US-listed Russian companies, such as search engine Yandex and telecom MTS, have been halted. And the Moscow Stock Exchange has been closed since February 25, the day after the invasion.Russia could default on its debt within days\"The idea that a country as large as Russia can be removed from indexes is a big deal,\" Winograd said.Read MoreIt seems likely that Russia will not be included in top emerging markets funds anytime soon. Even for those Westerners still willing to invest in Russian assets, it\\'s not clear what comes next.\"Some investors are asking about exposure to Russia in emerging markets funds. With indexes starting to exclude Russia, it\\'s still a wait-and-see game,\" said Mychal Campos, head of investing at Betterment.For investors looking to get exposure to emerging markets, Winograd said, each country should be looked at individually.\"The name of the game will be differentiation. Don\\'t invest in emerging markets based on an acronym,\" Winograd said. \"It\\'s always strange to say that Argentina and South Korea are the same thing, for example. They\\'re not.\" Forget the BRICS and look at TICKS or MIST?To stick with the acronyms, the shutdown of the Russian stock market has essentially turned the BRICS into the BICS — and that could be a permanent change, said Rahul Sen Sharma, managing partner with Indxx, a global index provider. \"Will investors ever embrace Russia again? If there is no liquidity, it\\'s a moot point. But it\\'s also hard to believe that people will rush into Russia anytime soon,\" Sen Sharma told CNN Business.Sen Sharma said some investors may start to look at other emerging markets to replace Russia, such as Taiwan and South Korea. The BRICS could become the TICKS. He added that Poland, Turkey and Mexico are intriguing, as are the Philippines and Indonesia. You could dub Mexico, Indonesia, South Korea and Turkey the MIST markets. \"People love their acronyms,\" Sen Sharma joked.Of course, any emerging market in Europe — think Poland —  is inherently risky because of how close it is geographically to Russia and Ukraine. So other Central and Eastern European nations may be a hard sell for Western investors.War in Ukraine has sparked a scramble for dollarsOther experts argue that investors are looking more at individual companies in emerging markets and less at the countries themselves.\"A typical investor sees emerging markets as a class of stocks. It\\'s a piece of a portfolio,\" said Callie Cox, US investment analyst at eToro.\"The emerging markets landscape has been changing for awhile,\" Cox added, noting that many investors have been skeptical of Russia since its annexation of Crimea in 2014. \"There has been more anxiety.\"'"
            ]
          },
          "execution_count": 6,
          "metadata": {},
          "output_type": "execute_result"
        }
      ],
      "source": [
        "# checking an article\n",
        "data.loc[3, 'Article text']"
      ]
    },
    {
      "cell_type": "markdown",
      "metadata": {
        "id": "NuWYF7W_AQx_"
      },
      "source": [
        "### Checking the shape of the dataset"
      ]
    },
    {
      "cell_type": "code",
      "execution_count": 7,
      "metadata": {
        "colab": {
          "base_uri": "https://localhost:8080/"
        },
        "id": "7DysT_j1Cky-",
        "outputId": "357f90e2-20f3-46f9-92de-5539cb67d15e"
      },
      "outputs": [
        {
          "data": {
            "text/plain": [
              "(4076, 7)"
            ]
          },
          "execution_count": 7,
          "metadata": {},
          "output_type": "execute_result"
        }
      ],
      "source": [
        "# print shape of data\n",
        "data.shape"
      ]
    },
    {
      "cell_type": "markdown",
      "metadata": {
        "id": "1m9Eku_JUDaS"
      },
      "source": [
        "* The data comprises of ~4k articles"
      ]
    },
    {
      "cell_type": "markdown",
      "metadata": {
        "id": "EBuO6NvsAT1k"
      },
      "source": [
        "### Checking for missing values"
      ]
    },
    {
      "cell_type": "code",
      "execution_count": 8,
      "metadata": {
        "colab": {
          "base_uri": "https://localhost:8080/"
        },
        "id": "RjFc0JaDCn1u",
        "outputId": "042644c2-c71f-4f12-98e5-3651b34ab59f"
      },
      "outputs": [
        {
          "data": {
            "text/plain": [
              "Date published    0\n",
              "Category          0\n",
              "Section           0\n",
              "Headline          0\n",
              "Description       0\n",
              "Keywords          0\n",
              "Article text      0\n",
              "dtype: int64"
            ]
          },
          "execution_count": 8,
          "metadata": {},
          "output_type": "execute_result"
        }
      ],
      "source": [
        "# Check for missing values\n",
        "data.isnull().sum()"
      ]
    },
    {
      "cell_type": "markdown",
      "metadata": {
        "id": "a9JV6etiY0g9"
      },
      "source": [
        "- There are no mising values in the data"
      ]
    },
    {
      "cell_type": "markdown",
      "metadata": {
        "id": "lIICk5hF_xW7"
      },
      "source": [
        "### Checking the statistical summary"
      ]
    },
    {
      "cell_type": "code",
      "execution_count": 9,
      "metadata": {
        "colab": {
          "base_uri": "https://localhost:8080/",
          "height": 938
        },
        "id": "axfenFhn_0y1",
        "outputId": "ad8e34ed-c8d5-4647-86f9-40a1d6501935"
      },
      "outputs": [
        {
          "data": {
            "text/html": [
              "<div>\n",
              "<style scoped>\n",
              "    .dataframe tbody tr th:only-of-type {\n",
              "        vertical-align: middle;\n",
              "    }\n",
              "\n",
              "    .dataframe tbody tr th {\n",
              "        vertical-align: top;\n",
              "    }\n",
              "\n",
              "    .dataframe thead th {\n",
              "        text-align: right;\n",
              "    }\n",
              "</style>\n",
              "<table border=\"1\" class=\"dataframe\">\n",
              "  <thead>\n",
              "    <tr style=\"text-align: right;\">\n",
              "      <th></th>\n",
              "      <th>Date published</th>\n",
              "      <th>Category</th>\n",
              "      <th>Section</th>\n",
              "      <th>Headline</th>\n",
              "      <th>Description</th>\n",
              "      <th>Keywords</th>\n",
              "      <th>Article text</th>\n",
              "    </tr>\n",
              "  </thead>\n",
              "  <tbody>\n",
              "    <tr>\n",
              "      <th>count</th>\n",
              "      <td>4076</td>\n",
              "      <td>4076</td>\n",
              "      <td>4076</td>\n",
              "      <td>4076</td>\n",
              "      <td>4076</td>\n",
              "      <td>4076</td>\n",
              "      <td>4076</td>\n",
              "    </tr>\n",
              "    <tr>\n",
              "      <th>unique</th>\n",
              "      <td>4076</td>\n",
              "      <td>6</td>\n",
              "      <td>37</td>\n",
              "      <td>4071</td>\n",
              "      <td>4069</td>\n",
              "      <td>4071</td>\n",
              "      <td>4075</td>\n",
              "    </tr>\n",
              "    <tr>\n",
              "      <th>top</th>\n",
              "      <td>2021-07-15 02:46:59</td>\n",
              "      <td>sport</td>\n",
              "      <td>sport</td>\n",
              "      <td>Ukrainian opposition demand investigation into failed sting operation detailed by CNN   - CNN</td>\n",
              "      <td>Austria's Chancellor Sebastian Kurz said in a televised speech he was stepping down from his office Saturday evening following corruption allegations.</td>\n",
              "      <td>europe, Ukrainian opposition demand investigation into failed sting operation detailed by CNN   - CNN</td>\n",
              "      <td>(CNN)It has been delayed by a year, but that seems to have only ramped up the excitement levels for the 2020 European football championships, and the final game is Sunday.The Union of European Football Associations (UEFA) Euro 2020 final will be held at London's Wembley Stadium.Still called Euro 2020 despite now being held in 2021, the all-European tournament was postponed from last summer because of the coronavirus pandemic. England reached its first men's major tournament final in 55 years after after beating Denmark 2-1 in a gripping encounter Wednesday at Wembley.READ: Goldman Sachs bets England will beat Italy this weekend, but...Read MoreHarry Kane of England is congratulated by Phil Foden after scoring the second goal against Denmark.The national team will face Italy on Sunday after the Azzurri beat Spain on penalties. The Italians have looked strong throughout the tournament, but England hopes a home-field advantage will inspire it to a historic victory. About 65,000 fans are expected.The UEFA Referees Committee announced that Dutchman Björn Kuipers would referee Sunday's final. This will be Kuipers' seventh UEFA competition final, according to European football's governing body.The final -- which will begin at 8 p.m. in London (3 p.m. ET) -- will be available to watch worldwide.Here's where you can watch the action: Austria: ORF/OE24Belgium: VRT/RTBFCroatia: HRT/SportklubCzech: Republic Česká televizeDenmark: DKDR/NENT Group DenmarkFinland: YLEFrance: M6/TF1/beIN SportsGermany: ARD/ZDF/MagentaTVHungary: MTVAItaly: RAI/Sky ItaliaNetherlands: NOSNorth Macedonia: MKRTV/SportklubPoland: TVPPortugal: RTP/SIC/Sport TV Portugal/TVIRussia: Channel One/Match TV/RTRSlovakia: RTV SlovakiaSpain: Mediaset SpainSweden: SVT/TV4Switzerland: SRGTurkey: TRTUkraine: Media Group UkraineUnited Kingdom: BBC/ITVOthers: Australia: Optus SportBrazil: Globosat/SporTVIndia &amp; Indian Sub-Continent: SonyIndonesia: MNC/Mola TV/RCTIKenya: Star Times/SuperSport/Canal+ Afrique/KTNNigeria: Top Sports/NTA/Star Times/SuperSport/Canal+ Afrique/Silverbird TV/ONTVSouth Africa: SuperSportUnited Arab Emirates: beIN SportsUS: ESPN/UnivisionClick here to view the full listA tournament for the history booksThe championships kicked off Friday, June 11, when Italy and Turkey met in the tournament's opening match in Rome's Stadio Olimpico.For the first time, the competition was hosted across the continent in some of Europe's biggest and most famous stadiums, rather than hosted by one or two nations. Alongside London and Rome, the other host cities included Baku, St. Petersburg, Copenhagen, Budapest, Amsterdam, Bucharest, Glasgow, Seville and Munich. Visit CNN.com/sport for more news, features, and videosPlayers of Italy celebrate following their team's victory in the penalty shootout of the semi-final match against Spain.Bilbao in Spain and Dublin in Ireland had been scheduled to host matches, but after local authorities didn't permit fans to attend games because of Covid-19 restrictions, UEFA chose to relocate Bilbao's matches to Seville and Dublin's fixtures to St. Petersburg. There were 24 teams playing across 51 matches in the 11 host cities over the past month, with some familiar nations among the favorites. England reached its first men's major tournament final since winning the World Cup in 1966 after beating Denmark.For Denmark, which won Euro 1992, this has been an extraordinary tournament. The team, and nation, was shaken when its talisman Christian Eriksen collapsed on the field during its opening group game against Finland.The power, strength and resilience shown by the Danish players as Eriksen recovered will inevitably go on to define this tournament and both teams paid tribute to the playmaker before the semifinal.Italy awaits and is likely to present England with it sternest test yet at Euro 2020.\"We know it's going to be a very tough game against Italy,\" England's Harry Kane told the UEFA website. \"We've had a great tournament so far. One more game to go at home, and we can't wait.\"Goldman Sachs predicts England has a 58% chance of defeating Italy in the Euro 2020 final.CNN's John Sinnott and Paul R. La Monica contributed to this report.</td>\n",
              "    </tr>\n",
              "    <tr>\n",
              "      <th>freq</th>\n",
              "      <td>1</td>\n",
              "      <td>2176</td>\n",
              "      <td>1088</td>\n",
              "      <td>2</td>\n",
              "      <td>2</td>\n",
              "      <td>2</td>\n",
              "      <td>2</td>\n",
              "    </tr>\n",
              "  </tbody>\n",
              "</table>\n",
              "</div>"
            ],
            "text/plain": [
              "             Date published Category Section  \\\n",
              "count                  4076     4076    4076   \n",
              "unique                 4076        6      37   \n",
              "top     2021-07-15 02:46:59    sport   sport   \n",
              "freq                      1     2176    1088   \n",
              "\n",
              "                                                                                             Headline  \\\n",
              "count                                                                                            4076   \n",
              "unique                                                                                           4071   \n",
              "top     Ukrainian opposition demand investigation into failed sting operation detailed by CNN   - CNN   \n",
              "freq                                                                                                2   \n",
              "\n",
              "                                                                                                                                                   Description  \\\n",
              "count                                                                                                                                                     4076   \n",
              "unique                                                                                                                                                    4069   \n",
              "top     Austria's Chancellor Sebastian Kurz said in a televised speech he was stepping down from his office Saturday evening following corruption allegations.   \n",
              "freq                                                                                                                                                         2   \n",
              "\n",
              "                                                                                                     Keywords  \\\n",
              "count                                                                                                    4076   \n",
              "unique                                                                                                   4071   \n",
              "top     europe, Ukrainian opposition demand investigation into failed sting operation detailed by CNN   - CNN   \n",
              "freq                                                                                                        2   \n",
              "\n",
              "                                                                                                                                                                                                                                                                                                                                                                                                                                                                                                                                                                                                                                                                                                                                                                                                                                                                                                                                                                                                                                                                                                                                                                                                                                                                                                                                                                                                                                                                                                                                                                                                                                                                                                                                                                                                                                                                                                                                                                                                                                                                                                                                                                                                                                                                                                                                                                                                                                                                                                                                                                                                                                                                                                                                                                                                                                                                                                                                                                                                                                                                                                                                                                                                                                                                                                                                                                                                                                                                                                                                                                                                                                                                                                                                                                                                                                                                                                                                                                                                                                                                                                                                                                                                                                                                                                                                                              Article text  \n",
              "count                                                                                                                                                                                                                                                                                                                                                                                                                                                                                                                                                                                                                                                                                                                                                                                                                                                                                                                                                                                                                                                                                                                                                                                                                                                                                                                                                                                                                                                                                                                                                                                                                                                                                                                                                                                                                                                                                                                                                                                                                                                                                                                                                                                                                                                                                                                                                                                                                                                                                                                                                                                                                                                                                                                                                                                                                                                                                                                                                                                                                                                                                                                                                                                                                                                                                                                                                                                                                                                                                                                                                                                                                                                                                                                                                                                                                                                                                                                                                                                                                                                                                                                                                                                                                                                                                                                                                                 4076  \n",
              "unique                                                                                                                                                                                                                                                                                                                                                                                                                                                                                                                                                                                                                                                                                                                                                                                                                                                                                                                                                                                                                                                                                                                                                                                                                                                                                                                                                                                                                                                                                                                                                                                                                                                                                                                                                                                                                                                                                                                                                                                                                                                                                                                                                                                                                                                                                                                                                                                                                                                                                                                                                                                                                                                                                                                                                                                                                                                                                                                                                                                                                                                                                                                                                                                                                                                                                                                                                                                                                                                                                                                                                                                                                                                                                                                                                                                                                                                                                                                                                                                                                                                                                                                                                                                                                                                                                                                                                                4075  \n",
              "top      (CNN)It has been delayed by a year, but that seems to have only ramped up the excitement levels for the 2020 European football championships, and the final game is Sunday.The Union of European Football Associations (UEFA) Euro 2020 final will be held at London's Wembley Stadium.Still called Euro 2020 despite now being held in 2021, the all-European tournament was postponed from last summer because of the coronavirus pandemic. England reached its first men's major tournament final in 55 years after after beating Denmark 2-1 in a gripping encounter Wednesday at Wembley.READ: Goldman Sachs bets England will beat Italy this weekend, but...Read MoreHarry Kane of England is congratulated by Phil Foden after scoring the second goal against Denmark.The national team will face Italy on Sunday after the Azzurri beat Spain on penalties. The Italians have looked strong throughout the tournament, but England hopes a home-field advantage will inspire it to a historic victory. About 65,000 fans are expected.The UEFA Referees Committee announced that Dutchman Björn Kuipers would referee Sunday's final. This will be Kuipers' seventh UEFA competition final, according to European football's governing body.The final -- which will begin at 8 p.m. in London (3 p.m. ET) -- will be available to watch worldwide.Here's where you can watch the action: Austria: ORF/OE24Belgium: VRT/RTBFCroatia: HRT/SportklubCzech: Republic Česká televizeDenmark: DKDR/NENT Group DenmarkFinland: YLEFrance: M6/TF1/beIN SportsGermany: ARD/ZDF/MagentaTVHungary: MTVAItaly: RAI/Sky ItaliaNetherlands: NOSNorth Macedonia: MKRTV/SportklubPoland: TVPPortugal: RTP/SIC/Sport TV Portugal/TVIRussia: Channel One/Match TV/RTRSlovakia: RTV SlovakiaSpain: Mediaset SpainSweden: SVT/TV4Switzerland: SRGTurkey: TRTUkraine: Media Group UkraineUnited Kingdom: BBC/ITVOthers: Australia: Optus SportBrazil: Globosat/SporTVIndia & Indian Sub-Continent: SonyIndonesia: MNC/Mola TV/RCTIKenya: Star Times/SuperSport/Canal+ Afrique/KTNNigeria: Top Sports/NTA/Star Times/SuperSport/Canal+ Afrique/Silverbird TV/ONTVSouth Africa: SuperSportUnited Arab Emirates: beIN SportsUS: ESPN/UnivisionClick here to view the full listA tournament for the history booksThe championships kicked off Friday, June 11, when Italy and Turkey met in the tournament's opening match in Rome's Stadio Olimpico.For the first time, the competition was hosted across the continent in some of Europe's biggest and most famous stadiums, rather than hosted by one or two nations. Alongside London and Rome, the other host cities included Baku, St. Petersburg, Copenhagen, Budapest, Amsterdam, Bucharest, Glasgow, Seville and Munich. Visit CNN.com/sport for more news, features, and videosPlayers of Italy celebrate following their team's victory in the penalty shootout of the semi-final match against Spain.Bilbao in Spain and Dublin in Ireland had been scheduled to host matches, but after local authorities didn't permit fans to attend games because of Covid-19 restrictions, UEFA chose to relocate Bilbao's matches to Seville and Dublin's fixtures to St. Petersburg. There were 24 teams playing across 51 matches in the 11 host cities over the past month, with some familiar nations among the favorites. England reached its first men's major tournament final since winning the World Cup in 1966 after beating Denmark.For Denmark, which won Euro 1992, this has been an extraordinary tournament. The team, and nation, was shaken when its talisman Christian Eriksen collapsed on the field during its opening group game against Finland.The power, strength and resilience shown by the Danish players as Eriksen recovered will inevitably go on to define this tournament and both teams paid tribute to the playmaker before the semifinal.Italy awaits and is likely to present England with it sternest test yet at Euro 2020.\"We know it's going to be a very tough game against Italy,\" England's Harry Kane told the UEFA website. \"We've had a great tournament so far. One more game to go at home, and we can't wait.\"Goldman Sachs predicts England has a 58% chance of defeating Italy in the Euro 2020 final.CNN's John Sinnott and Paul R. La Monica contributed to this report.  \n",
              "freq                                                                                                                                                                                                                                                                                                                                                                                                                                                                                                                                                                                                                                                                                                                                                                                                                                                                                                                                                                                                                                                                                                                                                                                                                                                                                                                                                                                                                                                                                                                                                                                                                                                                                                                                                                                                                                                                                                                                                                                                                                                                                                                                                                                                                                                                                                                                                                                                                                                                                                                                                                                                                                                                                                                                                                                                                                                                                                                                                                                                                                                                                                                                                                                                                                                                                                                                                                                                                                                                                                                                                                                                                                                                                                                                                                                                                                                                                                                                                                                                                                                                                                                                                                                                                                                                                                                                                                     2  "
            ]
          },
          "execution_count": 9,
          "metadata": {},
          "output_type": "execute_result"
        }
      ],
      "source": [
        "data.describe()"
      ]
    },
    {
      "cell_type": "markdown",
      "metadata": {
        "id": "DqnzZBOs_6Xb"
      },
      "source": [
        "- There seem to a large number of articles from the sports category"
      ]
    },
    {
      "cell_type": "markdown",
      "metadata": {
        "id": "kUJ_B5KxhU3D"
      },
      "source": [
        "## Exploratory Data Analysis (EDA)\n"
      ]
    },
    {
      "cell_type": "code",
      "execution_count": 18,
      "metadata": {
        "id": "lYClY_MmbvG1"
      },
      "outputs": [],
      "source": [
        " # function to create labeled barplots\n",
        "\n",
        "def labeled_barplot(data, feature, perc=False, n=None):\n",
        "    \"\"\"\n",
        "    Barplot with percentage at the top\n",
        "\n",
        "    data: dataframe\n",
        "    feature: dataframe column\n",
        "    perc: whether to display percentages instead of count (default is False)\n",
        "    n: displays the top n category levels (default is None, i.e., display all levels)\n",
        "    \"\"\"\n",
        "\n",
        "    total = len(data[feature])  # length of the column\n",
        "    count = data[feature].nunique()\n",
        "    if n is None:\n",
        "        plt.figure(figsize=(count + 1, 5))\n",
        "    else:\n",
        "        plt.figure(figsize=(n + 1, 5))\n",
        "\n",
        "    plt.xticks(rotation=90, fontsize=15)\n",
        "    ax = sns.countplot(\n",
        "        data=data,\n",
        "        x=feature,\n",
        "        palette=\"Paired\",\n",
        "        order=data[feature].value_counts().index[:n].sort_values(),\n",
        "    )\n",
        "\n",
        "    for p in ax.patches:\n",
        "        if perc == True:\n",
        "            label = \"{:.1f}%\".format(\n",
        "                100 * p.get_height() / total\n",
        "            )  # percentage of each class of the category\n",
        "        else:\n",
        "            label = p.get_height()  # count of each level of the category\n",
        "\n",
        "        x = p.get_x() + p.get_width() / 2  # width of the plot\n",
        "        y = p.get_height()  # height of the plot\n",
        "\n",
        "        ax.annotate(\n",
        "            label,\n",
        "            (x, y),\n",
        "            ha=\"center\",\n",
        "            va=\"center\",\n",
        "            size=12,\n",
        "            xytext=(0, 5),\n",
        "            textcoords=\"offset points\",\n",
        "        )  # annotate the percentage\n",
        "\n",
        "    plt.show()  # show the plot"
      ]
    },
    {
      "cell_type": "markdown",
      "metadata": {
        "id": "Yzi68_PYAlof"
      },
      "source": [
        "### Univariate Analysis"
      ]
    },
    {
      "cell_type": "markdown",
      "metadata": {
        "id": "akIOIRhfbvG8"
      },
      "source": [
        "#### Distribution of article categories"
      ]
    },
    {
      "cell_type": "code",
      "execution_count": 19,
      "metadata": {
        "colab": {
          "base_uri": "https://localhost:8080/",
          "height": 601
        },
        "id": "ByuRA3I2bvG_",
        "outputId": "1f670770-7b16-422a-ed19-8ae5b8b57c30"
      },
      "outputs": [
        {
          "name": "stderr",
          "output_type": "stream",
          "text": [
            "/var/folders/cp/x7cqhrb94454k14rqblbk1v40000gn/T/ipykernel_19080/3020376056.py:21: FutureWarning: \n",
            "\n",
            "Passing `palette` without assigning `hue` is deprecated and will be removed in v0.14.0. Assign the `x` variable to `hue` and set `legend=False` for the same effect.\n",
            "\n",
            "  ax = sns.countplot(\n"
          ]
        },
        {
          "data": {
            "image/png": "[encoded data removed]",
            "text/plain": [
              "<Figure size 700x500 with 1 Axes>"
            ]
          },
          "metadata": {},
          "output_type": "display_data"
        }
      ],
      "source": [
        "labeled_barplot(data, \"Category\", perc=True)"
      ]
    },
    {
      "cell_type": "markdown",
      "metadata": {
        "id": "fqnuCtG7bvHB"
      },
      "source": [
        "- Majority of the articles in the data are sports articles (53%), followed by news articles (~40%)"
      ]
    },
    {
      "cell_type": "markdown",
      "metadata": {
        "id": "gnPICJ-WbvHD"
      },
      "source": [
        "#### Distribution of section"
      ]
    },
    {
      "cell_type": "code",
      "execution_count": 20,
      "metadata": {
        "colab": {
          "base_uri": "https://localhost:8080/"
        },
        "id": "StFvx8mCbvHF",
        "outputId": "88738f8f-41e8-45b7-fd4f-e734c2c5fa5d"
      },
      "outputs": [
        {
          "name": "stderr",
          "output_type": "stream",
          "text": [
            "/var/folders/cp/x7cqhrb94454k14rqblbk1v40000gn/T/ipykernel_19080/3020376056.py:21: FutureWarning: \n",
            "\n",
            "Passing `palette` without assigning `hue` is deprecated and will be removed in v0.14.0. Assign the `x` variable to `hue` and set `legend=False` for the same effect.\n",
            "\n",
            "  ax = sns.countplot(\n"
          ]
        },
        {
          "data": {
            "image/png": "[encoded data removed]",
            "text/plain": [
              "<Figure size 1600x500 with 1 Axes>"
            ]
          },
          "metadata": {},
          "output_type": "display_data"
        }
      ],
      "source": [
        "labeled_barplot(data, \"Section\", perc=True, n = 15)"
      ]
    },
    {
      "cell_type": "markdown",
      "metadata": {
        "id": "kYqGBWxs-yIy"
      },
      "source": [
        "* The most common section articles in the data belong to are sports, europe, and football"
      ]
    },
    {
      "cell_type": "markdown",
      "metadata": {
        "id": "gwLKrCYpAyyh"
      },
      "source": [
        "#### Distribution of the year of publishing"
      ]
    },
    {
      "cell_type": "code",
      "execution_count": 21,
      "metadata": {
        "id": "8n5Nd1pi2E9f"
      },
      "outputs": [],
      "source": [
        "data['year'] = pd.to_datetime(data['Date published']).dt.year"
      ]
    },
    {
      "cell_type": "code",
      "execution_count": 22,
      "metadata": {
        "colab": {
          "base_uri": "https://localhost:8080/"
        },
        "id": "u74Y7_Fn2Xy2",
        "outputId": "44a75d30-9115-4486-947a-85d0e61c0ae7"
      },
      "outputs": [
        {
          "name": "stderr",
          "output_type": "stream",
          "text": [
            "/var/folders/cp/x7cqhrb94454k14rqblbk1v40000gn/T/ipykernel_19080/3020376056.py:21: FutureWarning: \n",
            "\n",
            "Passing `palette` without assigning `hue` is deprecated and will be removed in v0.14.0. Assign the `x` variable to `hue` and set `legend=False` for the same effect.\n",
            "\n",
            "  ax = sns.countplot(\n"
          ]
        },
        {
          "data": {
            "image/png": "[encoded data removed]",
            "text/plain": [
              "<Figure size 1200x500 with 1 Axes>"
            ]
          },
          "metadata": {},
          "output_type": "display_data"
        }
      ],
      "source": [
        "labeled_barplot(data, \"year\", perc=True)"
      ]
    },
    {
      "cell_type": "markdown",
      "metadata": {
        "id": "H8fGS-US2ng8"
      },
      "source": [
        "- Most of the articles are from the year 2021"
      ]
    },
    {
      "cell_type": "markdown",
      "metadata": {
        "id": "ZCM6avoA39FB"
      },
      "source": [
        "## Data Preprocessing"
      ]
    },
    {
      "cell_type": "code",
      "execution_count": 23,
      "metadata": {
        "id": "42CTojahioE5"
      },
      "outputs": [],
      "source": [
        "dataset = data.copy()"
      ]
    },
    {
      "cell_type": "markdown",
      "metadata": {
        "id": "If-ARLxSFAHM"
      },
      "source": [
        "#### **Preprocessing the textual column**"
      ]
    },
    {
      "cell_type": "code",
      "execution_count": 24,
      "metadata": {
        "id": "gd_Gnv1RjwrH"
      },
      "outputs": [],
      "source": [
        "# Loading the Porter Stemmer\n",
        "ps = PorterStemmer()"
      ]
    },
    {
      "cell_type": "code",
      "execution_count": 25,
      "metadata": {
        "id": "BRXoGtLrQMza"
      },
      "outputs": [],
      "source": [
        "def preprocess_text(text):\n",
        "    # Convert to lowercase\n",
        "    text = text.lower()\n",
        "\n",
        "    # Remove special characters and numbers\n",
        "    text = re.sub(r'[^A-Za-z\\s]', '', text)\n",
        "\n",
        "    # Remove extra whitespaces\n",
        "    text = re.sub(r'\\s+', ' ', text).strip()\n",
        "\n",
        "    # Split text into separate words\n",
        "    words = text.split()\n",
        "\n",
        "    # Removing English language stopwords\n",
        "    text = ' '.join([word for word in words if word not in stopwords.words('english')])\n",
        "\n",
        "    # Applying the Porter Stemmer on every word of a message and joining the stemmed words back into a single string\n",
        "    text = ' '.join([ps.stem(word) for word in words])\n",
        "\n",
        "    return text"
      ]
    },
    {
      "cell_type": "code",
      "execution_count": 26,
      "metadata": {
        "id": "1gP35O7svOS3"
      },
      "outputs": [],
      "source": [
        "# preprocessing the textual column\n",
        "dataset['Article_text_clean'] = dataset['Article text'].apply(preprocess_text)"
      ]
    },
    {
      "cell_type": "markdown",
      "metadata": {
        "id": "01_KoswobW9D"
      },
      "source": [
        "## Word Embeddings"
      ]
    },
    {
      "cell_type": "markdown",
      "metadata": {
        "id": "4IUBFAOTbjju"
      },
      "source": [
        "### **Word2Vec**"
      ]
    },
    {
      "cell_type": "code",
      "execution_count": 27,
      "metadata": {
        "id": "ZD188ZNsboS4"
      },
      "outputs": [],
      "source": [
        "# Creating a list of all words in our data\n",
        "words_list = [item.split(\" \") for item in dataset['Article_text_clean'].values]"
      ]
    },
    {
      "cell_type": "code",
      "execution_count": 28,
      "metadata": {
        "id": "eGVgM5iTbwHy"
      },
      "outputs": [],
      "source": [
        "# Creating an instance of Word2Vec\n",
        "vec_size = 300\n",
        "model_W2V = Word2Vec(words_list, vector_size = vec_size, min_count = 1, window=5, workers = 6)"
      ]
    },
    {
      "cell_type": "code",
      "execution_count": 29,
      "metadata": {
        "colab": {
          "base_uri": "https://localhost:8080/"
        },
        "id": "lhy6DjNxbzOd",
        "outputId": "1bfa21c8-824e-42db-d2e1-a6659d8cadc5"
      },
      "outputs": [
        {
          "name": "stdout",
          "output_type": "stream",
          "text": [
            "Length of the vocabulary is 103381\n"
          ]
        }
      ],
      "source": [
        "# Checking the size of the vocabulary\n",
        "print(\"Length of the vocabulary is\", len(list(model_W2V.wv.key_to_index)))"
      ]
    },
    {
      "cell_type": "markdown",
      "metadata": {
        "id": "uqDgyw_Fb1Y4"
      },
      "source": [
        "Let's check out a few word embeddings obtained using the model."
      ]
    },
    {
      "cell_type": "code",
      "execution_count": 30,
      "metadata": {
        "colab": {
          "base_uri": "https://localhost:8080/"
        },
        "id": "bXEk0kRSb2hr",
        "outputId": "7ab42bc4-83a8-4a1c-fc3b-c0201f3ff549"
      },
      "outputs": [
        {
          "data": {
            "text/plain": [
              "array([ 1.52784601e-01,  1.01423182e-01,  2.14979604e-01,  1.65283725e-01,\n",
              "        3.94698411e-01, -1.37484819e-01, -1.44106686e-01, -1.49583831e-01,\n",
              "        1.94605052e-01,  3.35680902e-01, -1.24094207e-02, -1.85865611e-01,\n",
              "       -1.81248367e-01,  2.58228928e-01, -6.89365417e-02, -2.58138567e-01,\n",
              "       -6.58953413e-02, -7.27640167e-02, -2.27576852e-01,  3.13553929e-01,\n",
              "        3.64038609e-02,  6.84130937e-02,  4.32018563e-03, -1.37803167e-01,\n",
              "       -3.58663574e-02,  1.08919129e-01,  1.21648110e-01, -4.97299105e-01,\n",
              "       -1.01344123e-01,  1.46875545e-01, -1.97477173e-02, -3.04272592e-01,\n",
              "        5.30173481e-02,  2.57561151e-02, -8.79589915e-02,  6.60324981e-03,\n",
              "       -8.40491056e-02, -3.52676027e-02,  4.90471646e-02,  2.73175597e-01,\n",
              "        5.03118522e-02,  8.19485709e-02, -2.06488222e-01,  2.68397182e-02,\n",
              "        1.39653176e-01,  2.86159869e-02, -2.60849953e-01, -3.32275927e-02,\n",
              "        3.15287313e-03, -1.24688715e-01, -6.17093667e-02, -3.19273382e-01,\n",
              "       -4.48732264e-02, -3.46495397e-02, -3.33469838e-01, -3.12392652e-01,\n",
              "        2.50789970e-01, -3.76004040e-01,  8.89367536e-02, -2.40608633e-01,\n",
              "       -1.71079814e-01, -2.25650251e-01, -1.92488104e-01,  6.57714857e-03,\n",
              "        2.50245839e-01,  8.79875571e-02, -4.00666222e-02, -3.19794044e-02,\n",
              "       -2.12994367e-01, -1.53503781e-02, -2.55908638e-01, -1.03730634e-01,\n",
              "        1.23241216e-01,  6.08356902e-03,  2.45217845e-01,  3.53860170e-01,\n",
              "       -4.14303273e-01, -2.05448300e-01, -1.43734053e-01,  2.27215573e-01,\n",
              "       -8.23270679e-02, -3.75757098e-01,  3.10689747e-01, -4.31569636e-01,\n",
              "       -5.60119264e-02,  5.74198887e-02, -2.02317804e-01, -8.97644926e-03,\n",
              "        1.42109096e-01,  2.02300008e-02,  1.43981874e-01, -2.94630647e-01,\n",
              "        1.32672563e-01,  2.10714880e-02,  1.38911977e-01,  3.73378754e-01,\n",
              "        2.09516287e-01,  2.00329036e-01,  1.31335268e-02,  4.28434402e-01,\n",
              "       -3.59463900e-01,  1.21710613e-01,  2.12070793e-01,  3.76578718e-02,\n",
              "        1.29059553e-01, -8.32847729e-02, -3.69440913e-01,  5.47275484e-01,\n",
              "       -3.22781414e-01, -3.52380238e-02, -2.06666529e-01, -2.48236358e-02,\n",
              "       -4.65494633e-01, -3.98313962e-02, -7.80587643e-03, -9.29238647e-02,\n",
              "       -1.12885281e-01, -2.06669226e-01, -3.11697256e-02, -1.46431774e-01,\n",
              "        1.79655030e-01,  1.64066032e-01,  4.53390419e-01,  9.51347798e-02,\n",
              "       -2.23108962e-01,  2.12056234e-01, -3.50376576e-01, -4.79590207e-01,\n",
              "       -8.42719898e-02,  4.17147934e-01,  1.52492225e-01,  3.47082376e-01,\n",
              "        1.28837712e-02, -9.03342426e-01, -2.86737829e-02, -4.64066148e-01,\n",
              "       -7.92002231e-02,  1.43360958e-01, -1.75638542e-01, -3.04706395e-01,\n",
              "        9.53255445e-02,  4.46689688e-02, -8.48030522e-02, -3.18581432e-01,\n",
              "        7.01979026e-02, -5.84485717e-02, -1.72533214e-01,  1.71091363e-01,\n",
              "       -3.79218906e-02,  2.59081185e-01,  1.01794377e-01, -2.79358357e-01,\n",
              "       -3.88888270e-01, -1.17867708e-01,  4.55618918e-01, -1.70690268e-02,\n",
              "       -2.70574540e-02, -4.01909836e-02,  2.59015501e-01,  3.46537143e-01,\n",
              "        4.50860932e-02,  1.44776285e-01, -2.10802853e-01,  4.43848610e-01,\n",
              "        2.15042129e-01,  4.17063236e-01,  1.22153372e-01, -3.97082083e-02,\n",
              "        4.02339131e-01,  3.15998346e-01, -7.71838129e-02,  2.00173393e-01,\n",
              "        2.87051409e-01,  5.20397611e-02, -1.77343145e-01,  6.49878904e-02,\n",
              "        4.91429389e-01, -5.69386780e-02, -6.56567439e-02,  6.95710331e-02,\n",
              "        9.12513002e-04,  1.98979601e-01,  9.94966850e-02, -1.09150425e-01,\n",
              "        9.69220102e-02, -8.16760957e-02, -1.85423881e-01, -1.74052224e-01,\n",
              "       -6.72040954e-02, -2.33778551e-01,  3.47930074e-01, -3.70863199e-01,\n",
              "        1.96083218e-01,  5.75103238e-02, -6.26893267e-02,  5.66097498e-02,\n",
              "       -6.23891391e-02, -2.05585033e-01,  1.72326714e-02, -6.61973953e-02,\n",
              "       -1.67242289e-01,  3.39377165e-01,  8.18208754e-02, -3.54241543e-02,\n",
              "        5.94944023e-02, -3.66960824e-01,  2.63002911e-03,  4.33703139e-02,\n",
              "       -2.03562245e-01, -2.05472156e-01, -1.51678249e-01, -3.46724272e-01,\n",
              "        5.56386355e-03,  1.35352671e-01,  7.90021271e-02,  5.25518283e-02,\n",
              "        8.60385597e-02, -3.77504766e-01, -1.65632546e-01, -4.68509138e-01,\n",
              "        5.85118420e-02,  1.65970966e-01, -2.58470684e-01, -3.00459769e-02,\n",
              "        3.21019799e-01, -4.09956366e-01, -7.86028430e-02, -2.38236580e-02,\n",
              "       -2.28580743e-01,  1.12777166e-01,  2.19414487e-01, -1.11373879e-01,\n",
              "       -4.69969541e-01,  3.67865562e-01, -6.88950345e-02,  2.02974230e-01,\n",
              "       -7.54228458e-02,  7.28386119e-02, -3.04925889e-01, -1.58232123e-01,\n",
              "       -1.18205756e-01, -1.96661964e-01,  9.68164578e-03,  3.01144719e-02,\n",
              "       -1.94405362e-01, -3.35508257e-01, -1.54166386e-01,  2.30822906e-01,\n",
              "       -1.08319014e-01,  1.03090554e-01,  3.81230414e-01,  3.78795505e-01,\n",
              "        1.27168715e-01,  7.21400231e-02, -4.84074026e-01, -1.87262714e-01,\n",
              "        1.46789587e+00,  7.19711185e-01, -3.67238432e-01, -3.13995302e-01,\n",
              "       -1.57093808e-01, -1.59533158e-01, -3.18650544e-01,  2.31651649e-01,\n",
              "       -4.49699797e-02,  2.47470900e-01,  3.05218309e-01, -9.99645367e-02,\n",
              "       -1.50897950e-01, -2.07387805e-01, -5.95714986e-01,  5.27452528e-01,\n",
              "       -2.79172957e-01,  1.36126101e-01,  5.11805952e-01,  3.29051495e-01,\n",
              "        1.29777610e-01,  1.53689772e-01, -4.10786234e-02, -2.11826608e-01,\n",
              "        2.59310216e-01,  4.49394345e-01, -3.06979269e-01,  2.27613986e-01,\n",
              "        1.61598012e-01,  2.82012671e-02,  5.15667237e-02,  3.13309282e-02,\n",
              "        1.54934943e-01,  4.71208096e-01,  5.90931997e-02,  3.08327436e-01,\n",
              "        1.71164960e-01, -1.43568695e-01,  2.41092414e-01,  8.69554698e-01,\n",
              "       -2.57749468e-01, -2.76410967e-01,  2.00672448e-01, -5.15841782e-01],\n",
              "      dtype=float32)"
            ]
          },
          "execution_count": 30,
          "metadata": {},
          "output_type": "execute_result"
        }
      ],
      "source": [
        "# Checking the word embedding of a random word\n",
        "word = \"truck\"\n",
        "model_W2V.wv[word]"
      ]
    },
    {
      "cell_type": "code",
      "execution_count": 31,
      "metadata": {
        "colab": {
          "base_uri": "https://localhost:8080/"
        },
        "id": "QtR6qUBbkDMT",
        "outputId": "51448be3-8b70-478a-9b20-afed8bcfc23e"
      },
      "outputs": [
        {
          "data": {
            "text/plain": [
              "array([-0.00904477, -0.13147342,  0.01284372, -0.02009712,  0.41179788,\n",
              "        0.03860852, -0.32949692, -0.18340406,  0.08699423,  0.22306359,\n",
              "       -0.0862022 ,  0.37957585,  0.14134257,  0.04248055,  0.03733838,\n",
              "       -0.01341486,  0.02680327,  0.0479223 , -0.23728909,  0.46493974,\n",
              "       -0.31396633, -0.12197567,  0.14878987,  0.08626574, -0.0111687 ,\n",
              "       -0.02266298, -0.05119811, -0.34411538,  0.26565826,  0.03648122,\n",
              "        0.07959034,  0.00742169, -0.12145002,  0.42540374, -0.12718837,\n",
              "        0.17870255,  0.06525906, -0.3522823 , -0.3759542 , -0.14871514,\n",
              "        0.14471526, -0.13526239,  0.2763127 , -0.30612636,  0.26894185,\n",
              "        0.33782706, -0.27573436, -0.22651319, -0.01817933, -0.11516615,\n",
              "        0.16100067, -0.07037669, -0.12441747, -0.1045134 , -0.05251365,\n",
              "       -0.22704512,  0.0146783 ,  0.09266   ,  0.22536984, -0.24874373,\n",
              "       -0.31136182, -0.23447002,  0.10540659, -0.23594394,  0.05102534,\n",
              "       -0.10861215,  0.15408683,  0.1572445 , -0.4407456 , -0.12680978,\n",
              "       -0.22552398, -0.47308165,  0.09373993,  0.06142984,  0.43144786,\n",
              "        0.11831396, -0.03412507,  0.33025426, -0.45440248, -0.06607816,\n",
              "       -0.13168928, -0.33006334,  0.14756879,  0.39427316, -0.16250895,\n",
              "       -0.02777919,  0.13650246, -0.01299444,  0.04664142, -0.067407  ,\n",
              "        0.178769  , -0.1085474 ,  0.04691657,  0.06454481,  0.23695971,\n",
              "        0.41138723,  0.08023248,  0.00677305,  0.10615873,  0.05443774,\n",
              "       -0.35874566,  0.13191952,  0.18744291, -0.14355472, -0.23881005,\n",
              "        0.20152107, -0.24500741,  0.1478269 ,  0.15272488, -0.13704182,\n",
              "       -0.10164812,  0.2505321 , -0.45222718, -0.03711759, -0.10832928,\n",
              "        0.25805834,  0.2040742 , -0.13895188,  0.09056417, -0.51968354,\n",
              "        0.16953655,  0.35610384,  0.42533305,  0.18881625, -0.43829557,\n",
              "        0.34270543, -0.53101414, -0.5294456 , -0.28167698,  0.41807643,\n",
              "        0.15686715,  0.34335858,  0.16112639, -1.0069274 ,  0.38977772,\n",
              "       -0.09797984,  0.1038484 , -0.00896782, -0.26259232, -0.4597034 ,\n",
              "       -0.30669445,  0.00735677, -0.01434274,  0.13116409,  0.5282809 ,\n",
              "       -0.19297233, -0.4551173 , -0.33590883,  0.02560972, -0.15625615,\n",
              "       -0.20462638, -0.24810846,  0.25247222, -0.32120118,  0.09535978,\n",
              "        0.18738629, -0.37617508, -0.06165257, -0.12950186,  0.0481768 ,\n",
              "        0.38360402, -0.11700737, -0.3650803 ,  0.36759502,  0.10331818,\n",
              "        0.00191681, -0.24491018,  0.30055648,  0.08279639, -0.05908908,\n",
              "       -0.24155676,  0.0910188 ,  0.05544877,  0.07368168,  0.01055065,\n",
              "        0.34705913,  0.42374778,  0.10149762,  0.3909611 , -0.00407674,\n",
              "       -0.02731265, -0.19842613, -0.46390852, -0.03959718, -0.17107414,\n",
              "       -0.14024709, -0.09210616,  0.41072032, -0.08436576, -0.28069767,\n",
              "        0.31204984, -0.32187968,  0.02346814,  0.07407336,  0.2161863 ,\n",
              "       -0.13789393,  0.10693268,  0.3673453 ,  0.0645452 ,  0.02591104,\n",
              "       -0.15982743,  0.06877802,  0.0514327 ,  0.13138478,  0.1581424 ,\n",
              "       -0.13166504,  0.1320218 , -0.13538541, -0.05556295,  0.09603941,\n",
              "       -0.07218   , -0.16072454, -0.09086209, -0.09237749,  0.19065994,\n",
              "       -0.03021506, -0.39180169, -1.217675  , -0.5989222 , -0.87325794,\n",
              "        0.07668013,  0.38249722, -0.00134423,  0.18757217,  0.2957979 ,\n",
              "       -0.00431687,  0.24434394, -0.28165948, -0.38800448,  0.22921386,\n",
              "       -0.06561142, -0.17384337, -0.18499829,  0.5792261 ,  0.00162104,\n",
              "       -0.00781155,  0.02357602, -0.08674394, -0.28956264, -0.30968124,\n",
              "        0.07276891, -0.12349456, -0.04977026, -0.06996852, -0.19995119,\n",
              "       -0.29580757, -0.09096708,  0.15769628, -0.18372808,  0.13655499,\n",
              "        0.17401241,  0.07560575,  0.18597274,  0.02788652, -0.10912242,\n",
              "       -0.1059919 ,  0.7753683 ,  0.3966954 , -0.21125136, -0.20742819,\n",
              "       -0.14677702, -0.19186997,  0.30840272,  0.17672077, -0.04301241,\n",
              "        0.03033452,  0.23758079,  0.22785544,  0.21717574, -0.09007689,\n",
              "       -0.37936595,  0.4981475 ,  0.30362594,  0.3451208 ,  0.02931097,\n",
              "        0.1503346 ,  0.05485534,  0.18687028, -0.19590381, -0.05224829,\n",
              "       -0.0813649 ,  0.06603953,  0.08457023, -0.05633716,  0.04335382,\n",
              "        0.1461246 ,  0.20935081,  0.274631  , -0.02576779,  0.23261464,\n",
              "        0.05982533, -0.09910049,  0.08042201, -0.13309146,  0.4200283 ,\n",
              "        0.505124  , -0.30219838,  0.20534834, -0.06261189, -0.29936644],\n",
              "      dtype=float32)"
            ]
          },
          "execution_count": 31,
          "metadata": {},
          "output_type": "execute_result"
        }
      ],
      "source": [
        "# Checking the word embedding of a random word\n",
        "word = \"robot\"\n",
        "model_W2V.wv[word]"
      ]
    },
    {
      "cell_type": "code",
      "execution_count": 32,
      "metadata": {
        "colab": {
          "base_uri": "https://localhost:8080/"
        },
        "id": "ALs0_Syekdhz",
        "outputId": "630ccd6d-ca3c-4410-9965-b1c59ea49a03"
      },
      "outputs": [
        {
          "data": {
            "text/plain": [
              "array([-2.30790585e-01, -4.40824211e-01,  3.93729150e-01,  4.16587114e-01,\n",
              "        3.83118927e-01,  1.37162149e-01, -2.29752541e-01, -2.42103368e-01,\n",
              "        4.43706512e-01,  4.34563607e-01, -4.48222160e-01,  5.36790311e-01,\n",
              "        4.07078981e-01, -2.69680738e-01,  1.96394056e-01, -1.08329304e-01,\n",
              "        6.01878047e-01,  1.61903456e-01, -6.00701511e-01,  8.48999679e-01,\n",
              "        8.29776153e-02, -4.22923602e-02,  7.01758564e-01,  3.25767785e-01,\n",
              "       -5.64214826e-01, -2.19009593e-01,  1.47211552e-01,  1.55905187e-01,\n",
              "        2.15421841e-01, -2.76273817e-01,  4.13302779e-01,  5.38506687e-01,\n",
              "        2.11881697e-01,  4.00214404e-01,  1.67189091e-02,  6.65681586e-02,\n",
              "       -1.27680656e-02, -5.95614195e-01, -8.21956635e-01,  3.06082606e-01,\n",
              "        1.29371151e-01, -2.27430522e-01,  1.57560900e-01,  8.59364285e-04,\n",
              "       -5.05126417e-01, -1.37669325e-01, -7.60740161e-01,  3.04467052e-01,\n",
              "       -3.90622253e-03,  1.53648809e-01,  2.90649205e-01, -2.85895735e-01,\n",
              "        3.30798067e-02, -7.17872679e-01, -3.69525343e-01, -3.98470104e-01,\n",
              "        2.41589293e-01,  7.47862458e-02,  9.89963338e-02,  4.04261559e-01,\n",
              "       -1.94258429e-02,  2.71773666e-01, -2.19094202e-01, -4.61749434e-01,\n",
              "        2.19122153e-02, -1.37997985e-01,  4.75752391e-02, -6.53367192e-02,\n",
              "       -9.49638486e-02, -4.55420971e-01, -2.39235848e-01, -2.07373053e-01,\n",
              "        3.60227704e-01,  2.20894679e-01, -2.11480454e-01,  5.92466533e-01,\n",
              "        5.11909604e-01,  2.46820122e-01,  2.10000589e-01,  2.14453667e-01,\n",
              "       -2.33425692e-01,  3.47325414e-01, -1.76467821e-01, -2.23318711e-01,\n",
              "       -2.85160482e-01, -1.60013273e-01, -1.02910735e-01, -7.13864028e-01,\n",
              "       -4.32623327e-01,  1.89575225e-01,  5.42861640e-01,  3.30503434e-01,\n",
              "        2.49908239e-01,  2.24805444e-01,  1.51266456e-01,  4.20934737e-01,\n",
              "        6.93883598e-01,  1.23333365e-01,  2.32691646e-01,  2.05174729e-01,\n",
              "       -3.57012749e-01,  3.61074954e-02,  1.09582865e+00,  9.00776803e-01,\n",
              "        3.27517480e-01, -3.90297651e-01, -9.69927192e-01, -2.52234280e-01,\n",
              "       -4.97280210e-02, -2.72275627e-01,  5.13016343e-01,  5.64226091e-01,\n",
              "       -7.20833600e-01, -3.16854388e-01, -4.02484179e-01,  4.85060960e-01,\n",
              "       -1.58819050e-01,  7.55999796e-03, -1.91605076e-01, -6.29854918e-01,\n",
              "        1.61720756e-02, -3.31263423e-01,  3.26602578e-01, -5.18658698e-01,\n",
              "       -2.51161218e-01,  1.89197779e-01, -4.55355942e-01, -5.68249106e-01,\n",
              "       -9.21909213e-01,  1.02698408e-01,  3.93655449e-02,  2.63781011e-01,\n",
              "        5.08876503e-01, -7.22331107e-01,  5.48064172e-01, -5.68010569e-01,\n",
              "        1.36053488e-01,  9.21669841e-01, -4.04631067e-03, -6.14830256e-01,\n",
              "       -2.71983743e-01, -5.18268049e-01,  6.74311161e-01,  8.01856339e-01,\n",
              "        6.48171425e-01, -4.51611131e-01, -7.70654261e-01, -2.33929724e-01,\n",
              "       -1.42605335e-01,  5.14388025e-01, -3.37582886e-01, -6.87548578e-01,\n",
              "        4.37521517e-01,  2.06881408e-02,  2.25868329e-01, -5.73878586e-01,\n",
              "       -7.18772173e-01, -1.24854229e-01, -5.76552451e-01,  1.14775240e-01,\n",
              "        3.76669347e-01,  1.51360959e-01, -2.07589254e-01,  7.76217759e-01,\n",
              "       -3.66033763e-01,  5.14500260e-01,  2.15664133e-01, -2.47833170e-02,\n",
              "        4.45196748e-01,  5.15548468e-01, -5.53019166e-01, -1.33979425e-01,\n",
              "        5.19955277e-01, -1.86889857e-01, -3.60757530e-01,  4.35957968e-01,\n",
              "        1.09772348e+00, -5.60027808e-02,  7.31330752e-01,  1.08323589e-01,\n",
              "        2.33174384e-01, -3.71497750e-01, -5.45880735e-01, -3.09674621e-01,\n",
              "       -1.12391181e-01, -2.01089993e-01, -4.28997338e-01,  2.00604409e-01,\n",
              "        3.99237536e-02,  9.88814086e-02,  9.07976776e-02, -4.88771051e-01,\n",
              "        1.73680156e-01,  1.28075540e-01,  2.74593472e-01, -5.60398519e-01,\n",
              "        1.80650055e-01, -3.44143599e-01,  1.25184983e-01, -5.84078193e-01,\n",
              "       -1.42584130e-01,  2.65951902e-01, -7.12099314e-01, -4.84357834e-01,\n",
              "       -1.04882225e-01, -1.88203931e-01, -3.16100508e-01, -4.33205545e-01,\n",
              "        1.69005953e-02,  4.59165186e-01, -1.89133704e-01,  8.89766872e-01,\n",
              "        1.01012953e-01, -5.00566065e-01,  2.08550707e-01,  1.38862789e-01,\n",
              "        1.71312675e-01, -3.72157544e-01, -4.37352329e-01, -1.03596461e+00,\n",
              "        8.39565098e-02, -3.46567780e-01,  1.76004812e-01,  5.97753286e-01,\n",
              "        3.67715478e-01, -6.75285935e-01,  3.77246052e-01, -6.64179176e-02,\n",
              "        4.07943904e-01,  5.91851287e-02, -6.63387850e-02,  2.18161538e-01,\n",
              "        5.57901084e-01,  1.00004129e-01, -8.64137635e-02,  6.60473883e-01,\n",
              "       -4.53090519e-01, -2.82362908e-01, -3.54523122e-01,  5.35232663e-01,\n",
              "        1.49690568e-01,  4.34637628e-03,  3.96626145e-01,  1.33872867e-01,\n",
              "       -8.02029893e-02, -1.09515965e-01, -5.34481194e-04,  5.69320023e-01,\n",
              "        1.33187503e-01, -4.90344673e-01, -9.13666636e-02,  3.37828219e-01,\n",
              "        4.26814735e-01,  1.02749318e-02, -7.97634244e-01, -1.38127729e-01,\n",
              "        2.04346314e-01,  4.02623326e-01, -1.40349507e-01,  4.31153297e-01,\n",
              "       -5.81184477e-02, -6.43343389e-01,  8.49596933e-02,  6.84301734e-01,\n",
              "        6.13451779e-01,  7.98127115e-01, -2.73023486e-01,  3.08707297e-01,\n",
              "        5.91496658e-03, -3.78756523e-01, -4.47176129e-01,  4.20981377e-01,\n",
              "       -3.70912477e-02,  2.81009704e-01, -1.26835126e-02, -3.15344721e-01,\n",
              "        4.98893172e-01,  1.80475637e-01, -2.79557481e-02, -1.56604618e-01,\n",
              "       -3.11769731e-02, -2.13735491e-01, -4.34676111e-02,  3.71643990e-01,\n",
              "       -4.78816964e-02,  4.49656397e-01, -3.61078173e-01, -2.66927391e-01,\n",
              "        9.13948119e-01,  4.59597319e-01,  5.49414456e-02,  2.24104866e-01,\n",
              "       -4.32984889e-01, -5.04539549e-01,  2.55406827e-01,  4.81550813e-01,\n",
              "       -2.19019055e-02,  2.53247786e-02,  4.41709369e-01, -9.70857069e-02],\n",
              "      dtype=float32)"
            ]
          },
          "execution_count": 32,
          "metadata": {},
          "output_type": "execute_result"
        }
      ],
      "source": [
        "# Checking the word embedding of a random word\n",
        "word = \"market\"\n",
        "model_W2V.wv[word]"
      ]
    },
    {
      "cell_type": "code",
      "execution_count": 33,
      "metadata": {
        "id": "F_4ldXPzcF7y"
      },
      "outputs": [],
      "source": [
        "# Retrieving the words present in the Word2Vec model's vocabulary\n",
        "words = list(model_W2V.wv.key_to_index.keys())\n",
        "\n",
        "# Retrieving word vectors for all the words present in the model's vocabulary\n",
        "wvs = model_W2V.wv[words].tolist()\n",
        "\n",
        "# Creating a dictionary of words and their corresponding vectors\n",
        "word_vector_dict = dict(zip(words, wvs))"
      ]
    },
    {
      "cell_type": "code",
      "execution_count": 34,
      "metadata": {
        "id": "vsQ0vF42cH_r"
      },
      "outputs": [],
      "source": [
        "def average_vectorizer_Word2Vec(doc):\n",
        "    # Initializing a feature vector for the sentence\n",
        "    feature_vector = np.zeros((vec_size,), dtype=\"float64\")\n",
        "\n",
        "    # Creating a list of words in the sentence that are present in the model vocabulary\n",
        "    words_in_vocab = [word for word in doc.split() if word in words]\n",
        "\n",
        "    # adding the vector representations of the words\n",
        "    for word in words_in_vocab:\n",
        "        feature_vector += np.array(word_vector_dict[word])\n",
        "\n",
        "    # Dividing by the number of words to get the average vector\n",
        "    if len(words_in_vocab) != 0:\n",
        "        feature_vector /= len(words_in_vocab)\n",
        "\n",
        "    return feature_vector"
      ]
    },
    {
      "cell_type": "code",
      "execution_count": 35,
      "metadata": {
        "colab": {
          "base_uri": "https://localhost:8080/",
          "height": 461
        },
        "id": "Jtxc1yVHcJjV",
        "outputId": "e3645d5d-e888-4d04-f7e0-50f83132b80d"
      },
      "outputs": [
        {
          "data": {
            "text/html": [
              "<div>\n",
              "<style scoped>\n",
              "    .dataframe tbody tr th:only-of-type {\n",
              "        vertical-align: middle;\n",
              "    }\n",
              "\n",
              "    .dataframe tbody tr th {\n",
              "        vertical-align: top;\n",
              "    }\n",
              "\n",
              "    .dataframe thead th {\n",
              "        text-align: right;\n",
              "    }\n",
              "</style>\n",
              "<table border=\"1\" class=\"dataframe\">\n",
              "  <thead>\n",
              "    <tr style=\"text-align: right;\">\n",
              "      <th></th>\n",
              "      <th>Feature 0</th>\n",
              "      <th>Feature 1</th>\n",
              "      <th>Feature 2</th>\n",
              "      <th>Feature 3</th>\n",
              "      <th>Feature 4</th>\n",
              "      <th>Feature 5</th>\n",
              "      <th>Feature 6</th>\n",
              "      <th>Feature 7</th>\n",
              "      <th>Feature 8</th>\n",
              "      <th>Feature 9</th>\n",
              "      <th>...</th>\n",
              "      <th>Feature 290</th>\n",
              "      <th>Feature 291</th>\n",
              "      <th>Feature 292</th>\n",
              "      <th>Feature 293</th>\n",
              "      <th>Feature 294</th>\n",
              "      <th>Feature 295</th>\n",
              "      <th>Feature 296</th>\n",
              "      <th>Feature 297</th>\n",
              "      <th>Feature 298</th>\n",
              "      <th>Feature 299</th>\n",
              "    </tr>\n",
              "  </thead>\n",
              "  <tbody>\n",
              "    <tr>\n",
              "      <th>0</th>\n",
              "      <td>0.075957</td>\n",
              "      <td>0.334456</td>\n",
              "      <td>0.410115</td>\n",
              "      <td>0.129548</td>\n",
              "      <td>0.369177</td>\n",
              "      <td>0.242988</td>\n",
              "      <td>0.053835</td>\n",
              "      <td>-0.423503</td>\n",
              "      <td>0.260877</td>\n",
              "      <td>0.763651</td>\n",
              "      <td>...</td>\n",
              "      <td>-0.071955</td>\n",
              "      <td>-0.003128</td>\n",
              "      <td>-0.300847</td>\n",
              "      <td>-0.020793</td>\n",
              "      <td>-0.118002</td>\n",
              "      <td>0.263144</td>\n",
              "      <td>0.050592</td>\n",
              "      <td>0.129553</td>\n",
              "      <td>0.088845</td>\n",
              "      <td>0.309955</td>\n",
              "    </tr>\n",
              "    <tr>\n",
              "      <th>1</th>\n",
              "      <td>0.055793</td>\n",
              "      <td>0.314696</td>\n",
              "      <td>0.375754</td>\n",
              "      <td>0.150160</td>\n",
              "      <td>0.400013</td>\n",
              "      <td>0.277460</td>\n",
              "      <td>-0.009056</td>\n",
              "      <td>-0.521213</td>\n",
              "      <td>0.241256</td>\n",
              "      <td>0.731744</td>\n",
              "      <td>...</td>\n",
              "      <td>-0.088440</td>\n",
              "      <td>-0.051117</td>\n",
              "      <td>-0.301607</td>\n",
              "      <td>-0.037742</td>\n",
              "      <td>-0.103696</td>\n",
              "      <td>0.233438</td>\n",
              "      <td>0.064784</td>\n",
              "      <td>0.184171</td>\n",
              "      <td>0.080203</td>\n",
              "      <td>0.322005</td>\n",
              "    </tr>\n",
              "    <tr>\n",
              "      <th>2</th>\n",
              "      <td>0.088200</td>\n",
              "      <td>0.224046</td>\n",
              "      <td>0.398800</td>\n",
              "      <td>0.109154</td>\n",
              "      <td>0.426551</td>\n",
              "      <td>0.214397</td>\n",
              "      <td>-0.010004</td>\n",
              "      <td>-0.481227</td>\n",
              "      <td>0.262568</td>\n",
              "      <td>0.726669</td>\n",
              "      <td>...</td>\n",
              "      <td>-0.081291</td>\n",
              "      <td>0.007311</td>\n",
              "      <td>-0.246359</td>\n",
              "      <td>0.010826</td>\n",
              "      <td>0.033353</td>\n",
              "      <td>0.302994</td>\n",
              "      <td>-0.035079</td>\n",
              "      <td>0.163214</td>\n",
              "      <td>0.016719</td>\n",
              "      <td>0.261662</td>\n",
              "    </tr>\n",
              "    <tr>\n",
              "      <th>3</th>\n",
              "      <td>0.028935</td>\n",
              "      <td>0.401330</td>\n",
              "      <td>0.403357</td>\n",
              "      <td>0.110227</td>\n",
              "      <td>0.254084</td>\n",
              "      <td>0.353485</td>\n",
              "      <td>0.145859</td>\n",
              "      <td>-0.292196</td>\n",
              "      <td>0.268843</td>\n",
              "      <td>0.694895</td>\n",
              "      <td>...</td>\n",
              "      <td>-0.168309</td>\n",
              "      <td>-0.144732</td>\n",
              "      <td>-0.242671</td>\n",
              "      <td>-0.046577</td>\n",
              "      <td>-0.148006</td>\n",
              "      <td>0.162415</td>\n",
              "      <td>0.089703</td>\n",
              "      <td>0.110020</td>\n",
              "      <td>0.170613</td>\n",
              "      <td>0.362916</td>\n",
              "    </tr>\n",
              "    <tr>\n",
              "      <th>4</th>\n",
              "      <td>0.010776</td>\n",
              "      <td>0.256522</td>\n",
              "      <td>0.506813</td>\n",
              "      <td>0.104437</td>\n",
              "      <td>0.237139</td>\n",
              "      <td>0.427191</td>\n",
              "      <td>0.208344</td>\n",
              "      <td>-0.367571</td>\n",
              "      <td>0.248913</td>\n",
              "      <td>0.618631</td>\n",
              "      <td>...</td>\n",
              "      <td>-0.103505</td>\n",
              "      <td>0.051744</td>\n",
              "      <td>-0.233975</td>\n",
              "      <td>-0.057061</td>\n",
              "      <td>-0.173570</td>\n",
              "      <td>0.157107</td>\n",
              "      <td>0.214939</td>\n",
              "      <td>0.077400</td>\n",
              "      <td>0.204639</td>\n",
              "      <td>0.457729</td>\n",
              "    </tr>\n",
              "    <tr>\n",
              "      <th>...</th>\n",
              "      <td>...</td>\n",
              "      <td>...</td>\n",
              "      <td>...</td>\n",
              "      <td>...</td>\n",
              "      <td>...</td>\n",
              "      <td>...</td>\n",
              "      <td>...</td>\n",
              "      <td>...</td>\n",
              "      <td>...</td>\n",
              "      <td>...</td>\n",
              "      <td>...</td>\n",
              "      <td>...</td>\n",
              "      <td>...</td>\n",
              "      <td>...</td>\n",
              "      <td>...</td>\n",
              "      <td>...</td>\n",
              "      <td>...</td>\n",
              "      <td>...</td>\n",
              "      <td>...</td>\n",
              "      <td>...</td>\n",
              "      <td>...</td>\n",
              "    </tr>\n",
              "    <tr>\n",
              "      <th>4071</th>\n",
              "      <td>0.061140</td>\n",
              "      <td>0.461708</td>\n",
              "      <td>0.470763</td>\n",
              "      <td>0.193348</td>\n",
              "      <td>0.072483</td>\n",
              "      <td>0.142510</td>\n",
              "      <td>0.168670</td>\n",
              "      <td>-0.203574</td>\n",
              "      <td>0.080897</td>\n",
              "      <td>0.714180</td>\n",
              "      <td>...</td>\n",
              "      <td>-0.261203</td>\n",
              "      <td>0.029068</td>\n",
              "      <td>-0.241711</td>\n",
              "      <td>-0.025928</td>\n",
              "      <td>-0.457676</td>\n",
              "      <td>-0.189312</td>\n",
              "      <td>0.133345</td>\n",
              "      <td>0.208239</td>\n",
              "      <td>0.013978</td>\n",
              "      <td>0.526332</td>\n",
              "    </tr>\n",
              "    <tr>\n",
              "      <th>4072</th>\n",
              "      <td>0.134870</td>\n",
              "      <td>0.365803</td>\n",
              "      <td>0.510040</td>\n",
              "      <td>0.135233</td>\n",
              "      <td>0.153533</td>\n",
              "      <td>-0.082859</td>\n",
              "      <td>0.302380</td>\n",
              "      <td>-0.092490</td>\n",
              "      <td>0.365155</td>\n",
              "      <td>0.669665</td>\n",
              "      <td>...</td>\n",
              "      <td>-0.044796</td>\n",
              "      <td>0.198372</td>\n",
              "      <td>-0.253990</td>\n",
              "      <td>-0.049120</td>\n",
              "      <td>-0.149699</td>\n",
              "      <td>0.214604</td>\n",
              "      <td>-0.015334</td>\n",
              "      <td>0.048380</td>\n",
              "      <td>0.137145</td>\n",
              "      <td>0.359937</td>\n",
              "    </tr>\n",
              "    <tr>\n",
              "      <th>4073</th>\n",
              "      <td>-0.003857</td>\n",
              "      <td>0.517486</td>\n",
              "      <td>0.402711</td>\n",
              "      <td>0.140811</td>\n",
              "      <td>0.147867</td>\n",
              "      <td>0.237001</td>\n",
              "      <td>0.117651</td>\n",
              "      <td>-0.266594</td>\n",
              "      <td>0.132623</td>\n",
              "      <td>0.701605</td>\n",
              "      <td>...</td>\n",
              "      <td>-0.211704</td>\n",
              "      <td>0.033060</td>\n",
              "      <td>-0.223504</td>\n",
              "      <td>-0.043678</td>\n",
              "      <td>-0.418837</td>\n",
              "      <td>-0.117937</td>\n",
              "      <td>0.196253</td>\n",
              "      <td>0.117733</td>\n",
              "      <td>-0.059762</td>\n",
              "      <td>0.497355</td>\n",
              "    </tr>\n",
              "    <tr>\n",
              "      <th>4074</th>\n",
              "      <td>-0.019462</td>\n",
              "      <td>0.283946</td>\n",
              "      <td>0.289452</td>\n",
              "      <td>0.117682</td>\n",
              "      <td>0.300780</td>\n",
              "      <td>0.278747</td>\n",
              "      <td>0.081461</td>\n",
              "      <td>-0.408017</td>\n",
              "      <td>0.276697</td>\n",
              "      <td>0.692553</td>\n",
              "      <td>...</td>\n",
              "      <td>-0.035102</td>\n",
              "      <td>-0.019310</td>\n",
              "      <td>-0.287327</td>\n",
              "      <td>-0.109556</td>\n",
              "      <td>-0.106599</td>\n",
              "      <td>0.292609</td>\n",
              "      <td>0.129284</td>\n",
              "      <td>0.181476</td>\n",
              "      <td>0.225989</td>\n",
              "      <td>0.306047</td>\n",
              "    </tr>\n",
              "    <tr>\n",
              "      <th>4075</th>\n",
              "      <td>0.169739</td>\n",
              "      <td>0.376266</td>\n",
              "      <td>0.303640</td>\n",
              "      <td>0.171011</td>\n",
              "      <td>0.270484</td>\n",
              "      <td>-0.106117</td>\n",
              "      <td>0.074877</td>\n",
              "      <td>-0.295090</td>\n",
              "      <td>0.113869</td>\n",
              "      <td>0.719308</td>\n",
              "      <td>...</td>\n",
              "      <td>-0.112247</td>\n",
              "      <td>-0.013785</td>\n",
              "      <td>-0.222505</td>\n",
              "      <td>-0.006174</td>\n",
              "      <td>-0.252637</td>\n",
              "      <td>0.206900</td>\n",
              "      <td>-0.105572</td>\n",
              "      <td>0.117280</td>\n",
              "      <td>0.041647</td>\n",
              "      <td>0.317470</td>\n",
              "    </tr>\n",
              "  </tbody>\n",
              "</table>\n",
              "<p>4076 rows × 300 columns</p>\n",
              "</div>"
            ],
            "text/plain": [
              "      Feature 0  Feature 1  Feature 2  Feature 3  Feature 4  Feature 5  \\\n",
              "0      0.075957   0.334456   0.410115   0.129548   0.369177   0.242988   \n",
              "1      0.055793   0.314696   0.375754   0.150160   0.400013   0.277460   \n",
              "2      0.088200   0.224046   0.398800   0.109154   0.426551   0.214397   \n",
              "3      0.028935   0.401330   0.403357   0.110227   0.254084   0.353485   \n",
              "4      0.010776   0.256522   0.506813   0.104437   0.237139   0.427191   \n",
              "...         ...        ...        ...        ...        ...        ...   \n",
              "4071   0.061140   0.461708   0.470763   0.193348   0.072483   0.142510   \n",
              "4072   0.134870   0.365803   0.510040   0.135233   0.153533  -0.082859   \n",
              "4073  -0.003857   0.517486   0.402711   0.140811   0.147867   0.237001   \n",
              "4074  -0.019462   0.283946   0.289452   0.117682   0.300780   0.278747   \n",
              "4075   0.169739   0.376266   0.303640   0.171011   0.270484  -0.106117   \n",
              "\n",
              "      Feature 6  Feature 7  Feature 8  Feature 9  ...  Feature 290  \\\n",
              "0      0.053835  -0.423503   0.260877   0.763651  ...    -0.071955   \n",
              "1     -0.009056  -0.521213   0.241256   0.731744  ...    -0.088440   \n",
              "2     -0.010004  -0.481227   0.262568   0.726669  ...    -0.081291   \n",
              "3      0.145859  -0.292196   0.268843   0.694895  ...    -0.168309   \n",
              "4      0.208344  -0.367571   0.248913   0.618631  ...    -0.103505   \n",
              "...         ...        ...        ...        ...  ...          ...   \n",
              "4071   0.168670  -0.203574   0.080897   0.714180  ...    -0.261203   \n",
              "4072   0.302380  -0.092490   0.365155   0.669665  ...    -0.044796   \n",
              "4073   0.117651  -0.266594   0.132623   0.701605  ...    -0.211704   \n",
              "4074   0.081461  -0.408017   0.276697   0.692553  ...    -0.035102   \n",
              "4075   0.074877  -0.295090   0.113869   0.719308  ...    -0.112247   \n",
              "\n",
              "      Feature 291  Feature 292  Feature 293  Feature 294  Feature 295  \\\n",
              "0       -0.003128    -0.300847    -0.020793    -0.118002     0.263144   \n",
              "1       -0.051117    -0.301607    -0.037742    -0.103696     0.233438   \n",
              "2        0.007311    -0.246359     0.010826     0.033353     0.302994   \n",
              "3       -0.144732    -0.242671    -0.046577    -0.148006     0.162415   \n",
              "4        0.051744    -0.233975    -0.057061    -0.173570     0.157107   \n",
              "...           ...          ...          ...          ...          ...   \n",
              "4071     0.029068    -0.241711    -0.025928    -0.457676    -0.189312   \n",
              "4072     0.198372    -0.253990    -0.049120    -0.149699     0.214604   \n",
              "4073     0.033060    -0.223504    -0.043678    -0.418837    -0.117937   \n",
              "4074    -0.019310    -0.287327    -0.109556    -0.106599     0.292609   \n",
              "4075    -0.013785    -0.222505    -0.006174    -0.252637     0.206900   \n",
              "\n",
              "      Feature 296  Feature 297  Feature 298  Feature 299  \n",
              "0        0.050592     0.129553     0.088845     0.309955  \n",
              "1        0.064784     0.184171     0.080203     0.322005  \n",
              "2       -0.035079     0.163214     0.016719     0.261662  \n",
              "3        0.089703     0.110020     0.170613     0.362916  \n",
              "4        0.214939     0.077400     0.204639     0.457729  \n",
              "...           ...          ...          ...          ...  \n",
              "4071     0.133345     0.208239     0.013978     0.526332  \n",
              "4072    -0.015334     0.048380     0.137145     0.359937  \n",
              "4073     0.196253     0.117733    -0.059762     0.497355  \n",
              "4074     0.129284     0.181476     0.225989     0.306047  \n",
              "4075    -0.105572     0.117280     0.041647     0.317470  \n",
              "\n",
              "[4076 rows x 300 columns]"
            ]
          },
          "execution_count": 35,
          "metadata": {},
          "output_type": "execute_result"
        }
      ],
      "source": [
        "# creating a dataframe of the vectorized documents\n",
        "df_Word2Vec = pd.DataFrame(dataset['Article_text_clean'].apply(average_vectorizer_Word2Vec).tolist(), columns=['Feature '+str(i) for i in range(vec_size)])\n",
        "df_Word2Vec"
      ]
    },
    {
      "cell_type": "markdown",
      "metadata": {
        "id": "ldBJrHYXcSJD"
      },
      "source": [
        "### **GloVe**"
      ]
    },
    {
      "cell_type": "code",
      "execution_count": null,
      "metadata": {
        "colab": {
          "base_uri": "https://localhost:8080/"
        },
        "id": "96CDMF40g3dB",
        "outputId": "e1162ffd-d7b5-41af-8448-b6b635e99aae"
      },
      "outputs": [],
      "source": [
        "glove_input_file = 'data/glove.6B.100d.txt'\n",
        "word2vec_output_file = 'glove.6B.100d.txt.word2vec'\n",
        "glove2word2vec(glove_input_file, word2vec_output_file)"
      ]
    },
    {
      "cell_type": "code",
      "execution_count": 38,
      "metadata": {
        "id": "hVywaMV2hN09"
      },
      "outputs": [],
      "source": [
        "# load the Stanford GloVe model\n",
        "filename = 'glove.6B.100d.txt.word2vec'\n",
        "glove_model = KeyedVectors.load_word2vec_format(filename, binary=False)"
      ]
    },
    {
      "cell_type": "code",
      "execution_count": 39,
      "metadata": {
        "colab": {
          "base_uri": "https://localhost:8080/"
        },
        "id": "7eER3cUXhNxZ",
        "outputId": "48d134bb-4713-4041-fd6b-9884b2f956bf"
      },
      "outputs": [
        {
          "name": "stdout",
          "output_type": "stream",
          "text": [
            "Length of the vocabulary is 400000\n"
          ]
        }
      ],
      "source": [
        "# Checking the size of the vocabulary\n",
        "print(\"Length of the vocabulary is\", len(glove_model.index_to_key))"
      ]
    },
    {
      "cell_type": "code",
      "execution_count": 40,
      "metadata": {
        "colab": {
          "base_uri": "https://localhost:8080/"
        },
        "id": "bEa-WlLJhNvG",
        "outputId": "ade0b81d-f8b0-4822-9ff7-573cb4c2f409"
      },
      "outputs": [
        {
          "data": {
            "text/plain": [
              "array([-0.13959  ,  0.053049 ,  0.098775 , -0.75656  ,  0.18649  ,\n",
              "       -0.5453   ,  0.51948  ,  1.031    ,  0.53502  ,  0.48639  ,\n",
              "        0.27249  ,  0.15508  ,  0.40621  ,  0.18081  , -0.025307 ,\n",
              "        0.26865  ,  0.38571  , -0.21049  , -0.28851  ,  0.48076  ,\n",
              "        1.0103   ,  0.11727  ,  0.4438   , -0.044604 ,  0.31954  ,\n",
              "        0.105    , -1.046    , -0.045288 ,  0.26557  ,  0.2942   ,\n",
              "        0.044758 ,  0.21819  , -0.31754  , -0.24927  ,  0.0386   ,\n",
              "       -0.018294 ,  0.48484  ,  0.2406   ,  1.4252   ,  0.60919  ,\n",
              "        0.62857  , -0.9181   ,  0.67407  , -0.049386 ,  0.32595  ,\n",
              "        0.5808   , -0.064496 ,  0.097091 , -0.29634  , -0.49801  ,\n",
              "       -0.5079   ,  0.15151  , -0.28035  ,  1.4427   ,  0.18603  ,\n",
              "       -0.93646  , -1.2371   ,  0.76921  ,  2.1535   ,  0.24301  ,\n",
              "        0.43864  ,  0.16485  ,  0.61097  ,  0.34103  ,  0.31127  ,\n",
              "       -0.021241 ,  0.18143  , -0.24922  , -0.50407  ,  0.36803  ,\n",
              "       -0.40437  , -0.78135  ,  0.3406   , -0.33441  ,  0.39221  ,\n",
              "        1.2164   ,  1.4956   , -0.067117 , -0.47906  , -0.11335  ,\n",
              "        0.38635  ,  0.46424  , -0.66364  ,  0.017471 , -0.072569 ,\n",
              "       -0.87245  ,  0.11094  , -1.2457   , -1.1849   , -0.020146 ,\n",
              "        0.42812  ,  0.27275  , -0.11434  , -0.14035  , -0.26379  ,\n",
              "       -0.21542  , -0.0064448,  0.77447  ,  1.5429   , -0.20753  ],\n",
              "      dtype=float32)"
            ]
          },
          "execution_count": 40,
          "metadata": {},
          "output_type": "execute_result"
        }
      ],
      "source": [
        "# Checking the word embedding of a random word\n",
        "word = \"truck\"\n",
        "glove_model[word]"
      ]
    },
    {
      "cell_type": "code",
      "execution_count": 41,
      "metadata": {
        "colab": {
          "base_uri": "https://localhost:8080/"
        },
        "id": "qp3U4fayk8fx",
        "outputId": "ccb48e74-4f0b-4002-badd-2d5ca5a40b28"
      },
      "outputs": [
        {
          "data": {
            "text/plain": [
              "array([ 0.011902 ,  0.26278  ,  0.45126  ,  0.12094  , -0.41535  ,\n",
              "       -0.35435  ,  0.0092189, -0.034586 ,  0.32158  ,  0.18078  ,\n",
              "        0.11859  , -0.71212  ,  0.81706  , -0.33606  , -0.08437  ,\n",
              "        0.62526  ,  0.46727  ,  1.4349   ,  0.5169   ,  0.26811  ,\n",
              "        0.59619  , -0.61252  , -0.36577  , -0.53652  ,  0.66653  ,\n",
              "        0.5401   , -1.0361   ,  0.42182  , -0.061063 ,  0.72207  ,\n",
              "       -0.6181   ,  0.27911  , -0.41123  , -0.030808 ,  1.0171   ,\n",
              "        0.02397  , -0.77087  , -0.31841  ,  0.81663  , -0.31675  ,\n",
              "        0.15844  , -0.036592 , -0.42598  , -0.33789  , -0.41276  ,\n",
              "        0.59072  , -0.8522   ,  0.5816   ,  0.29178  ,  0.65402  ,\n",
              "       -0.54697  ,  0.29809  ,  0.29886  ,  0.85476  ,  0.38412  ,\n",
              "       -0.98124  , -0.060437 ,  0.50573  ,  0.3828   ,  0.68482  ,\n",
              "        0.85488  ,  0.98631  ,  0.31926  ,  0.60156  ,  0.26016  ,\n",
              "        0.43938  , -0.59457  ,  0.15845  , -0.0029536,  0.51893  ,\n",
              "        0.80057  , -0.11206  , -0.11446  ,  0.25445  , -0.28187  ,\n",
              "        0.41786  ,  0.038844 ,  0.38574  , -0.46319  ,  0.15459  ,\n",
              "        0.34618  ,  0.018863 ,  0.049293 ,  0.51613  , -0.98421  ,\n",
              "        0.361    ,  0.47514  ,  0.1769   ,  0.49307  , -0.41554  ,\n",
              "        0.39029  ,  0.36822  ,  0.55709  ,  0.18986  ,  0.65721  ,\n",
              "       -0.55688  , -0.46418  , -0.63267  ,  0.75817  , -1.051    ],\n",
              "      dtype=float32)"
            ]
          },
          "execution_count": 41,
          "metadata": {},
          "output_type": "execute_result"
        }
      ],
      "source": [
        "# Checking the word embedding of a random word\n",
        "word = \"robot\"\n",
        "glove_model[word]"
      ]
    },
    {
      "cell_type": "code",
      "execution_count": 42,
      "metadata": {
        "colab": {
          "base_uri": "https://localhost:8080/"
        },
        "id": "qbVTftrWk8WL",
        "outputId": "8ca98b92-abdc-4ce2-a4cb-91d3beee7d23"
      },
      "outputs": [
        {
          "data": {
            "text/plain": [
              "array([ 0.39093  ,  0.23755  ,  0.44855  ,  0.11237  , -0.25996  ,\n",
              "       -1.2248   , -0.44237  , -0.53491  ,  0.37142  , -0.61981  ,\n",
              "       -0.27387  , -0.032213 ,  0.082629 , -0.52986  ,  0.13012  ,\n",
              "        0.21703  , -0.45026  , -0.0048895,  0.34887  , -0.26069  ,\n",
              "        0.56598  , -0.36219  ,  0.41926  ,  0.23441  , -0.29407  ,\n",
              "       -0.27044  ,  0.29339  , -0.73905  , -0.75965  ,  0.64661  ,\n",
              "       -0.038757 ,  0.38495  , -0.32314  ,  0.040322 ,  0.24036  ,\n",
              "        0.35167  ,  0.47404  ,  0.014959 ,  0.12105  , -1.0398   ,\n",
              "        0.27639  , -1.3785   , -0.22851  , -0.098074 ,  0.1495   ,\n",
              "       -0.2815   ,  0.31682  , -0.10208  , -0.08586  , -1.5114   ,\n",
              "       -0.48255  ,  0.15131  ,  0.0080133,  0.74594  , -0.20163  ,\n",
              "       -2.5268   , -0.82083  ,  0.1143   ,  2.4665   ,  0.19841  ,\n",
              "        0.1146   ,  0.10083  , -0.60936  ,  0.76722  ,  0.025978 ,\n",
              "       -0.036936 ,  0.46744  , -0.77073  ,  0.83992  , -0.032931 ,\n",
              "       -0.13127  , -0.097367 , -0.42634  , -0.49478  , -0.40796  ,\n",
              "       -0.67504  , -0.28535  ,  0.12474  , -1.145    , -0.43059  ,\n",
              "        1.172    ,  0.40749  , -0.83089  ,  0.41675  , -0.83018  ,\n",
              "       -0.88716  , -0.59827  , -0.56652  , -0.2275   , -0.42398  ,\n",
              "        0.63385  ,  0.62035  , -0.13429  , -0.49012  , -0.78362  ,\n",
              "        0.85838  ,  0.60102  , -0.40596  ,  0.77826  ,  1.105    ],\n",
              "      dtype=float32)"
            ]
          },
          "execution_count": 42,
          "metadata": {},
          "output_type": "execute_result"
        }
      ],
      "source": [
        "# Checking the word embedding of a random word\n",
        "word = \"market\"\n",
        "glove_model[word]"
      ]
    },
    {
      "cell_type": "code",
      "execution_count": 43,
      "metadata": {
        "id": "dn3js0OilGPN"
      },
      "outputs": [],
      "source": [
        "# Retrieving the words present in the GloVe model's vocabulary\n",
        "glove_words = glove_model.index_to_key\n",
        "\n",
        "# Creating a dictionary of words and their corresponding vectors\n",
        "glove_word_vector_dict = dict(zip(glove_model.index_to_key,list(glove_model.vectors)))"
      ]
    },
    {
      "cell_type": "code",
      "execution_count": 44,
      "metadata": {
        "id": "8HPmnljthSlk"
      },
      "outputs": [],
      "source": [
        "vec_size=100"
      ]
    },
    {
      "cell_type": "code",
      "execution_count": 45,
      "metadata": {
        "id": "5V1uwCQ_hWgk"
      },
      "outputs": [],
      "source": [
        "def average_vectorizer_GloVe(doc):\n",
        "    # Initializing a feature vector for the sentence\n",
        "    feature_vector = np.zeros((vec_size,), dtype=\"float64\")\n",
        "\n",
        "    # Creating a list of words in the sentence that are present in the model vocabulary\n",
        "    words_in_vocab = [word for word in doc.split() if word in glove_words]\n",
        "\n",
        "    # adding the vector representations of the words\n",
        "    for word in words_in_vocab:\n",
        "        feature_vector += np.array(glove_word_vector_dict[word])\n",
        "\n",
        "    # Dividing by the number of words to get the average vector\n",
        "    if len(words_in_vocab) != 0:\n",
        "        feature_vector /= len(words_in_vocab)\n",
        "\n",
        "    return feature_vector"
      ]
    },
    {
      "cell_type": "code",
      "execution_count": 46,
      "metadata": {
        "colab": {
          "base_uri": "https://localhost:8080/",
          "height": 461
        },
        "id": "atKfq6oahWda",
        "outputId": "1a0f98fa-9a3f-48d9-b789-9ed822a5d6d1"
      },
      "outputs": [
        {
          "data": {
            "text/html": [
              "<div>\n",
              "<style scoped>\n",
              "    .dataframe tbody tr th:only-of-type {\n",
              "        vertical-align: middle;\n",
              "    }\n",
              "\n",
              "    .dataframe tbody tr th {\n",
              "        vertical-align: top;\n",
              "    }\n",
              "\n",
              "    .dataframe thead th {\n",
              "        text-align: right;\n",
              "    }\n",
              "</style>\n",
              "<table border=\"1\" class=\"dataframe\">\n",
              "  <thead>\n",
              "    <tr style=\"text-align: right;\">\n",
              "      <th></th>\n",
              "      <th>Feature 0</th>\n",
              "      <th>Feature 1</th>\n",
              "      <th>Feature 2</th>\n",
              "      <th>Feature 3</th>\n",
              "      <th>Feature 4</th>\n",
              "      <th>Feature 5</th>\n",
              "      <th>Feature 6</th>\n",
              "      <th>Feature 7</th>\n",
              "      <th>Feature 8</th>\n",
              "      <th>Feature 9</th>\n",
              "      <th>...</th>\n",
              "      <th>Feature 90</th>\n",
              "      <th>Feature 91</th>\n",
              "      <th>Feature 92</th>\n",
              "      <th>Feature 93</th>\n",
              "      <th>Feature 94</th>\n",
              "      <th>Feature 95</th>\n",
              "      <th>Feature 96</th>\n",
              "      <th>Feature 97</th>\n",
              "      <th>Feature 98</th>\n",
              "      <th>Feature 99</th>\n",
              "    </tr>\n",
              "  </thead>\n",
              "  <tbody>\n",
              "    <tr>\n",
              "      <th>0</th>\n",
              "      <td>-0.134282</td>\n",
              "      <td>0.126626</td>\n",
              "      <td>0.328840</td>\n",
              "      <td>-0.182711</td>\n",
              "      <td>0.064765</td>\n",
              "      <td>0.048171</td>\n",
              "      <td>-0.118100</td>\n",
              "      <td>0.241884</td>\n",
              "      <td>-0.139207</td>\n",
              "      <td>0.094579</td>\n",
              "      <td>...</td>\n",
              "      <td>0.017975</td>\n",
              "      <td>-0.012465</td>\n",
              "      <td>-0.118299</td>\n",
              "      <td>0.054740</td>\n",
              "      <td>-0.405409</td>\n",
              "      <td>-0.064222</td>\n",
              "      <td>-0.132083</td>\n",
              "      <td>-0.243681</td>\n",
              "      <td>0.589222</td>\n",
              "      <td>0.089712</td>\n",
              "    </tr>\n",
              "    <tr>\n",
              "      <th>1</th>\n",
              "      <td>-0.137861</td>\n",
              "      <td>0.157233</td>\n",
              "      <td>0.295593</td>\n",
              "      <td>-0.172400</td>\n",
              "      <td>0.031347</td>\n",
              "      <td>0.051973</td>\n",
              "      <td>-0.177653</td>\n",
              "      <td>0.160689</td>\n",
              "      <td>-0.152347</td>\n",
              "      <td>0.116711</td>\n",
              "      <td>...</td>\n",
              "      <td>0.039546</td>\n",
              "      <td>-0.046727</td>\n",
              "      <td>-0.081407</td>\n",
              "      <td>0.077400</td>\n",
              "      <td>-0.352500</td>\n",
              "      <td>-0.071420</td>\n",
              "      <td>-0.155315</td>\n",
              "      <td>-0.332381</td>\n",
              "      <td>0.608697</td>\n",
              "      <td>0.075756</td>\n",
              "    </tr>\n",
              "    <tr>\n",
              "      <th>2</th>\n",
              "      <td>-0.113663</td>\n",
              "      <td>0.147499</td>\n",
              "      <td>0.273285</td>\n",
              "      <td>-0.199483</td>\n",
              "      <td>0.049112</td>\n",
              "      <td>0.099584</td>\n",
              "      <td>-0.189813</td>\n",
              "      <td>0.158141</td>\n",
              "      <td>-0.170542</td>\n",
              "      <td>0.100109</td>\n",
              "      <td>...</td>\n",
              "      <td>0.054376</td>\n",
              "      <td>-0.011329</td>\n",
              "      <td>-0.022291</td>\n",
              "      <td>0.066582</td>\n",
              "      <td>-0.385628</td>\n",
              "      <td>-0.124480</td>\n",
              "      <td>-0.174854</td>\n",
              "      <td>-0.299834</td>\n",
              "      <td>0.603494</td>\n",
              "      <td>0.078923</td>\n",
              "    </tr>\n",
              "    <tr>\n",
              "      <th>3</th>\n",
              "      <td>-0.079320</td>\n",
              "      <td>0.196253</td>\n",
              "      <td>0.412574</td>\n",
              "      <td>-0.129250</td>\n",
              "      <td>0.012841</td>\n",
              "      <td>-0.090713</td>\n",
              "      <td>-0.196752</td>\n",
              "      <td>0.144534</td>\n",
              "      <td>-0.084066</td>\n",
              "      <td>0.007836</td>\n",
              "      <td>...</td>\n",
              "      <td>0.058114</td>\n",
              "      <td>-0.042263</td>\n",
              "      <td>-0.144740</td>\n",
              "      <td>0.043269</td>\n",
              "      <td>-0.488093</td>\n",
              "      <td>0.114024</td>\n",
              "      <td>-0.125790</td>\n",
              "      <td>-0.340208</td>\n",
              "      <td>0.417470</td>\n",
              "      <td>0.216322</td>\n",
              "    </tr>\n",
              "    <tr>\n",
              "      <th>4</th>\n",
              "      <td>-0.017485</td>\n",
              "      <td>0.109310</td>\n",
              "      <td>0.397655</td>\n",
              "      <td>-0.047749</td>\n",
              "      <td>0.155263</td>\n",
              "      <td>-0.163776</td>\n",
              "      <td>-0.259916</td>\n",
              "      <td>0.187104</td>\n",
              "      <td>-0.120879</td>\n",
              "      <td>0.094435</td>\n",
              "      <td>...</td>\n",
              "      <td>0.005423</td>\n",
              "      <td>-0.078433</td>\n",
              "      <td>-0.242599</td>\n",
              "      <td>0.015010</td>\n",
              "      <td>-0.468458</td>\n",
              "      <td>0.037716</td>\n",
              "      <td>-0.182219</td>\n",
              "      <td>-0.224426</td>\n",
              "      <td>0.597006</td>\n",
              "      <td>0.087071</td>\n",
              "    </tr>\n",
              "    <tr>\n",
              "      <th>...</th>\n",
              "      <td>...</td>\n",
              "      <td>...</td>\n",
              "      <td>...</td>\n",
              "      <td>...</td>\n",
              "      <td>...</td>\n",
              "      <td>...</td>\n",
              "      <td>...</td>\n",
              "      <td>...</td>\n",
              "      <td>...</td>\n",
              "      <td>...</td>\n",
              "      <td>...</td>\n",
              "      <td>...</td>\n",
              "      <td>...</td>\n",
              "      <td>...</td>\n",
              "      <td>...</td>\n",
              "      <td>...</td>\n",
              "      <td>...</td>\n",
              "      <td>...</td>\n",
              "      <td>...</td>\n",
              "      <td>...</td>\n",
              "      <td>...</td>\n",
              "    </tr>\n",
              "    <tr>\n",
              "      <th>4071</th>\n",
              "      <td>-0.102622</td>\n",
              "      <td>0.125402</td>\n",
              "      <td>0.413610</td>\n",
              "      <td>-0.184391</td>\n",
              "      <td>-0.025150</td>\n",
              "      <td>0.164575</td>\n",
              "      <td>-0.127813</td>\n",
              "      <td>0.232864</td>\n",
              "      <td>-0.114882</td>\n",
              "      <td>0.039512</td>\n",
              "      <td>...</td>\n",
              "      <td>-0.012538</td>\n",
              "      <td>-0.077933</td>\n",
              "      <td>-0.116055</td>\n",
              "      <td>0.112129</td>\n",
              "      <td>-0.369219</td>\n",
              "      <td>0.039320</td>\n",
              "      <td>-0.213769</td>\n",
              "      <td>-0.243133</td>\n",
              "      <td>0.379018</td>\n",
              "      <td>0.147418</td>\n",
              "    </tr>\n",
              "    <tr>\n",
              "      <th>4072</th>\n",
              "      <td>-0.144216</td>\n",
              "      <td>0.027723</td>\n",
              "      <td>0.450701</td>\n",
              "      <td>-0.088768</td>\n",
              "      <td>-0.004147</td>\n",
              "      <td>0.034700</td>\n",
              "      <td>-0.017636</td>\n",
              "      <td>0.318803</td>\n",
              "      <td>-0.329615</td>\n",
              "      <td>-0.013553</td>\n",
              "      <td>...</td>\n",
              "      <td>-0.132778</td>\n",
              "      <td>0.040091</td>\n",
              "      <td>-0.117483</td>\n",
              "      <td>0.167835</td>\n",
              "      <td>-0.456551</td>\n",
              "      <td>0.017504</td>\n",
              "      <td>-0.157229</td>\n",
              "      <td>-0.070128</td>\n",
              "      <td>0.570110</td>\n",
              "      <td>0.082543</td>\n",
              "    </tr>\n",
              "    <tr>\n",
              "      <th>4073</th>\n",
              "      <td>-0.093575</td>\n",
              "      <td>0.058708</td>\n",
              "      <td>0.336170</td>\n",
              "      <td>-0.158225</td>\n",
              "      <td>0.041559</td>\n",
              "      <td>0.112622</td>\n",
              "      <td>-0.162536</td>\n",
              "      <td>0.191789</td>\n",
              "      <td>-0.104376</td>\n",
              "      <td>0.004575</td>\n",
              "      <td>...</td>\n",
              "      <td>0.078519</td>\n",
              "      <td>-0.078950</td>\n",
              "      <td>-0.102499</td>\n",
              "      <td>0.200796</td>\n",
              "      <td>-0.351327</td>\n",
              "      <td>0.013289</td>\n",
              "      <td>-0.280719</td>\n",
              "      <td>-0.329874</td>\n",
              "      <td>0.413723</td>\n",
              "      <td>0.122037</td>\n",
              "    </tr>\n",
              "    <tr>\n",
              "      <th>4074</th>\n",
              "      <td>-0.147251</td>\n",
              "      <td>0.133321</td>\n",
              "      <td>0.303674</td>\n",
              "      <td>-0.150822</td>\n",
              "      <td>0.044235</td>\n",
              "      <td>0.004631</td>\n",
              "      <td>-0.098632</td>\n",
              "      <td>0.211769</td>\n",
              "      <td>-0.162194</td>\n",
              "      <td>0.130229</td>\n",
              "      <td>...</td>\n",
              "      <td>-0.010947</td>\n",
              "      <td>-0.063550</td>\n",
              "      <td>-0.171090</td>\n",
              "      <td>0.147423</td>\n",
              "      <td>-0.406042</td>\n",
              "      <td>-0.066063</td>\n",
              "      <td>-0.144066</td>\n",
              "      <td>-0.259059</td>\n",
              "      <td>0.544269</td>\n",
              "      <td>0.014257</td>\n",
              "    </tr>\n",
              "    <tr>\n",
              "      <th>4075</th>\n",
              "      <td>-0.068775</td>\n",
              "      <td>0.163197</td>\n",
              "      <td>0.367068</td>\n",
              "      <td>-0.222744</td>\n",
              "      <td>0.030127</td>\n",
              "      <td>0.131971</td>\n",
              "      <td>-0.036638</td>\n",
              "      <td>0.145106</td>\n",
              "      <td>-0.202246</td>\n",
              "      <td>0.043241</td>\n",
              "      <td>...</td>\n",
              "      <td>-0.019085</td>\n",
              "      <td>-0.066078</td>\n",
              "      <td>-0.115374</td>\n",
              "      <td>0.186916</td>\n",
              "      <td>-0.413072</td>\n",
              "      <td>-0.036926</td>\n",
              "      <td>-0.222598</td>\n",
              "      <td>-0.221102</td>\n",
              "      <td>0.500667</td>\n",
              "      <td>0.112653</td>\n",
              "    </tr>\n",
              "  </tbody>\n",
              "</table>\n",
              "<p>4076 rows × 100 columns</p>\n",
              "</div>"
            ],
            "text/plain": [
              "      Feature 0  Feature 1  Feature 2  Feature 3  Feature 4  Feature 5  \\\n",
              "0     -0.134282   0.126626   0.328840  -0.182711   0.064765   0.048171   \n",
              "1     -0.137861   0.157233   0.295593  -0.172400   0.031347   0.051973   \n",
              "2     -0.113663   0.147499   0.273285  -0.199483   0.049112   0.099584   \n",
              "3     -0.079320   0.196253   0.412574  -0.129250   0.012841  -0.090713   \n",
              "4     -0.017485   0.109310   0.397655  -0.047749   0.155263  -0.163776   \n",
              "...         ...        ...        ...        ...        ...        ...   \n",
              "4071  -0.102622   0.125402   0.413610  -0.184391  -0.025150   0.164575   \n",
              "4072  -0.144216   0.027723   0.450701  -0.088768  -0.004147   0.034700   \n",
              "4073  -0.093575   0.058708   0.336170  -0.158225   0.041559   0.112622   \n",
              "4074  -0.147251   0.133321   0.303674  -0.150822   0.044235   0.004631   \n",
              "4075  -0.068775   0.163197   0.367068  -0.222744   0.030127   0.131971   \n",
              "\n",
              "      Feature 6  Feature 7  Feature 8  Feature 9  ...  Feature 90  Feature 91  \\\n",
              "0     -0.118100   0.241884  -0.139207   0.094579  ...    0.017975   -0.012465   \n",
              "1     -0.177653   0.160689  -0.152347   0.116711  ...    0.039546   -0.046727   \n",
              "2     -0.189813   0.158141  -0.170542   0.100109  ...    0.054376   -0.011329   \n",
              "3     -0.196752   0.144534  -0.084066   0.007836  ...    0.058114   -0.042263   \n",
              "4     -0.259916   0.187104  -0.120879   0.094435  ...    0.005423   -0.078433   \n",
              "...         ...        ...        ...        ...  ...         ...         ...   \n",
              "4071  -0.127813   0.232864  -0.114882   0.039512  ...   -0.012538   -0.077933   \n",
              "4072  -0.017636   0.318803  -0.329615  -0.013553  ...   -0.132778    0.040091   \n",
              "4073  -0.162536   0.191789  -0.104376   0.004575  ...    0.078519   -0.078950   \n",
              "4074  -0.098632   0.211769  -0.162194   0.130229  ...   -0.010947   -0.063550   \n",
              "4075  -0.036638   0.145106  -0.202246   0.043241  ...   -0.019085   -0.066078   \n",
              "\n",
              "      Feature 92  Feature 93  Feature 94  Feature 95  Feature 96  Feature 97  \\\n",
              "0      -0.118299    0.054740   -0.405409   -0.064222   -0.132083   -0.243681   \n",
              "1      -0.081407    0.077400   -0.352500   -0.071420   -0.155315   -0.332381   \n",
              "2      -0.022291    0.066582   -0.385628   -0.124480   -0.174854   -0.299834   \n",
              "3      -0.144740    0.043269   -0.488093    0.114024   -0.125790   -0.340208   \n",
              "4      -0.242599    0.015010   -0.468458    0.037716   -0.182219   -0.224426   \n",
              "...          ...         ...         ...         ...         ...         ...   \n",
              "4071   -0.116055    0.112129   -0.369219    0.039320   -0.213769   -0.243133   \n",
              "4072   -0.117483    0.167835   -0.456551    0.017504   -0.157229   -0.070128   \n",
              "4073   -0.102499    0.200796   -0.351327    0.013289   -0.280719   -0.329874   \n",
              "4074   -0.171090    0.147423   -0.406042   -0.066063   -0.144066   -0.259059   \n",
              "4075   -0.115374    0.186916   -0.413072   -0.036926   -0.222598   -0.221102   \n",
              "\n",
              "      Feature 98  Feature 99  \n",
              "0       0.589222    0.089712  \n",
              "1       0.608697    0.075756  \n",
              "2       0.603494    0.078923  \n",
              "3       0.417470    0.216322  \n",
              "4       0.597006    0.087071  \n",
              "...          ...         ...  \n",
              "4071    0.379018    0.147418  \n",
              "4072    0.570110    0.082543  \n",
              "4073    0.413723    0.122037  \n",
              "4074    0.544269    0.014257  \n",
              "4075    0.500667    0.112653  \n",
              "\n",
              "[4076 rows x 100 columns]"
            ]
          },
          "execution_count": 46,
          "metadata": {},
          "output_type": "execute_result"
        }
      ],
      "source": [
        "# creating a dataframe of the vectorized documents\n",
        "df_Glove = pd.DataFrame(dataset['Article_text_clean'].apply(average_vectorizer_GloVe).tolist(), columns=['Feature '+str(i) for i in range(vec_size)])\n",
        "df_Glove"
      ]
    },
    {
      "cell_type": "markdown",
      "metadata": {
        "id": "f4lwYN5bYmHp"
      },
      "source": [
        "## Model Building"
      ]
    },
    {
      "cell_type": "code",
      "execution_count": 48,
      "metadata": {
        "id": "TmpiQb6ohfFv"
      },
      "outputs": [],
      "source": [
        "# creating a function to plot the confusion matrix\n",
        "def plot_confusion_matrix(actual, predicted):\n",
        "    cm = confusion_matrix(actual, predicted)\n",
        "\n",
        "    plt.figure(figsize = (5, 4))\n",
        "    label_list = encoder.classes_.tolist()\n",
        "    sns.heatmap(cm, annot = True,  fmt = '.0f',cmap='Blues', xticklabels = label_list, yticklabels = label_list)\n",
        "    plt.ylabel('Actual')\n",
        "    plt.xlabel('Predicted')\n",
        "    plt.title('Confusion Matrix')\n",
        "    plt.show()"
      ]
    },
    {
      "cell_type": "code",
      "execution_count": 49,
      "metadata": {
        "id": "kGJsSn_SKQpP"
      },
      "outputs": [],
      "source": [
        "# defining a function to compute different metrics to check performance of a classification model built using sklearn\n",
        "def model_performance_classification_sklearn(model, predictors, target):\n",
        "    \"\"\"\n",
        "    Function to compute different metrics to check classification model performance\n",
        "\n",
        "    model: classifier\n",
        "    predictors: independent variables\n",
        "    target: dependent variable\n",
        "    \"\"\"\n",
        "\n",
        "    # predicting using the independent variables\n",
        "    pred = model.predict(predictors)\n",
        "\n",
        "    acc = accuracy_score(target, pred)  # to compute Accuracy\n",
        "    recall = recall_score(target, pred, average='weighted')  # to compute Recall\n",
        "    precision = precision_score(target, pred, average='weighted')  # to compute Precision\n",
        "    f1 = f1_score(target, pred, average='weighted')  # to compute F1-score\n",
        "\n",
        "    # creating a dataframe of metrics\n",
        "    df_perf = pd.DataFrame(\n",
        "        {\n",
        "            \"Accuracy\": acc,\n",
        "            \"Recall\": recall,\n",
        "            \"Precision\": precision,\n",
        "            \"F1\": f1,\n",
        "        },\n",
        "        index=[0],\n",
        "    )\n",
        "\n",
        "    return df_perf"
      ]
    },
    {
      "cell_type": "markdown",
      "metadata": {
        "id": "_TYy1g3ShksM"
      },
      "source": [
        "### Random Forest with Word2Vec"
      ]
    },
    {
      "cell_type": "code",
      "execution_count": 50,
      "metadata": {
        "id": "vvEZR2IWhpmt"
      },
      "outputs": [],
      "source": [
        "# Storing independent variable\n",
        "X = df_Word2Vec.copy()\n",
        "\n",
        "# Storing target variable\n",
        "y = dataset['Category']"
      ]
    },
    {
      "cell_type": "code",
      "execution_count": 51,
      "metadata": {
        "id": "ejfrW4ZRh54y"
      },
      "outputs": [],
      "source": [
        "# Split data into training and testing set.\n",
        "X_train, X_test, y_train, y_test = train_test_split(X ,y, test_size = 0.25, random_state = 42)"
      ]
    },
    {
      "cell_type": "code",
      "execution_count": 52,
      "metadata": {
        "id": "5tHKQsnPiZKp"
      },
      "outputs": [],
      "source": [
        "# Label Encoding\n",
        "encoder = LabelEncoder()\n",
        "\n",
        "# fitting the encoder to the training labels\n",
        "y_train_enc = encoder.fit_transform(y_train)\n",
        "\n",
        "# applying the encoder mapping from training labels to test labels\n",
        "y_test_enc = encoder.transform(y_test)"
      ]
    },
    {
      "cell_type": "markdown",
      "metadata": {
        "id": "R0bCBGK5Tcxa"
      },
      "source": [
        "#### RF Base model"
      ]
    },
    {
      "cell_type": "code",
      "execution_count": 53,
      "metadata": {
        "colab": {
          "base_uri": "https://localhost:8080/",
          "height": 74
        },
        "id": "JvPEOex9Th3u",
        "outputId": "47afce2d-67cb-4e7b-9744-3ea695d83983"
      },
      "outputs": [
        {
          "data": {
            "text/html": [
              "<style>#sk-container-id-1 {\n",
              "  /* Definition of color scheme common for light and dark mode */\n",
              "  --sklearn-color-text: #000;\n",
              "  --sklearn-color-text-muted: #666;\n",
              "  --sklearn-color-line: gray;\n",
              "  /* Definition of color scheme for unfitted estimators */\n",
              "  --sklearn-color-unfitted-level-0: #fff5e6;\n",
              "  --sklearn-color-unfitted-level-1: #f6e4d2;\n",
              "  --sklearn-color-unfitted-level-2: #ffe0b3;\n",
              "  --sklearn-color-unfitted-level-3: chocolate;\n",
              "  /* Definition of color scheme for fitted estimators */\n",
              "  --sklearn-color-fitted-level-0: #f0f8ff;\n",
              "  --sklearn-color-fitted-level-1: #d4ebff;\n",
              "  --sklearn-color-fitted-level-2: #b3dbfd;\n",
              "  --sklearn-color-fitted-level-3: cornflowerblue;\n",
              "\n",
              "  /* Specific color for light theme */\n",
              "  --sklearn-color-text-on-default-background: var(--sg-text-color, var(--theme-code-foreground, var(--jp-content-font-color1, black)));\n",
              "  --sklearn-color-background: var(--sg-background-color, var(--theme-background, var(--jp-layout-color0, white)));\n",
              "  --sklearn-color-border-box: var(--sg-text-color, var(--theme-code-foreground, var(--jp-content-font-color1, black)));\n",
              "  --sklearn-color-icon: #696969;\n",
              "\n",
              "  @media (prefers-color-scheme: dark) {\n",
              "    /* Redefinition of color scheme for dark theme */\n",
              "    --sklearn-color-text-on-default-background: var(--sg-text-color, var(--theme-code-foreground, var(--jp-content-font-color1, white)));\n",
              "    --sklearn-color-background: var(--sg-background-color, var(--theme-background, var(--jp-layout-color0, #111)));\n",
              "    --sklearn-color-border-box: var(--sg-text-color, var(--theme-code-foreground, var(--jp-content-font-color1, white)));\n",
              "    --sklearn-color-icon: #878787;\n",
              "  }\n",
              "}\n",
              "\n",
              "#sk-container-id-1 {\n",
              "  color: var(--sklearn-color-text);\n",
              "}\n",
              "\n",
              "#sk-container-id-1 pre {\n",
              "  padding: 0;\n",
              "}\n",
              "\n",
              "#sk-container-id-1 input.sk-hidden--visually {\n",
              "  border: 0;\n",
              "  clip: rect(1px 1px 1px 1px);\n",
              "  clip: rect(1px, 1px, 1px, 1px);\n",
              "  height: 1px;\n",
              "  margin: -1px;\n",
              "  overflow: hidden;\n",
              "  padding: 0;\n",
              "  position: absolute;\n",
              "  width: 1px;\n",
              "}\n",
              "\n",
              "#sk-container-id-1 div.sk-dashed-wrapped {\n",
              "  border: 1px dashed var(--sklearn-color-line);\n",
              "  margin: 0 0.4em 0.5em 0.4em;\n",
              "  box-sizing: border-box;\n",
              "  padding-bottom: 0.4em;\n",
              "  background-color: var(--sklearn-color-background);\n",
              "}\n",
              "\n",
              "#sk-container-id-1 div.sk-container {\n",
              "  /* jupyter's `normalize.less` sets `[hidden] { display: none; }`\n",
              "     but bootstrap.min.css set `[hidden] { display: none !important; }`\n",
              "     so we also need the `!important` here to be able to override the\n",
              "     default hidden behavior on the sphinx rendered scikit-learn.org.\n",
              "     See: https://github.com/scikit-learn/scikit-learn/issues/21755 */\n",
              "  display: inline-block !important;\n",
              "  position: relative;\n",
              "}\n",
              "\n",
              "#sk-container-id-1 div.sk-text-repr-fallback {\n",
              "  display: none;\n",
              "}\n",
              "\n",
              "div.sk-parallel-item,\n",
              "div.sk-serial,\n",
              "div.sk-item {\n",
              "  /* draw centered vertical line to link estimators */\n",
              "  background-image: linear-gradient(var(--sklearn-color-text-on-default-background), var(--sklearn-color-text-on-default-background));\n",
              "  background-size: 2px 100%;\n",
              "  background-repeat: no-repeat;\n",
              "  background-position: center center;\n",
              "}\n",
              "\n",
              "/* Parallel-specific style estimator block */\n",
              "\n",
              "#sk-container-id-1 div.sk-parallel-item::after {\n",
              "  content: \"\";\n",
              "  width: 100%;\n",
              "  border-bottom: 2px solid var(--sklearn-color-text-on-default-background);\n",
              "  flex-grow: 1;\n",
              "}\n",
              "\n",
              "#sk-container-id-1 div.sk-parallel {\n",
              "  display: flex;\n",
              "  align-items: stretch;\n",
              "  justify-content: center;\n",
              "  background-color: var(--sklearn-color-background);\n",
              "  position: relative;\n",
              "}\n",
              "\n",
              "#sk-container-id-1 div.sk-parallel-item {\n",
              "  display: flex;\n",
              "  flex-direction: column;\n",
              "}\n",
              "\n",
              "#sk-container-id-1 div.sk-parallel-item:first-child::after {\n",
              "  align-self: flex-end;\n",
              "  width: 50%;\n",
              "}\n",
              "\n",
              "#sk-container-id-1 div.sk-parallel-item:last-child::after {\n",
              "  align-self: flex-start;\n",
              "  width: 50%;\n",
              "}\n",
              "\n",
              "#sk-container-id-1 div.sk-parallel-item:only-child::after {\n",
              "  width: 0;\n",
              "}\n",
              "\n",
              "/* Serial-specific style estimator block */\n",
              "\n",
              "#sk-container-id-1 div.sk-serial {\n",
              "  display: flex;\n",
              "  flex-direction: column;\n",
              "  align-items: center;\n",
              "  background-color: var(--sklearn-color-background);\n",
              "  padding-right: 1em;\n",
              "  padding-left: 1em;\n",
              "}\n",
              "\n",
              "\n",
              "/* Toggleable style: style used for estimator/Pipeline/ColumnTransformer box that is\n",
              "clickable and can be expanded/collapsed.\n",
              "- Pipeline and ColumnTransformer use this feature and define the default style\n",
              "- Estimators will overwrite some part of the style using the `sk-estimator` class\n",
              "*/\n",
              "\n",
              "/* Pipeline and ColumnTransformer style (default) */\n",
              "\n",
              "#sk-container-id-1 div.sk-toggleable {\n",
              "  /* Default theme specific background. It is overwritten whether we have a\n",
              "  specific estimator or a Pipeline/ColumnTransformer */\n",
              "  background-color: var(--sklearn-color-background);\n",
              "}\n",
              "\n",
              "/* Toggleable label */\n",
              "#sk-container-id-1 label.sk-toggleable__label {\n",
              "  cursor: pointer;\n",
              "  display: flex;\n",
              "  width: 100%;\n",
              "  margin-bottom: 0;\n",
              "  padding: 0.5em;\n",
              "  box-sizing: border-box;\n",
              "  text-align: center;\n",
              "  align-items: start;\n",
              "  justify-content: space-between;\n",
              "  gap: 0.5em;\n",
              "}\n",
              "\n",
              "#sk-container-id-1 label.sk-toggleable__label .caption {\n",
              "  font-size: 0.6rem;\n",
              "  font-weight: lighter;\n",
              "  color: var(--sklearn-color-text-muted);\n",
              "}\n",
              "\n",
              "#sk-container-id-1 label.sk-toggleable__label-arrow:before {\n",
              "  /* Arrow on the left of the label */\n",
              "  content: \"▸\";\n",
              "  float: left;\n",
              "  margin-right: 0.25em;\n",
              "  color: var(--sklearn-color-icon);\n",
              "}\n",
              "\n",
              "#sk-container-id-1 label.sk-toggleable__label-arrow:hover:before {\n",
              "  color: var(--sklearn-color-text);\n",
              "}\n",
              "\n",
              "/* Toggleable content - dropdown */\n",
              "\n",
              "#sk-container-id-1 div.sk-toggleable__content {\n",
              "  max-height: 0;\n",
              "  max-width: 0;\n",
              "  overflow: hidden;\n",
              "  text-align: left;\n",
              "  /* unfitted */\n",
              "  background-color: var(--sklearn-color-unfitted-level-0);\n",
              "}\n",
              "\n",
              "#sk-container-id-1 div.sk-toggleable__content.fitted {\n",
              "  /* fitted */\n",
              "  background-color: var(--sklearn-color-fitted-level-0);\n",
              "}\n",
              "\n",
              "#sk-container-id-1 div.sk-toggleable__content pre {\n",
              "  margin: 0.2em;\n",
              "  border-radius: 0.25em;\n",
              "  color: var(--sklearn-color-text);\n",
              "  /* unfitted */\n",
              "  background-color: var(--sklearn-color-unfitted-level-0);\n",
              "}\n",
              "\n",
              "#sk-container-id-1 div.sk-toggleable__content.fitted pre {\n",
              "  /* unfitted */\n",
              "  background-color: var(--sklearn-color-fitted-level-0);\n",
              "}\n",
              "\n",
              "#sk-container-id-1 input.sk-toggleable__control:checked~div.sk-toggleable__content {\n",
              "  /* Expand drop-down */\n",
              "  max-height: 200px;\n",
              "  max-width: 100%;\n",
              "  overflow: auto;\n",
              "}\n",
              "\n",
              "#sk-container-id-1 input.sk-toggleable__control:checked~label.sk-toggleable__label-arrow:before {\n",
              "  content: \"▾\";\n",
              "}\n",
              "\n",
              "/* Pipeline/ColumnTransformer-specific style */\n",
              "\n",
              "#sk-container-id-1 div.sk-label input.sk-toggleable__control:checked~label.sk-toggleable__label {\n",
              "  color: var(--sklearn-color-text);\n",
              "  background-color: var(--sklearn-color-unfitted-level-2);\n",
              "}\n",
              "\n",
              "#sk-container-id-1 div.sk-label.fitted input.sk-toggleable__control:checked~label.sk-toggleable__label {\n",
              "  background-color: var(--sklearn-color-fitted-level-2);\n",
              "}\n",
              "\n",
              "/* Estimator-specific style */\n",
              "\n",
              "/* Colorize estimator box */\n",
              "#sk-container-id-1 div.sk-estimator input.sk-toggleable__control:checked~label.sk-toggleable__label {\n",
              "  /* unfitted */\n",
              "  background-color: var(--sklearn-color-unfitted-level-2);\n",
              "}\n",
              "\n",
              "#sk-container-id-1 div.sk-estimator.fitted input.sk-toggleable__control:checked~label.sk-toggleable__label {\n",
              "  /* fitted */\n",
              "  background-color: var(--sklearn-color-fitted-level-2);\n",
              "}\n",
              "\n",
              "#sk-container-id-1 div.sk-label label.sk-toggleable__label,\n",
              "#sk-container-id-1 div.sk-label label {\n",
              "  /* The background is the default theme color */\n",
              "  color: var(--sklearn-color-text-on-default-background);\n",
              "}\n",
              "\n",
              "/* On hover, darken the color of the background */\n",
              "#sk-container-id-1 div.sk-label:hover label.sk-toggleable__label {\n",
              "  color: var(--sklearn-color-text);\n",
              "  background-color: var(--sklearn-color-unfitted-level-2);\n",
              "}\n",
              "\n",
              "/* Label box, darken color on hover, fitted */\n",
              "#sk-container-id-1 div.sk-label.fitted:hover label.sk-toggleable__label.fitted {\n",
              "  color: var(--sklearn-color-text);\n",
              "  background-color: var(--sklearn-color-fitted-level-2);\n",
              "}\n",
              "\n",
              "/* Estimator label */\n",
              "\n",
              "#sk-container-id-1 div.sk-label label {\n",
              "  font-family: monospace;\n",
              "  font-weight: bold;\n",
              "  display: inline-block;\n",
              "  line-height: 1.2em;\n",
              "}\n",
              "\n",
              "#sk-container-id-1 div.sk-label-container {\n",
              "  text-align: center;\n",
              "}\n",
              "\n",
              "/* Estimator-specific */\n",
              "#sk-container-id-1 div.sk-estimator {\n",
              "  font-family: monospace;\n",
              "  border: 1px dotted var(--sklearn-color-border-box);\n",
              "  border-radius: 0.25em;\n",
              "  box-sizing: border-box;\n",
              "  margin-bottom: 0.5em;\n",
              "  /* unfitted */\n",
              "  background-color: var(--sklearn-color-unfitted-level-0);\n",
              "}\n",
              "\n",
              "#sk-container-id-1 div.sk-estimator.fitted {\n",
              "  /* fitted */\n",
              "  background-color: var(--sklearn-color-fitted-level-0);\n",
              "}\n",
              "\n",
              "/* on hover */\n",
              "#sk-container-id-1 div.sk-estimator:hover {\n",
              "  /* unfitted */\n",
              "  background-color: var(--sklearn-color-unfitted-level-2);\n",
              "}\n",
              "\n",
              "#sk-container-id-1 div.sk-estimator.fitted:hover {\n",
              "  /* fitted */\n",
              "  background-color: var(--sklearn-color-fitted-level-2);\n",
              "}\n",
              "\n",
              "/* Specification for estimator info (e.g. \"i\" and \"?\") */\n",
              "\n",
              "/* Common style for \"i\" and \"?\" */\n",
              "\n",
              ".sk-estimator-doc-link,\n",
              "a:link.sk-estimator-doc-link,\n",
              "a:visited.sk-estimator-doc-link {\n",
              "  float: right;\n",
              "  font-size: smaller;\n",
              "  line-height: 1em;\n",
              "  font-family: monospace;\n",
              "  background-color: var(--sklearn-color-background);\n",
              "  border-radius: 1em;\n",
              "  height: 1em;\n",
              "  width: 1em;\n",
              "  text-decoration: none !important;\n",
              "  margin-left: 0.5em;\n",
              "  text-align: center;\n",
              "  /* unfitted */\n",
              "  border: var(--sklearn-color-unfitted-level-1) 1pt solid;\n",
              "  color: var(--sklearn-color-unfitted-level-1);\n",
              "}\n",
              "\n",
              ".sk-estimator-doc-link.fitted,\n",
              "a:link.sk-estimator-doc-link.fitted,\n",
              "a:visited.sk-estimator-doc-link.fitted {\n",
              "  /* fitted */\n",
              "  border: var(--sklearn-color-fitted-level-1) 1pt solid;\n",
              "  color: var(--sklearn-color-fitted-level-1);\n",
              "}\n",
              "\n",
              "/* On hover */\n",
              "div.sk-estimator:hover .sk-estimator-doc-link:hover,\n",
              ".sk-estimator-doc-link:hover,\n",
              "div.sk-label-container:hover .sk-estimator-doc-link:hover,\n",
              ".sk-estimator-doc-link:hover {\n",
              "  /* unfitted */\n",
              "  background-color: var(--sklearn-color-unfitted-level-3);\n",
              "  color: var(--sklearn-color-background);\n",
              "  text-decoration: none;\n",
              "}\n",
              "\n",
              "div.sk-estimator.fitted:hover .sk-estimator-doc-link.fitted:hover,\n",
              ".sk-estimator-doc-link.fitted:hover,\n",
              "div.sk-label-container:hover .sk-estimator-doc-link.fitted:hover,\n",
              ".sk-estimator-doc-link.fitted:hover {\n",
              "  /* fitted */\n",
              "  background-color: var(--sklearn-color-fitted-level-3);\n",
              "  color: var(--sklearn-color-background);\n",
              "  text-decoration: none;\n",
              "}\n",
              "\n",
              "/* Span, style for the box shown on hovering the info icon */\n",
              ".sk-estimator-doc-link span {\n",
              "  display: none;\n",
              "  z-index: 9999;\n",
              "  position: relative;\n",
              "  font-weight: normal;\n",
              "  right: .2ex;\n",
              "  padding: .5ex;\n",
              "  margin: .5ex;\n",
              "  width: min-content;\n",
              "  min-width: 20ex;\n",
              "  max-width: 50ex;\n",
              "  color: var(--sklearn-color-text);\n",
              "  box-shadow: 2pt 2pt 4pt #999;\n",
              "  /* unfitted */\n",
              "  background: var(--sklearn-color-unfitted-level-0);\n",
              "  border: .5pt solid var(--sklearn-color-unfitted-level-3);\n",
              "}\n",
              "\n",
              ".sk-estimator-doc-link.fitted span {\n",
              "  /* fitted */\n",
              "  background: var(--sklearn-color-fitted-level-0);\n",
              "  border: var(--sklearn-color-fitted-level-3);\n",
              "}\n",
              "\n",
              ".sk-estimator-doc-link:hover span {\n",
              "  display: block;\n",
              "}\n",
              "\n",
              "/* \"?\"-specific style due to the `<a>` HTML tag */\n",
              "\n",
              "#sk-container-id-1 a.estimator_doc_link {\n",
              "  float: right;\n",
              "  font-size: 1rem;\n",
              "  line-height: 1em;\n",
              "  font-family: monospace;\n",
              "  background-color: var(--sklearn-color-background);\n",
              "  border-radius: 1rem;\n",
              "  height: 1rem;\n",
              "  width: 1rem;\n",
              "  text-decoration: none;\n",
              "  /* unfitted */\n",
              "  color: var(--sklearn-color-unfitted-level-1);\n",
              "  border: var(--sklearn-color-unfitted-level-1) 1pt solid;\n",
              "}\n",
              "\n",
              "#sk-container-id-1 a.estimator_doc_link.fitted {\n",
              "  /* fitted */\n",
              "  border: var(--sklearn-color-fitted-level-1) 1pt solid;\n",
              "  color: var(--sklearn-color-fitted-level-1);\n",
              "}\n",
              "\n",
              "/* On hover */\n",
              "#sk-container-id-1 a.estimator_doc_link:hover {\n",
              "  /* unfitted */\n",
              "  background-color: var(--sklearn-color-unfitted-level-3);\n",
              "  color: var(--sklearn-color-background);\n",
              "  text-decoration: none;\n",
              "}\n",
              "\n",
              "#sk-container-id-1 a.estimator_doc_link.fitted:hover {\n",
              "  /* fitted */\n",
              "  background-color: var(--sklearn-color-fitted-level-3);\n",
              "}\n",
              "</style><div id=\"sk-container-id-1\" class=\"sk-top-container\"><div class=\"sk-text-repr-fallback\"><pre>RandomForestClassifier(class_weight=&#x27;balanced&#x27;, random_state=42)</pre><b>In a Jupyter environment, please rerun this cell to show the HTML representation or trust the notebook. <br />On GitHub, the HTML representation is unable to render, please try loading this page with nbviewer.org.</b></div><div class=\"sk-container\" hidden><div class=\"sk-item\"><div class=\"sk-estimator fitted sk-toggleable\"><input class=\"sk-toggleable__control sk-hidden--visually\" id=\"sk-estimator-id-1\" type=\"checkbox\" checked><label for=\"sk-estimator-id-1\" class=\"sk-toggleable__label fitted sk-toggleable__label-arrow\"><div><div>RandomForestClassifier</div></div><div><a class=\"sk-estimator-doc-link fitted\" rel=\"noreferrer\" target=\"_blank\" href=\"https://scikit-learn.org/1.6/modules/generated/sklearn.ensemble.RandomForestClassifier.html\">?<span>Documentation for RandomForestClassifier</span></a><span class=\"sk-estimator-doc-link fitted\">i<span>Fitted</span></span></div></label><div class=\"sk-toggleable__content fitted\"><pre>RandomForestClassifier(class_weight=&#x27;balanced&#x27;, random_state=42)</pre></div> </div></div></div></div>"
            ],
            "text/plain": [
              "RandomForestClassifier(class_weight='balanced', random_state=42)"
            ]
          },
          "execution_count": 53,
          "metadata": {},
          "output_type": "execute_result"
        }
      ],
      "source": [
        "# Building the model\n",
        "rf_word2vec_base = RandomForestClassifier(class_weight= \"balanced\",random_state = 42)\n",
        "\n",
        "# Fitting on train data\n",
        "rf_word2vec_base.fit(X_train, y_train_enc)"
      ]
    },
    {
      "cell_type": "code",
      "execution_count": 54,
      "metadata": {
        "id": "QjQHbJE2Thzx"
      },
      "outputs": [],
      "source": [
        "# Predicting on train data\n",
        "y_pred_train_base = rf_word2vec_base.predict(X_train)\n",
        "\n",
        "# Predicting on test data\n",
        "y_pred_test_base = rf_word2vec_base.predict(X_test)"
      ]
    },
    {
      "cell_type": "code",
      "execution_count": 55,
      "metadata": {
        "colab": {
          "base_uri": "https://localhost:8080/",
          "height": 496
        },
        "id": "WueQkNTkThx5",
        "outputId": "6391063e-2581-4cae-9bbb-0943f1846133"
      },
      "outputs": [
        {
          "data": {
            "image/png": "[encoded data removed]",
            "text/plain": [
              "<Figure size 500x400 with 2 Axes>"
            ]
          },
          "metadata": {},
          "output_type": "display_data"
        }
      ],
      "source": [
        "plot_confusion_matrix(y_train_enc, y_pred_train_base)"
      ]
    },
    {
      "cell_type": "code",
      "execution_count": 56,
      "metadata": {
        "colab": {
          "base_uri": "https://localhost:8080/",
          "height": 496
        },
        "id": "40czuX1ZThvg",
        "outputId": "758277e5-6ba7-4161-fa37-945f18c08cde"
      },
      "outputs": [
        {
          "data": {
            "image/png": "[encoded data removed]",
            "text/plain": [
              "<Figure size 500x400 with 2 Axes>"
            ]
          },
          "metadata": {},
          "output_type": "display_data"
        }
      ],
      "source": [
        "plot_confusion_matrix(y_test_enc, y_pred_test_base)"
      ]
    },
    {
      "cell_type": "code",
      "execution_count": 57,
      "metadata": {
        "colab": {
          "base_uri": "https://localhost:8080/"
        },
        "id": "2WUQn6X5Tht-",
        "outputId": "5d190017-b0f2-40cb-d83a-847adf8ace8b"
      },
      "outputs": [
        {
          "name": "stdout",
          "output_type": "stream",
          "text": [
            "Training performance:\n",
            "    Accuracy  Recall  Precision   F1\n",
            "0       1.0     1.0        1.0  1.0\n"
          ]
        }
      ],
      "source": [
        "#Calculating different metrics on training data\n",
        "word2vec_base_train=model_performance_classification_sklearn(rf_word2vec_base, X_train,y_train_enc)\n",
        "print(\"Training performance:\\n\", word2vec_base_train)"
      ]
    },
    {
      "cell_type": "code",
      "execution_count": 58,
      "metadata": {
        "colab": {
          "base_uri": "https://localhost:8080/"
        },
        "id": "s0g30XvRThsc",
        "outputId": "61cf63c5-e74e-42f1-adcd-c523b25074c0"
      },
      "outputs": [
        {
          "name": "stdout",
          "output_type": "stream",
          "text": [
            "Testing performance:\n",
            "    Accuracy    Recall  Precision        F1\n",
            "0  0.911678  0.911678   0.907182  0.890945\n"
          ]
        },
        {
          "name": "stderr",
          "output_type": "stream",
          "text": [
            "/Users/ashokankarunanidhi/AI-ML/GitHub Libraries/Generative AI/.venv/lib/python3.12/site-packages/sklearn/metrics/_classification.py:1565: UndefinedMetricWarning: Precision is ill-defined and being set to 0.0 in labels with no predicted samples. Use `zero_division` parameter to control this behavior.\n",
            "  _warn_prf(average, modifier, f\"{metric.capitalize()} is\", len(result))\n"
          ]
        }
      ],
      "source": [
        "#Calculating different metrics on training data\n",
        "word2vec_base_test=model_performance_classification_sklearn(rf_word2vec_base, X_test,y_test_enc)\n",
        "print(\"Testing performance:\\n\", word2vec_base_test)"
      ]
    },
    {
      "cell_type": "markdown",
      "metadata": {
        "id": "iLS7b3bWNkKs"
      },
      "source": [
        "#### RF model with Grid Search"
      ]
    },
    {
      "cell_type": "code",
      "execution_count": null,
      "metadata": {
        "colab": {
          "base_uri": "https://localhost:8080/",
          "height": 148
        },
        "id": "5QEsVugVNjvE",
        "outputId": "f64e55a7-b866-4879-a560-8b27697336e5"
      },
      "outputs": [],
      "source": [
        "# Choose the type of classifier.\n",
        "word2vec_rf_tuned = RandomForestClassifier(class_weight= \"balanced\",random_state=1,bootstrap=True)\n",
        "\n",
        "parameters = {\n",
        "    'max_depth': list(np.arange(5,10,2)),\n",
        "    'n_estimators': np.arange(50,110,25),\n",
        "    'max_features': [0.3,0.4]\n",
        "}\n",
        "\n",
        "# Run the grid search\n",
        "grid_obj = GridSearchCV(word2vec_rf_tuned, parameters, scoring='recall',cv=5,n_jobs=-1)\n",
        "grid_obj = grid_obj.fit(X_train, y_train_enc)\n",
        "\n",
        "# Set the clf to the best combination of parameters\n",
        "word2vec_rf_tuned = grid_obj.best_estimator_\n",
        "\n",
        "# Fit the best algorithm to the data.\n",
        "word2vec_rf_tuned.fit(X_train, y_train_enc)"
      ]
    },
    {
      "cell_type": "code",
      "execution_count": 60,
      "metadata": {
        "id": "aTzVYGkRNjro"
      },
      "outputs": [],
      "source": [
        "# Predicting on train data\n",
        "y_pred_train_tuned = word2vec_rf_tuned.predict(X_train)\n",
        "\n",
        "# Predicting on test data\n",
        "y_pred_test_tuned = word2vec_rf_tuned.predict(X_test)"
      ]
    },
    {
      "cell_type": "code",
      "execution_count": 61,
      "metadata": {
        "colab": {
          "base_uri": "https://localhost:8080/",
          "height": 496
        },
        "id": "PPiQe8IVNjoK",
        "outputId": "29aeddd6-46ac-4a56-9663-c2d0fc656494"
      },
      "outputs": [
        {
          "data": {
            "image/png": "[encoded data removed]",
            "text/plain": [
              "<Figure size 500x400 with 2 Axes>"
            ]
          },
          "metadata": {},
          "output_type": "display_data"
        }
      ],
      "source": [
        "plot_confusion_matrix(y_train_enc, y_pred_train_tuned)"
      ]
    },
    {
      "cell_type": "code",
      "execution_count": 62,
      "metadata": {
        "colab": {
          "base_uri": "https://localhost:8080/",
          "height": 496
        },
        "id": "JUPSHX9iNjl6",
        "outputId": "6afcab9b-50e1-45bd-933a-eb562f98238f"
      },
      "outputs": [
        {
          "data": {
            "image/png": "[encoded data removed]",
            "text/plain": [
              "<Figure size 500x400 with 2 Axes>"
            ]
          },
          "metadata": {},
          "output_type": "display_data"
        }
      ],
      "source": [
        "plot_confusion_matrix(y_test_enc, y_pred_test_tuned)"
      ]
    },
    {
      "cell_type": "code",
      "execution_count": 63,
      "metadata": {
        "colab": {
          "base_uri": "https://localhost:8080/"
        },
        "id": "4z57heUsQwV7",
        "outputId": "e5c35a2a-07d7-4c0b-dc7f-bb1e1882fdda"
      },
      "outputs": [
        {
          "name": "stdout",
          "output_type": "stream",
          "text": [
            "Training performance:\n",
            "    Accuracy    Recall  Precision        F1\n",
            "0  0.889761  0.889761   0.932771  0.903204\n"
          ]
        }
      ],
      "source": [
        "#Calculating different metrics on training data\n",
        "word2vec_tuned_train=model_performance_classification_sklearn(word2vec_rf_tuned, X_train,y_train_enc)\n",
        "print(\"Training performance:\\n\", word2vec_tuned_train)"
      ]
    },
    {
      "cell_type": "code",
      "execution_count": 64,
      "metadata": {
        "colab": {
          "base_uri": "https://localhost:8080/"
        },
        "id": "_xQTblStQwSn",
        "outputId": "9220034b-152c-48fa-d890-891f4062a115"
      },
      "outputs": [
        {
          "name": "stdout",
          "output_type": "stream",
          "text": [
            "Testing performance:\n",
            "    Accuracy    Recall  Precision        F1\n",
            "0  0.844946  0.844946   0.894901  0.860932\n"
          ]
        }
      ],
      "source": [
        "#Calculating different metrics on training data\n",
        "word2vec_tuned_test=model_performance_classification_sklearn(word2vec_rf_tuned, X_test,y_test_enc)\n",
        "print(\"Testing performance:\\n\", word2vec_tuned_test)"
      ]
    },
    {
      "cell_type": "markdown",
      "metadata": {
        "id": "0vgMuXQwklFw"
      },
      "source": [
        "### Random Forest with GloVe"
      ]
    },
    {
      "cell_type": "code",
      "execution_count": 65,
      "metadata": {
        "id": "aJjnMH_klEYy"
      },
      "outputs": [],
      "source": [
        "# Storing independent variable\n",
        "X = df_Glove.copy()\n",
        "\n",
        "# Storing target variable\n",
        "y = dataset['Category']"
      ]
    },
    {
      "cell_type": "code",
      "execution_count": 66,
      "metadata": {
        "id": "hM7PMudWlK2q"
      },
      "outputs": [],
      "source": [
        "# Split data into training and testing set.\n",
        "X_train_glove, X_test_glove, y_train_glove, y_test_glove = train_test_split(X ,y, test_size = 0.25, random_state = 42)"
      ]
    },
    {
      "cell_type": "code",
      "execution_count": 67,
      "metadata": {
        "id": "EjVqTYutlLgS"
      },
      "outputs": [],
      "source": [
        "# Label Encoding\n",
        "encoder = LabelEncoder()\n",
        "\n",
        "# fitting the encoder to the training labels\n",
        "y_train_enc_glove = encoder.fit_transform(y_train_glove)\n",
        "\n",
        "# applying the encoder mapping from training labels to test labels\n",
        "y_test_enc_glove = encoder.transform(y_test_glove)"
      ]
    },
    {
      "cell_type": "markdown",
      "metadata": {
        "id": "aeNmBOKAU8Py"
      },
      "source": [
        "#### RF Base model"
      ]
    },
    {
      "cell_type": "code",
      "execution_count": 68,
      "metadata": {
        "colab": {
          "base_uri": "https://localhost:8080/",
          "height": 74
        },
        "id": "qVPxKFIHVABc",
        "outputId": "44582562-4e2c-464d-b7de-4f74c47ec4bc"
      },
      "outputs": [
        {
          "data": {
            "text/html": [
              "<style>#sk-container-id-3 {\n",
              "  /* Definition of color scheme common for light and dark mode */\n",
              "  --sklearn-color-text: #000;\n",
              "  --sklearn-color-text-muted: #666;\n",
              "  --sklearn-color-line: gray;\n",
              "  /* Definition of color scheme for unfitted estimators */\n",
              "  --sklearn-color-unfitted-level-0: #fff5e6;\n",
              "  --sklearn-color-unfitted-level-1: #f6e4d2;\n",
              "  --sklearn-color-unfitted-level-2: #ffe0b3;\n",
              "  --sklearn-color-unfitted-level-3: chocolate;\n",
              "  /* Definition of color scheme for fitted estimators */\n",
              "  --sklearn-color-fitted-level-0: #f0f8ff;\n",
              "  --sklearn-color-fitted-level-1: #d4ebff;\n",
              "  --sklearn-color-fitted-level-2: #b3dbfd;\n",
              "  --sklearn-color-fitted-level-3: cornflowerblue;\n",
              "\n",
              "  /* Specific color for light theme */\n",
              "  --sklearn-color-text-on-default-background: var(--sg-text-color, var(--theme-code-foreground, var(--jp-content-font-color1, black)));\n",
              "  --sklearn-color-background: var(--sg-background-color, var(--theme-background, var(--jp-layout-color0, white)));\n",
              "  --sklearn-color-border-box: var(--sg-text-color, var(--theme-code-foreground, var(--jp-content-font-color1, black)));\n",
              "  --sklearn-color-icon: #696969;\n",
              "\n",
              "  @media (prefers-color-scheme: dark) {\n",
              "    /* Redefinition of color scheme for dark theme */\n",
              "    --sklearn-color-text-on-default-background: var(--sg-text-color, var(--theme-code-foreground, var(--jp-content-font-color1, white)));\n",
              "    --sklearn-color-background: var(--sg-background-color, var(--theme-background, var(--jp-layout-color0, #111)));\n",
              "    --sklearn-color-border-box: var(--sg-text-color, var(--theme-code-foreground, var(--jp-content-font-color1, white)));\n",
              "    --sklearn-color-icon: #878787;\n",
              "  }\n",
              "}\n",
              "\n",
              "#sk-container-id-3 {\n",
              "  color: var(--sklearn-color-text);\n",
              "}\n",
              "\n",
              "#sk-container-id-3 pre {\n",
              "  padding: 0;\n",
              "}\n",
              "\n",
              "#sk-container-id-3 input.sk-hidden--visually {\n",
              "  border: 0;\n",
              "  clip: rect(1px 1px 1px 1px);\n",
              "  clip: rect(1px, 1px, 1px, 1px);\n",
              "  height: 1px;\n",
              "  margin: -1px;\n",
              "  overflow: hidden;\n",
              "  padding: 0;\n",
              "  position: absolute;\n",
              "  width: 1px;\n",
              "}\n",
              "\n",
              "#sk-container-id-3 div.sk-dashed-wrapped {\n",
              "  border: 1px dashed var(--sklearn-color-line);\n",
              "  margin: 0 0.4em 0.5em 0.4em;\n",
              "  box-sizing: border-box;\n",
              "  padding-bottom: 0.4em;\n",
              "  background-color: var(--sklearn-color-background);\n",
              "}\n",
              "\n",
              "#sk-container-id-3 div.sk-container {\n",
              "  /* jupyter's `normalize.less` sets `[hidden] { display: none; }`\n",
              "     but bootstrap.min.css set `[hidden] { display: none !important; }`\n",
              "     so we also need the `!important` here to be able to override the\n",
              "     default hidden behavior on the sphinx rendered scikit-learn.org.\n",
              "     See: https://github.com/scikit-learn/scikit-learn/issues/21755 */\n",
              "  display: inline-block !important;\n",
              "  position: relative;\n",
              "}\n",
              "\n",
              "#sk-container-id-3 div.sk-text-repr-fallback {\n",
              "  display: none;\n",
              "}\n",
              "\n",
              "div.sk-parallel-item,\n",
              "div.sk-serial,\n",
              "div.sk-item {\n",
              "  /* draw centered vertical line to link estimators */\n",
              "  background-image: linear-gradient(var(--sklearn-color-text-on-default-background), var(--sklearn-color-text-on-default-background));\n",
              "  background-size: 2px 100%;\n",
              "  background-repeat: no-repeat;\n",
              "  background-position: center center;\n",
              "}\n",
              "\n",
              "/* Parallel-specific style estimator block */\n",
              "\n",
              "#sk-container-id-3 div.sk-parallel-item::after {\n",
              "  content: \"\";\n",
              "  width: 100%;\n",
              "  border-bottom: 2px solid var(--sklearn-color-text-on-default-background);\n",
              "  flex-grow: 1;\n",
              "}\n",
              "\n",
              "#sk-container-id-3 div.sk-parallel {\n",
              "  display: flex;\n",
              "  align-items: stretch;\n",
              "  justify-content: center;\n",
              "  background-color: var(--sklearn-color-background);\n",
              "  position: relative;\n",
              "}\n",
              "\n",
              "#sk-container-id-3 div.sk-parallel-item {\n",
              "  display: flex;\n",
              "  flex-direction: column;\n",
              "}\n",
              "\n",
              "#sk-container-id-3 div.sk-parallel-item:first-child::after {\n",
              "  align-self: flex-end;\n",
              "  width: 50%;\n",
              "}\n",
              "\n",
              "#sk-container-id-3 div.sk-parallel-item:last-child::after {\n",
              "  align-self: flex-start;\n",
              "  width: 50%;\n",
              "}\n",
              "\n",
              "#sk-container-id-3 div.sk-parallel-item:only-child::after {\n",
              "  width: 0;\n",
              "}\n",
              "\n",
              "/* Serial-specific style estimator block */\n",
              "\n",
              "#sk-container-id-3 div.sk-serial {\n",
              "  display: flex;\n",
              "  flex-direction: column;\n",
              "  align-items: center;\n",
              "  background-color: var(--sklearn-color-background);\n",
              "  padding-right: 1em;\n",
              "  padding-left: 1em;\n",
              "}\n",
              "\n",
              "\n",
              "/* Toggleable style: style used for estimator/Pipeline/ColumnTransformer box that is\n",
              "clickable and can be expanded/collapsed.\n",
              "- Pipeline and ColumnTransformer use this feature and define the default style\n",
              "- Estimators will overwrite some part of the style using the `sk-estimator` class\n",
              "*/\n",
              "\n",
              "/* Pipeline and ColumnTransformer style (default) */\n",
              "\n",
              "#sk-container-id-3 div.sk-toggleable {\n",
              "  /* Default theme specific background. It is overwritten whether we have a\n",
              "  specific estimator or a Pipeline/ColumnTransformer */\n",
              "  background-color: var(--sklearn-color-background);\n",
              "}\n",
              "\n",
              "/* Toggleable label */\n",
              "#sk-container-id-3 label.sk-toggleable__label {\n",
              "  cursor: pointer;\n",
              "  display: flex;\n",
              "  width: 100%;\n",
              "  margin-bottom: 0;\n",
              "  padding: 0.5em;\n",
              "  box-sizing: border-box;\n",
              "  text-align: center;\n",
              "  align-items: start;\n",
              "  justify-content: space-between;\n",
              "  gap: 0.5em;\n",
              "}\n",
              "\n",
              "#sk-container-id-3 label.sk-toggleable__label .caption {\n",
              "  font-size: 0.6rem;\n",
              "  font-weight: lighter;\n",
              "  color: var(--sklearn-color-text-muted);\n",
              "}\n",
              "\n",
              "#sk-container-id-3 label.sk-toggleable__label-arrow:before {\n",
              "  /* Arrow on the left of the label */\n",
              "  content: \"▸\";\n",
              "  float: left;\n",
              "  margin-right: 0.25em;\n",
              "  color: var(--sklearn-color-icon);\n",
              "}\n",
              "\n",
              "#sk-container-id-3 label.sk-toggleable__label-arrow:hover:before {\n",
              "  color: var(--sklearn-color-text);\n",
              "}\n",
              "\n",
              "/* Toggleable content - dropdown */\n",
              "\n",
              "#sk-container-id-3 div.sk-toggleable__content {\n",
              "  max-height: 0;\n",
              "  max-width: 0;\n",
              "  overflow: hidden;\n",
              "  text-align: left;\n",
              "  /* unfitted */\n",
              "  background-color: var(--sklearn-color-unfitted-level-0);\n",
              "}\n",
              "\n",
              "#sk-container-id-3 div.sk-toggleable__content.fitted {\n",
              "  /* fitted */\n",
              "  background-color: var(--sklearn-color-fitted-level-0);\n",
              "}\n",
              "\n",
              "#sk-container-id-3 div.sk-toggleable__content pre {\n",
              "  margin: 0.2em;\n",
              "  border-radius: 0.25em;\n",
              "  color: var(--sklearn-color-text);\n",
              "  /* unfitted */\n",
              "  background-color: var(--sklearn-color-unfitted-level-0);\n",
              "}\n",
              "\n",
              "#sk-container-id-3 div.sk-toggleable__content.fitted pre {\n",
              "  /* unfitted */\n",
              "  background-color: var(--sklearn-color-fitted-level-0);\n",
              "}\n",
              "\n",
              "#sk-container-id-3 input.sk-toggleable__control:checked~div.sk-toggleable__content {\n",
              "  /* Expand drop-down */\n",
              "  max-height: 200px;\n",
              "  max-width: 100%;\n",
              "  overflow: auto;\n",
              "}\n",
              "\n",
              "#sk-container-id-3 input.sk-toggleable__control:checked~label.sk-toggleable__label-arrow:before {\n",
              "  content: \"▾\";\n",
              "}\n",
              "\n",
              "/* Pipeline/ColumnTransformer-specific style */\n",
              "\n",
              "#sk-container-id-3 div.sk-label input.sk-toggleable__control:checked~label.sk-toggleable__label {\n",
              "  color: var(--sklearn-color-text);\n",
              "  background-color: var(--sklearn-color-unfitted-level-2);\n",
              "}\n",
              "\n",
              "#sk-container-id-3 div.sk-label.fitted input.sk-toggleable__control:checked~label.sk-toggleable__label {\n",
              "  background-color: var(--sklearn-color-fitted-level-2);\n",
              "}\n",
              "\n",
              "/* Estimator-specific style */\n",
              "\n",
              "/* Colorize estimator box */\n",
              "#sk-container-id-3 div.sk-estimator input.sk-toggleable__control:checked~label.sk-toggleable__label {\n",
              "  /* unfitted */\n",
              "  background-color: var(--sklearn-color-unfitted-level-2);\n",
              "}\n",
              "\n",
              "#sk-container-id-3 div.sk-estimator.fitted input.sk-toggleable__control:checked~label.sk-toggleable__label {\n",
              "  /* fitted */\n",
              "  background-color: var(--sklearn-color-fitted-level-2);\n",
              "}\n",
              "\n",
              "#sk-container-id-3 div.sk-label label.sk-toggleable__label,\n",
              "#sk-container-id-3 div.sk-label label {\n",
              "  /* The background is the default theme color */\n",
              "  color: var(--sklearn-color-text-on-default-background);\n",
              "}\n",
              "\n",
              "/* On hover, darken the color of the background */\n",
              "#sk-container-id-3 div.sk-label:hover label.sk-toggleable__label {\n",
              "  color: var(--sklearn-color-text);\n",
              "  background-color: var(--sklearn-color-unfitted-level-2);\n",
              "}\n",
              "\n",
              "/* Label box, darken color on hover, fitted */\n",
              "#sk-container-id-3 div.sk-label.fitted:hover label.sk-toggleable__label.fitted {\n",
              "  color: var(--sklearn-color-text);\n",
              "  background-color: var(--sklearn-color-fitted-level-2);\n",
              "}\n",
              "\n",
              "/* Estimator label */\n",
              "\n",
              "#sk-container-id-3 div.sk-label label {\n",
              "  font-family: monospace;\n",
              "  font-weight: bold;\n",
              "  display: inline-block;\n",
              "  line-height: 1.2em;\n",
              "}\n",
              "\n",
              "#sk-container-id-3 div.sk-label-container {\n",
              "  text-align: center;\n",
              "}\n",
              "\n",
              "/* Estimator-specific */\n",
              "#sk-container-id-3 div.sk-estimator {\n",
              "  font-family: monospace;\n",
              "  border: 1px dotted var(--sklearn-color-border-box);\n",
              "  border-radius: 0.25em;\n",
              "  box-sizing: border-box;\n",
              "  margin-bottom: 0.5em;\n",
              "  /* unfitted */\n",
              "  background-color: var(--sklearn-color-unfitted-level-0);\n",
              "}\n",
              "\n",
              "#sk-container-id-3 div.sk-estimator.fitted {\n",
              "  /* fitted */\n",
              "  background-color: var(--sklearn-color-fitted-level-0);\n",
              "}\n",
              "\n",
              "/* on hover */\n",
              "#sk-container-id-3 div.sk-estimator:hover {\n",
              "  /* unfitted */\n",
              "  background-color: var(--sklearn-color-unfitted-level-2);\n",
              "}\n",
              "\n",
              "#sk-container-id-3 div.sk-estimator.fitted:hover {\n",
              "  /* fitted */\n",
              "  background-color: var(--sklearn-color-fitted-level-2);\n",
              "}\n",
              "\n",
              "/* Specification for estimator info (e.g. \"i\" and \"?\") */\n",
              "\n",
              "/* Common style for \"i\" and \"?\" */\n",
              "\n",
              ".sk-estimator-doc-link,\n",
              "a:link.sk-estimator-doc-link,\n",
              "a:visited.sk-estimator-doc-link {\n",
              "  float: right;\n",
              "  font-size: smaller;\n",
              "  line-height: 1em;\n",
              "  font-family: monospace;\n",
              "  background-color: var(--sklearn-color-background);\n",
              "  border-radius: 1em;\n",
              "  height: 1em;\n",
              "  width: 1em;\n",
              "  text-decoration: none !important;\n",
              "  margin-left: 0.5em;\n",
              "  text-align: center;\n",
              "  /* unfitted */\n",
              "  border: var(--sklearn-color-unfitted-level-1) 1pt solid;\n",
              "  color: var(--sklearn-color-unfitted-level-1);\n",
              "}\n",
              "\n",
              ".sk-estimator-doc-link.fitted,\n",
              "a:link.sk-estimator-doc-link.fitted,\n",
              "a:visited.sk-estimator-doc-link.fitted {\n",
              "  /* fitted */\n",
              "  border: var(--sklearn-color-fitted-level-1) 1pt solid;\n",
              "  color: var(--sklearn-color-fitted-level-1);\n",
              "}\n",
              "\n",
              "/* On hover */\n",
              "div.sk-estimator:hover .sk-estimator-doc-link:hover,\n",
              ".sk-estimator-doc-link:hover,\n",
              "div.sk-label-container:hover .sk-estimator-doc-link:hover,\n",
              ".sk-estimator-doc-link:hover {\n",
              "  /* unfitted */\n",
              "  background-color: var(--sklearn-color-unfitted-level-3);\n",
              "  color: var(--sklearn-color-background);\n",
              "  text-decoration: none;\n",
              "}\n",
              "\n",
              "div.sk-estimator.fitted:hover .sk-estimator-doc-link.fitted:hover,\n",
              ".sk-estimator-doc-link.fitted:hover,\n",
              "div.sk-label-container:hover .sk-estimator-doc-link.fitted:hover,\n",
              ".sk-estimator-doc-link.fitted:hover {\n",
              "  /* fitted */\n",
              "  background-color: var(--sklearn-color-fitted-level-3);\n",
              "  color: var(--sklearn-color-background);\n",
              "  text-decoration: none;\n",
              "}\n",
              "\n",
              "/* Span, style for the box shown on hovering the info icon */\n",
              ".sk-estimator-doc-link span {\n",
              "  display: none;\n",
              "  z-index: 9999;\n",
              "  position: relative;\n",
              "  font-weight: normal;\n",
              "  right: .2ex;\n",
              "  padding: .5ex;\n",
              "  margin: .5ex;\n",
              "  width: min-content;\n",
              "  min-width: 20ex;\n",
              "  max-width: 50ex;\n",
              "  color: var(--sklearn-color-text);\n",
              "  box-shadow: 2pt 2pt 4pt #999;\n",
              "  /* unfitted */\n",
              "  background: var(--sklearn-color-unfitted-level-0);\n",
              "  border: .5pt solid var(--sklearn-color-unfitted-level-3);\n",
              "}\n",
              "\n",
              ".sk-estimator-doc-link.fitted span {\n",
              "  /* fitted */\n",
              "  background: var(--sklearn-color-fitted-level-0);\n",
              "  border: var(--sklearn-color-fitted-level-3);\n",
              "}\n",
              "\n",
              ".sk-estimator-doc-link:hover span {\n",
              "  display: block;\n",
              "}\n",
              "\n",
              "/* \"?\"-specific style due to the `<a>` HTML tag */\n",
              "\n",
              "#sk-container-id-3 a.estimator_doc_link {\n",
              "  float: right;\n",
              "  font-size: 1rem;\n",
              "  line-height: 1em;\n",
              "  font-family: monospace;\n",
              "  background-color: var(--sklearn-color-background);\n",
              "  border-radius: 1rem;\n",
              "  height: 1rem;\n",
              "  width: 1rem;\n",
              "  text-decoration: none;\n",
              "  /* unfitted */\n",
              "  color: var(--sklearn-color-unfitted-level-1);\n",
              "  border: var(--sklearn-color-unfitted-level-1) 1pt solid;\n",
              "}\n",
              "\n",
              "#sk-container-id-3 a.estimator_doc_link.fitted {\n",
              "  /* fitted */\n",
              "  border: var(--sklearn-color-fitted-level-1) 1pt solid;\n",
              "  color: var(--sklearn-color-fitted-level-1);\n",
              "}\n",
              "\n",
              "/* On hover */\n",
              "#sk-container-id-3 a.estimator_doc_link:hover {\n",
              "  /* unfitted */\n",
              "  background-color: var(--sklearn-color-unfitted-level-3);\n",
              "  color: var(--sklearn-color-background);\n",
              "  text-decoration: none;\n",
              "}\n",
              "\n",
              "#sk-container-id-3 a.estimator_doc_link.fitted:hover {\n",
              "  /* fitted */\n",
              "  background-color: var(--sklearn-color-fitted-level-3);\n",
              "}\n",
              "</style><div id=\"sk-container-id-3\" class=\"sk-top-container\"><div class=\"sk-text-repr-fallback\"><pre>RandomForestClassifier(class_weight=&#x27;balanced&#x27;, random_state=42)</pre><b>In a Jupyter environment, please rerun this cell to show the HTML representation or trust the notebook. <br />On GitHub, the HTML representation is unable to render, please try loading this page with nbviewer.org.</b></div><div class=\"sk-container\" hidden><div class=\"sk-item\"><div class=\"sk-estimator fitted sk-toggleable\"><input class=\"sk-toggleable__control sk-hidden--visually\" id=\"sk-estimator-id-3\" type=\"checkbox\" checked><label for=\"sk-estimator-id-3\" class=\"sk-toggleable__label fitted sk-toggleable__label-arrow\"><div><div>RandomForestClassifier</div></div><div><a class=\"sk-estimator-doc-link fitted\" rel=\"noreferrer\" target=\"_blank\" href=\"https://scikit-learn.org/1.6/modules/generated/sklearn.ensemble.RandomForestClassifier.html\">?<span>Documentation for RandomForestClassifier</span></a><span class=\"sk-estimator-doc-link fitted\">i<span>Fitted</span></span></div></label><div class=\"sk-toggleable__content fitted\"><pre>RandomForestClassifier(class_weight=&#x27;balanced&#x27;, random_state=42)</pre></div> </div></div></div></div>"
            ],
            "text/plain": [
              "RandomForestClassifier(class_weight='balanced', random_state=42)"
            ]
          },
          "execution_count": 68,
          "metadata": {},
          "output_type": "execute_result"
        }
      ],
      "source": [
        "# Building the model\n",
        "rf_glovec_base = RandomForestClassifier(class_weight= \"balanced\",random_state = 42)\n",
        "\n",
        "# Fitting on train data\n",
        "rf_glovec_base.fit(X_train_glove, y_train_enc_glove)"
      ]
    },
    {
      "cell_type": "code",
      "execution_count": 69,
      "metadata": {
        "id": "TYEs1EooU_96"
      },
      "outputs": [],
      "source": [
        "# Predicting on train data\n",
        "y_pred_train_base_gl = rf_glovec_base.predict(X_train_glove)\n",
        "\n",
        "# Predicting on test data\n",
        "y_pred_test_base_gl = rf_glovec_base.predict(X_test_glove)"
      ]
    },
    {
      "cell_type": "code",
      "execution_count": 70,
      "metadata": {
        "colab": {
          "base_uri": "https://localhost:8080/",
          "height": 496
        },
        "id": "F1tlZCgJU_7X",
        "outputId": "0b6cbb21-17f9-4d32-ca7d-81d5f69b9c79"
      },
      "outputs": [
        {
          "data": {
            "image/png": "[encoded data removed]",
            "text/plain": [
              "<Figure size 500x400 with 2 Axes>"
            ]
          },
          "metadata": {},
          "output_type": "display_data"
        }
      ],
      "source": [
        "plot_confusion_matrix(y_train_enc_glove, y_pred_train_base_gl)"
      ]
    },
    {
      "cell_type": "code",
      "execution_count": 71,
      "metadata": {
        "colab": {
          "base_uri": "https://localhost:8080/",
          "height": 496
        },
        "id": "HOAzfuoKU_5D",
        "outputId": "1984f427-a0f4-44fc-e2fb-f5d19251dad5"
      },
      "outputs": [
        {
          "data": {
            "image/png": "[encoded data removed]",
            "text/plain": [
              "<Figure size 500x400 with 2 Axes>"
            ]
          },
          "metadata": {},
          "output_type": "display_data"
        }
      ],
      "source": [
        "plot_confusion_matrix(y_test_enc_glove, y_pred_test_base_gl)"
      ]
    },
    {
      "cell_type": "code",
      "execution_count": 72,
      "metadata": {
        "colab": {
          "base_uri": "https://localhost:8080/"
        },
        "id": "FhqrDUC8WCec",
        "outputId": "0ebd4f54-0fe6-4f4b-bf11-b34b808fd32e"
      },
      "outputs": [
        {
          "name": "stdout",
          "output_type": "stream",
          "text": [
            "Training performance:\n",
            "    Accuracy  Recall  Precision   F1\n",
            "0       1.0     1.0        1.0  1.0\n"
          ]
        }
      ],
      "source": [
        "#Calculating different metrics on training data\n",
        "glove_base_train=model_performance_classification_sklearn(rf_glovec_base, X_train_glove,y_train_enc_glove)\n",
        "print(\"Training performance:\\n\", glove_base_train)"
      ]
    },
    {
      "cell_type": "code",
      "execution_count": 73,
      "metadata": {
        "colab": {
          "base_uri": "https://localhost:8080/"
        },
        "id": "-qqF7_NOWCWR",
        "outputId": "5f16c180-706d-46c3-90fc-b964ccf4e6c0"
      },
      "outputs": [
        {
          "name": "stdout",
          "output_type": "stream",
          "text": [
            "Testing performance:\n",
            "    Accuracy    Recall  Precision        F1\n",
            "0  0.914622  0.914622   0.910981  0.900206\n"
          ]
        }
      ],
      "source": [
        "#Calculating different metrics on training data\n",
        "glove_base_test=model_performance_classification_sklearn(rf_glovec_base, X_test_glove,y_test_enc_glove)\n",
        "print(\"Testing performance:\\n\", glove_base_test)"
      ]
    },
    {
      "cell_type": "markdown",
      "metadata": {
        "id": "4rUKo0qOWkzw"
      },
      "source": [
        "#### RF model with Grid Search"
      ]
    },
    {
      "cell_type": "code",
      "execution_count": null,
      "metadata": {
        "colab": {
          "base_uri": "https://localhost:8080/",
          "height": 148
        },
        "id": "OSGGIYLJWSy1",
        "outputId": "2980cdc8-18e1-4af7-bbb0-a39e44c30e52"
      },
      "outputs": [],
      "source": [
        "# Choose the type of classifier.\n",
        "glove_rf_tuned = RandomForestClassifier(class_weight= \"balanced\",random_state=1,bootstrap=True)\n",
        "\n",
        "parameters = {\n",
        "    'max_depth': list(np.arange(5,10,2)),\n",
        "    'n_estimators': np.arange(50,110,25),\n",
        "    'max_features': [0.3,0.4]\n",
        "}\n",
        "\n",
        "# Run the grid search\n",
        "grid_obj = GridSearchCV(glove_rf_tuned, parameters, scoring='recall',cv=5,n_jobs=-1)\n",
        "grid_obj = grid_obj.fit(X_train_glove, y_train_enc_glove)\n",
        "\n",
        "# Set the clf to the best combination of parameters\n",
        "glove_rf_tuned = grid_obj.best_estimator_\n",
        "\n",
        "# Fit the best algorithm to the data.\n",
        "glove_rf_tuned.fit(X_train_glove, y_train_enc_glove)"
      ]
    },
    {
      "cell_type": "code",
      "execution_count": 75,
      "metadata": {
        "id": "QkEuVpGeWSwg"
      },
      "outputs": [],
      "source": [
        "# Predicting on train data\n",
        "y_pred_train_tuned_gl = glove_rf_tuned.predict(X_train_glove)\n",
        "\n",
        "# Predicting on test data\n",
        "y_pred_test_tuned_gl = glove_rf_tuned.predict(X_test_glove)"
      ]
    },
    {
      "cell_type": "code",
      "execution_count": 76,
      "metadata": {
        "colab": {
          "base_uri": "https://localhost:8080/",
          "height": 496
        },
        "id": "T6sIN7rsWSuI",
        "outputId": "933d1895-260e-4a9f-d777-e80720d45f0a"
      },
      "outputs": [
        {
          "data": {
            "image/png": "[encoded data removed]",
            "text/plain": [
              "<Figure size 500x400 with 2 Axes>"
            ]
          },
          "metadata": {},
          "output_type": "display_data"
        }
      ],
      "source": [
        "plot_confusion_matrix(y_train_enc_glove, y_pred_train_tuned_gl)"
      ]
    },
    {
      "cell_type": "code",
      "execution_count": 77,
      "metadata": {
        "colab": {
          "base_uri": "https://localhost:8080/",
          "height": 496
        },
        "id": "4rxJPcwzXLat",
        "outputId": "1110defd-ab4d-4147-a0a8-b68baa01a5bd"
      },
      "outputs": [
        {
          "data": {
            "image/png": "[encoded data removed]",
            "text/plain": [
              "<Figure size 500x400 with 2 Axes>"
            ]
          },
          "metadata": {},
          "output_type": "display_data"
        }
      ],
      "source": [
        "plot_confusion_matrix(y_test_enc_glove, y_pred_test_tuned_gl)"
      ]
    },
    {
      "cell_type": "code",
      "execution_count": 78,
      "metadata": {
        "colab": {
          "base_uri": "https://localhost:8080/"
        },
        "id": "KYu9fqm9XLXY",
        "outputId": "5bcf6a8d-572f-471d-faf9-d89452ecf27a"
      },
      "outputs": [
        {
          "name": "stdout",
          "output_type": "stream",
          "text": [
            "Training performance:\n",
            "    Accuracy    Recall  Precision        F1\n",
            "0  0.879293  0.879293   0.901158  0.885613\n"
          ]
        }
      ],
      "source": [
        "#Calculating different metrics on training data\n",
        "glove_tuned_train=model_performance_classification_sklearn(glove_rf_tuned, X_train_glove,y_train_enc_glove)\n",
        "print(\"Training performance:\\n\", glove_tuned_train)"
      ]
    },
    {
      "cell_type": "code",
      "execution_count": 79,
      "metadata": {
        "colab": {
          "base_uri": "https://localhost:8080/"
        },
        "id": "yVlXybBPXLU9",
        "outputId": "1d6bfbaa-6ef0-4b16-e3d1-2905446f386c"
      },
      "outputs": [
        {
          "name": "stdout",
          "output_type": "stream",
          "text": [
            "Testing performance:\n",
            "    Accuracy    Recall  Precision        F1\n",
            "0  0.860648  0.860648   0.880303  0.867467\n"
          ]
        }
      ],
      "source": [
        "#Calculating different metrics on training data\n",
        "glove_tuned_test=model_performance_classification_sklearn(glove_rf_tuned, X_test_glove,y_test_enc_glove)\n",
        "print(\"Testing performance:\\n\", glove_tuned_test)"
      ]
    },
    {
      "cell_type": "markdown",
      "metadata": {
        "id": "DrphT98WvIRu"
      },
      "source": [
        "## Model Comparison and Final Model Selection"
      ]
    },
    {
      "cell_type": "code",
      "execution_count": 80,
      "metadata": {
        "colab": {
          "base_uri": "https://localhost:8080/",
          "height": 193
        },
        "id": "fMM4R8A0XiSk",
        "outputId": "77e6784f-a114-4ac1-90a1-bf1f701ee83d"
      },
      "outputs": [
        {
          "name": "stdout",
          "output_type": "stream",
          "text": [
            "Training performance comparison:\n"
          ]
        },
        {
          "data": {
            "text/html": [
              "<div>\n",
              "<style scoped>\n",
              "    .dataframe tbody tr th:only-of-type {\n",
              "        vertical-align: middle;\n",
              "    }\n",
              "\n",
              "    .dataframe tbody tr th {\n",
              "        vertical-align: top;\n",
              "    }\n",
              "\n",
              "    .dataframe thead th {\n",
              "        text-align: right;\n",
              "    }\n",
              "</style>\n",
              "<table border=\"1\" class=\"dataframe\">\n",
              "  <thead>\n",
              "    <tr style=\"text-align: right;\">\n",
              "      <th></th>\n",
              "      <th>Word2vec - Base RF Model</th>\n",
              "      <th>Word2vec - RF with Grid Search</th>\n",
              "      <th>GloVe - Base RF Model</th>\n",
              "      <th>GloVe - RF with Grid Search</th>\n",
              "    </tr>\n",
              "  </thead>\n",
              "  <tbody>\n",
              "    <tr>\n",
              "      <th>Accuracy</th>\n",
              "      <td>1.0</td>\n",
              "      <td>0.889761</td>\n",
              "      <td>1.0</td>\n",
              "      <td>0.879293</td>\n",
              "    </tr>\n",
              "    <tr>\n",
              "      <th>Recall</th>\n",
              "      <td>1.0</td>\n",
              "      <td>0.889761</td>\n",
              "      <td>1.0</td>\n",
              "      <td>0.879293</td>\n",
              "    </tr>\n",
              "    <tr>\n",
              "      <th>Precision</th>\n",
              "      <td>1.0</td>\n",
              "      <td>0.932771</td>\n",
              "      <td>1.0</td>\n",
              "      <td>0.901158</td>\n",
              "    </tr>\n",
              "    <tr>\n",
              "      <th>F1</th>\n",
              "      <td>1.0</td>\n",
              "      <td>0.903204</td>\n",
              "      <td>1.0</td>\n",
              "      <td>0.885613</td>\n",
              "    </tr>\n",
              "  </tbody>\n",
              "</table>\n",
              "</div>"
            ],
            "text/plain": [
              "           Word2vec - Base RF Model  Word2vec - RF with Grid Search  \\\n",
              "Accuracy                        1.0                        0.889761   \n",
              "Recall                          1.0                        0.889761   \n",
              "Precision                       1.0                        0.932771   \n",
              "F1                              1.0                        0.903204   \n",
              "\n",
              "           GloVe - Base RF Model  GloVe - RF with Grid Search  \n",
              "Accuracy                     1.0                     0.879293  \n",
              "Recall                       1.0                     0.879293  \n",
              "Precision                    1.0                     0.901158  \n",
              "F1                           1.0                     0.885613  "
            ]
          },
          "execution_count": 80,
          "metadata": {},
          "output_type": "execute_result"
        }
      ],
      "source": [
        "# training performance comparison\n",
        "\n",
        "models_train_comp_df = pd.concat(\n",
        "    [word2vec_base_train.T,word2vec_tuned_train.T,glove_base_train.T,glove_tuned_train.T],\n",
        "    axis=1,\n",
        ")\n",
        "models_train_comp_df.columns = [\n",
        "    \"Word2vec - Base RF Model\",\n",
        "    \"Word2vec - RF with Grid Search\",\n",
        "    \"GloVe - Base RF Model\",\n",
        "    \"GloVe - RF with Grid Search\"]\n",
        "print(\"Training performance comparison:\")\n",
        "\n",
        "models_train_comp_df"
      ]
    },
    {
      "cell_type": "code",
      "execution_count": 81,
      "metadata": {
        "colab": {
          "base_uri": "https://localhost:8080/",
          "height": 193
        },
        "id": "S-Dm3kiDY3wB",
        "outputId": "08e388b1-b990-44aa-93dd-98dd83e83e4b"
      },
      "outputs": [
        {
          "name": "stdout",
          "output_type": "stream",
          "text": [
            "Testing performance comparison:\n"
          ]
        },
        {
          "data": {
            "text/html": [
              "<div>\n",
              "<style scoped>\n",
              "    .dataframe tbody tr th:only-of-type {\n",
              "        vertical-align: middle;\n",
              "    }\n",
              "\n",
              "    .dataframe tbody tr th {\n",
              "        vertical-align: top;\n",
              "    }\n",
              "\n",
              "    .dataframe thead th {\n",
              "        text-align: right;\n",
              "    }\n",
              "</style>\n",
              "<table border=\"1\" class=\"dataframe\">\n",
              "  <thead>\n",
              "    <tr style=\"text-align: right;\">\n",
              "      <th></th>\n",
              "      <th>Word2vec - Base RF Model</th>\n",
              "      <th>Word2vec - RF with Grid Search</th>\n",
              "      <th>GloVe - Base RF Model</th>\n",
              "      <th>GloVe - RF with Grid Search</th>\n",
              "    </tr>\n",
              "  </thead>\n",
              "  <tbody>\n",
              "    <tr>\n",
              "      <th>Accuracy</th>\n",
              "      <td>0.911678</td>\n",
              "      <td>0.844946</td>\n",
              "      <td>0.914622</td>\n",
              "      <td>0.860648</td>\n",
              "    </tr>\n",
              "    <tr>\n",
              "      <th>Recall</th>\n",
              "      <td>0.911678</td>\n",
              "      <td>0.844946</td>\n",
              "      <td>0.914622</td>\n",
              "      <td>0.860648</td>\n",
              "    </tr>\n",
              "    <tr>\n",
              "      <th>Precision</th>\n",
              "      <td>0.907182</td>\n",
              "      <td>0.894901</td>\n",
              "      <td>0.910981</td>\n",
              "      <td>0.880303</td>\n",
              "    </tr>\n",
              "    <tr>\n",
              "      <th>F1</th>\n",
              "      <td>0.890945</td>\n",
              "      <td>0.860932</td>\n",
              "      <td>0.900206</td>\n",
              "      <td>0.867467</td>\n",
              "    </tr>\n",
              "  </tbody>\n",
              "</table>\n",
              "</div>"
            ],
            "text/plain": [
              "           Word2vec - Base RF Model  Word2vec - RF with Grid Search  \\\n",
              "Accuracy                   0.911678                        0.844946   \n",
              "Recall                     0.911678                        0.844946   \n",
              "Precision                  0.907182                        0.894901   \n",
              "F1                         0.890945                        0.860932   \n",
              "\n",
              "           GloVe - Base RF Model  GloVe - RF with Grid Search  \n",
              "Accuracy                0.914622                     0.860648  \n",
              "Recall                  0.914622                     0.860648  \n",
              "Precision               0.910981                     0.880303  \n",
              "F1                      0.900206                     0.867467  "
            ]
          },
          "execution_count": 81,
          "metadata": {},
          "output_type": "execute_result"
        }
      ],
      "source": [
        "# training performance comparison\n",
        "\n",
        "models_test_comp_df = pd.concat(\n",
        "    [word2vec_base_test.T,word2vec_tuned_test.T,glove_base_test.T,glove_tuned_test.T],\n",
        "    axis=1,\n",
        ")\n",
        "models_test_comp_df.columns = [\n",
        "    \"Word2vec - Base RF Model\",\n",
        "    \"Word2vec - RF with Grid Search\",\n",
        "    \"GloVe - Base RF Model\",\n",
        "    \"GloVe - RF with Grid Search\"]\n",
        "print(\"Testing performance comparison:\")\n",
        "\n",
        "models_test_comp_df"
      ]
    },
    {
      "cell_type": "markdown",
      "metadata": {
        "id": "jXwwKO9zuu3G"
      },
      "source": [
        "* From the above two metric tables, we can observe that **Word2vec - RF with Grid Search** model is giving generalized results."
      ]
    },
    {
      "cell_type": "code",
      "execution_count": 82,
      "metadata": {
        "colab": {
          "base_uri": "https://localhost:8080/"
        },
        "id": "ZcdNcep43-rI",
        "outputId": "864ced44-ea0b-4f92-ee23-cd0116b41dc7"
      },
      "outputs": [
        {
          "name": "stdout",
          "output_type": "stream",
          "text": [
            "               precision    recall  f1-score   support\n",
            "\n",
            "     business       0.34      0.77      0.47        35\n",
            "entertainment       0.48      0.53      0.50        19\n",
            "       health       0.21      0.54      0.30        13\n",
            "         news       0.91      0.73      0.81       405\n",
            "     politics       0.45      0.85      0.59        26\n",
            "        sport       0.98      0.96      0.97       521\n",
            "\n",
            "     accuracy                           0.84      1019\n",
            "    macro avg       0.56      0.73      0.61      1019\n",
            " weighted avg       0.89      0.84      0.86      1019\n",
            "\n"
          ]
        }
      ],
      "source": [
        "label_list = encoder.classes_.tolist()\n",
        "print(classification_report(y_test_enc, y_pred_test_tuned, target_names=label_list))"
      ]
    },
    {
      "cell_type": "markdown",
      "metadata": {
        "id": "POiZVSfrpmRf"
      },
      "source": [
        "## Conclusion"
      ]
    },
    {
      "cell_type": "markdown",
      "metadata": {
        "id": "-aetabA3poIq"
      },
      "source": [
        "- We analyzed the distribution of categories of the article.\n",
        "\n",
        "- We used different text processing techniques to clean the raw text data.\n",
        "\n",
        "- We then built ML models (Random Forest) with the word embeddings created using Word2vec and GloVe.\n",
        "\n",
        "- We then tuned the ML models built using GridSearch to improve the performance"
      ]
    },
    {
      "cell_type": "markdown",
      "metadata": {
        "id": "kEXtBjG_oYwj"
      },
      "source": [
        "- The tuned Random Forest model using Word2vec embeddings is taken as our final model as it has a good performance overall (86\\% accuracy and 86\\% recall).\n",
        "    - The model can be tuned further or a different model can be trained to model the data better.\n",
        "\n",
        "- The company can deploy this model to categorize future articles based on the article text.\n",
        "\n",
        "- The model does well in the sports, politics, news, and business categories. This coincides with the categories where the number of training and testing samples were higher in number.\n",
        "\n",
        "- The model does not do very well in the entertainment and health categories as there aren't many training samples available here.\n",
        "    - The company can collect more samples of these categories and retrain the model to get a better prediction."
      ]
    },
    {
      "cell_type": "markdown",
      "metadata": {
        "id": "G2Lw8akCLT9c"
      },
      "source": [
        "<font size=6 color='blue'>Power Ahead</font>\n",
        "___"
      ]
    }
  ],
  "metadata": {
    "accelerator": "GPU",
    "colab": {
      "collapsed_sections": [
        "MjncuDf2qugI",
        "x9VSf2D_F5iU",
        "MzSKXh2LsOvd",
        "saFx1pbT_zTP",
        "tqfNqaJCQeEE",
        "fantastic-rebel",
        "vvlzvKeqAH-i",
        "cIH4md8nAL4v",
        "NuWYF7W_AQx_",
        "EBuO6NvsAT1k",
        "lIICk5hF_xW7",
        "kUJ_B5KxhU3D",
        "Yzi68_PYAlof",
        "akIOIRhfbvG8",
        "gnPICJ-WbvHD",
        "gwLKrCYpAyyh",
        "ZCM6avoA39FB",
        "If-ARLxSFAHM",
        "01_KoswobW9D",
        "4IUBFAOTbjju",
        "ldBJrHYXcSJD",
        "f4lwYN5bYmHp",
        "_TYy1g3ShksM",
        "R0bCBGK5Tcxa",
        "iLS7b3bWNkKs",
        "0vgMuXQwklFw",
        "aeNmBOKAU8Py",
        "4rUKo0qOWkzw",
        "DrphT98WvIRu",
        "POiZVSfrpmRf"
      ],
      "provenance": []
    },
    "kernelspec": {
      "display_name": ".venv",
      "language": "python",
      "name": "python3"
    },
    "language_info": {
      "codemirror_mode": {
        "name": "ipython",
        "version": 3
      },
      "file_extension": ".py",
      "mimetype": "text/x-python",
      "name": "python",
      "nbconvert_exporter": "python",
      "pygments_lexer": "ipython3",
      "version": "3.12.0"
    }
  },
  "nbformat": 4,
  "nbformat_minor": 0
}
